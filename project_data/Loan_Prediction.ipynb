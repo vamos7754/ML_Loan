{
 "cells": [
  {
   "cell_type": "markdown",
   "id": "2bdb53f3",
   "metadata": {},
   "source": [
    "# Problem Statement"
   ]
  },
  {
   "cell_type": "raw",
   "id": "10ad0d21",
   "metadata": {},
   "source": [
    "To check if the person has defaulted in paying his installmets based on the various parameters."
   ]
  },
  {
   "cell_type": "markdown",
   "id": "78c434e5",
   "metadata": {},
   "source": [
    "# Import all Relevant Libraries"
   ]
  },
  {
   "cell_type": "code",
   "execution_count": 1,
   "id": "3125f910",
   "metadata": {},
   "outputs": [],
   "source": [
    "import numpy as np\n",
    "import pandas as pd\n",
    "import matplotlib.pyplot as plt\n",
    "import seaborn as sns\n",
    "sns.set()\n",
    "\n",
    "from sklearn.linear_model import LogisticRegression\n",
    "from sklearn.neighbors import KNeighborsClassifier\n",
    "from sklearn.tree import DecisionTreeClassifier\n",
    "from sklearn.ensemble import RandomForestClassifier\n",
    "from sklearn.preprocessing import MinMaxScaler,StandardScaler\n",
    "from sklearn.model_selection import train_test_split,GridSearchCV,RandomizedSearchCV\n",
    "from sklearn.metrics import confusion_matrix,classification_report,accuracy_score,roc_auc_score,roc_curve,auc\n",
    "from sklearn.metrics import recall_score,accuracy_score,f1_score,precision_score\n",
    "from sklearn.impute import KNNImputer\n",
    "from imblearn.over_sampling import SMOTE,RandomOverSampler\n",
    "from imblearn.under_sampling import RandomUnderSampler\n",
    "from scipy.stats import zscore,skew\n",
    "\n",
    "import json\n",
    "import pickle\n",
    "import warnings\n",
    "warnings.filterwarnings('ignore')"
   ]
  },
  {
   "cell_type": "markdown",
   "id": "c72d86ff",
   "metadata": {},
   "source": [
    "# Load the Data"
   ]
  },
  {
   "cell_type": "code",
   "execution_count": 2,
   "id": "13609162",
   "metadata": {},
   "outputs": [
    {
     "data": {
      "text/html": [
       "<div>\n",
       "<style scoped>\n",
       "    .dataframe tbody tr th:only-of-type {\n",
       "        vertical-align: middle;\n",
       "    }\n",
       "\n",
       "    .dataframe tbody tr th {\n",
       "        vertical-align: top;\n",
       "    }\n",
       "\n",
       "    .dataframe thead th {\n",
       "        text-align: right;\n",
       "    }\n",
       "</style>\n",
       "<table border=\"1\" class=\"dataframe\">\n",
       "  <thead>\n",
       "    <tr style=\"text-align: right;\">\n",
       "      <th></th>\n",
       "      <th>credit.policy</th>\n",
       "      <th>purpose</th>\n",
       "      <th>int.rate</th>\n",
       "      <th>installment</th>\n",
       "      <th>log.annual.inc</th>\n",
       "      <th>dti</th>\n",
       "      <th>fico</th>\n",
       "      <th>days.with.cr.line</th>\n",
       "      <th>revol.bal</th>\n",
       "      <th>revol.util</th>\n",
       "      <th>inq.last.6mths</th>\n",
       "      <th>delinq.2yrs</th>\n",
       "      <th>pub.rec</th>\n",
       "      <th>not.fully.paid</th>\n",
       "    </tr>\n",
       "  </thead>\n",
       "  <tbody>\n",
       "    <tr>\n",
       "      <th>0</th>\n",
       "      <td>1</td>\n",
       "      <td>debt_consolidation</td>\n",
       "      <td>0.1189</td>\n",
       "      <td>829.10</td>\n",
       "      <td>11.350407</td>\n",
       "      <td>19.48</td>\n",
       "      <td>737</td>\n",
       "      <td>5639.958333</td>\n",
       "      <td>28854</td>\n",
       "      <td>52.1</td>\n",
       "      <td>0</td>\n",
       "      <td>0</td>\n",
       "      <td>0</td>\n",
       "      <td>0</td>\n",
       "    </tr>\n",
       "    <tr>\n",
       "      <th>1</th>\n",
       "      <td>1</td>\n",
       "      <td>credit_card</td>\n",
       "      <td>0.1071</td>\n",
       "      <td>228.22</td>\n",
       "      <td>11.082143</td>\n",
       "      <td>14.29</td>\n",
       "      <td>707</td>\n",
       "      <td>2760.000000</td>\n",
       "      <td>33623</td>\n",
       "      <td>76.7</td>\n",
       "      <td>0</td>\n",
       "      <td>0</td>\n",
       "      <td>0</td>\n",
       "      <td>0</td>\n",
       "    </tr>\n",
       "    <tr>\n",
       "      <th>2</th>\n",
       "      <td>1</td>\n",
       "      <td>debt_consolidation</td>\n",
       "      <td>0.1357</td>\n",
       "      <td>366.86</td>\n",
       "      <td>10.373491</td>\n",
       "      <td>11.63</td>\n",
       "      <td>682</td>\n",
       "      <td>4710.000000</td>\n",
       "      <td>3511</td>\n",
       "      <td>25.6</td>\n",
       "      <td>1</td>\n",
       "      <td>0</td>\n",
       "      <td>0</td>\n",
       "      <td>0</td>\n",
       "    </tr>\n",
       "    <tr>\n",
       "      <th>3</th>\n",
       "      <td>1</td>\n",
       "      <td>debt_consolidation</td>\n",
       "      <td>0.1008</td>\n",
       "      <td>162.34</td>\n",
       "      <td>11.350407</td>\n",
       "      <td>8.10</td>\n",
       "      <td>712</td>\n",
       "      <td>2699.958333</td>\n",
       "      <td>33667</td>\n",
       "      <td>73.2</td>\n",
       "      <td>1</td>\n",
       "      <td>0</td>\n",
       "      <td>0</td>\n",
       "      <td>0</td>\n",
       "    </tr>\n",
       "    <tr>\n",
       "      <th>4</th>\n",
       "      <td>1</td>\n",
       "      <td>credit_card</td>\n",
       "      <td>0.1426</td>\n",
       "      <td>102.92</td>\n",
       "      <td>11.299732</td>\n",
       "      <td>14.97</td>\n",
       "      <td>667</td>\n",
       "      <td>4066.000000</td>\n",
       "      <td>4740</td>\n",
       "      <td>39.5</td>\n",
       "      <td>0</td>\n",
       "      <td>1</td>\n",
       "      <td>0</td>\n",
       "      <td>0</td>\n",
       "    </tr>\n",
       "  </tbody>\n",
       "</table>\n",
       "</div>"
      ],
      "text/plain": [
       "   credit.policy             purpose  int.rate  installment  log.annual.inc  \\\n",
       "0              1  debt_consolidation    0.1189       829.10       11.350407   \n",
       "1              1         credit_card    0.1071       228.22       11.082143   \n",
       "2              1  debt_consolidation    0.1357       366.86       10.373491   \n",
       "3              1  debt_consolidation    0.1008       162.34       11.350407   \n",
       "4              1         credit_card    0.1426       102.92       11.299732   \n",
       "\n",
       "     dti  fico  days.with.cr.line  revol.bal  revol.util  inq.last.6mths  \\\n",
       "0  19.48   737        5639.958333      28854        52.1               0   \n",
       "1  14.29   707        2760.000000      33623        76.7               0   \n",
       "2  11.63   682        4710.000000       3511        25.6               1   \n",
       "3   8.10   712        2699.958333      33667        73.2               1   \n",
       "4  14.97   667        4066.000000       4740        39.5               0   \n",
       "\n",
       "   delinq.2yrs  pub.rec  not.fully.paid  \n",
       "0            0        0               0  \n",
       "1            0        0               0  \n",
       "2            0        0               0  \n",
       "3            0        0               0  \n",
       "4            1        0               0  "
      ]
     },
     "execution_count": 2,
     "metadata": {},
     "output_type": "execute_result"
    }
   ],
   "source": [
    "df = pd.read_csv(\"loan_data.csv\")\n",
    "df.head()"
   ]
  },
  {
   "cell_type": "code",
   "execution_count": 3,
   "id": "c5b6a42f",
   "metadata": {},
   "outputs": [],
   "source": [
    "# credit.policy: 1 if the customer meets the credit underwriting criteria of LendingClub.com, and 0 otherwise.\n",
    "    \n",
    "# purpose: The purpose of the loan (takes values \"creditcard\", \"debtconsolidation\", \"educational\", \"majorpurchase\", \n",
    "#                                   \"smallbusiness\", and \"all_other\").\n",
    "    \n",
    "# int.rate: The interest rate of the loan, as a proportion (a rate of 11% would be stored as 0.11). \n",
    "#     Borrowers judged by LendingClub.com to be more risky are assigned higher interest rates.\n",
    "    \n",
    "# installment: The monthly installments owed by the borrower if the loan is funded.\n",
    "    \n",
    "# log.annual.inc: The natural log of the self-reported annual income of the borrower.\n",
    "    \n",
    "# dti: The debt-to-income ratio of the borrower (amount of debt divided by annual income).\n",
    "    \n",
    "# fico: The FICO credit score of the borrower.\n",
    "    \n",
    "# days.with.cr.line: The number of days the borrower has had a credit line.\n",
    "    \n",
    "# revol.bal: The borrower's revolving balance (amount unpaid at the end of the credit card billing cycle).\n",
    "    \n",
    "# revol.util: The borrower's revolving line utilization rate (the amount of the credit line used relative to total credit \n",
    "#     available).\n",
    "    \n",
    "# inq.last.6mths: The borrower's number of inquiries by creditors in the last 6 months.\n",
    "    \n",
    "# delinq.2yrs: The number of times the borrower had been 30+ days past due on a payment in the past 2 years.\n",
    "    \n",
    "# pub.rec: The borrower's number of derogatory public records (bankruptcy filings, tax liens, or judgments).\n",
    "\n",
    "# target_column = not_fully_paid"
   ]
  },
  {
   "cell_type": "markdown",
   "id": "cf84d562",
   "metadata": {},
   "source": [
    "# Preprocessing"
   ]
  },
  {
   "cell_type": "code",
   "execution_count": 4,
   "id": "cf19746f",
   "metadata": {},
   "outputs": [],
   "source": [
    "for x in df.columns:\n",
    "    df.rename(columns={x:x.replace('.','_')},inplace=True)"
   ]
  },
  {
   "cell_type": "code",
   "execution_count": 5,
   "id": "98d6c539",
   "metadata": {},
   "outputs": [
    {
     "data": {
      "text/html": [
       "<div>\n",
       "<style scoped>\n",
       "    .dataframe tbody tr th:only-of-type {\n",
       "        vertical-align: middle;\n",
       "    }\n",
       "\n",
       "    .dataframe tbody tr th {\n",
       "        vertical-align: top;\n",
       "    }\n",
       "\n",
       "    .dataframe thead th {\n",
       "        text-align: right;\n",
       "    }\n",
       "</style>\n",
       "<table border=\"1\" class=\"dataframe\">\n",
       "  <thead>\n",
       "    <tr style=\"text-align: right;\">\n",
       "      <th></th>\n",
       "      <th>credit_policy</th>\n",
       "      <th>purpose</th>\n",
       "      <th>int_rate</th>\n",
       "      <th>installment</th>\n",
       "      <th>log_annual_inc</th>\n",
       "      <th>dti</th>\n",
       "      <th>fico</th>\n",
       "      <th>days_with_cr_line</th>\n",
       "      <th>revol_bal</th>\n",
       "      <th>revol_util</th>\n",
       "      <th>inq_last_6mths</th>\n",
       "      <th>delinq_2yrs</th>\n",
       "      <th>pub_rec</th>\n",
       "      <th>not_fully_paid</th>\n",
       "    </tr>\n",
       "  </thead>\n",
       "  <tbody>\n",
       "    <tr>\n",
       "      <th>0</th>\n",
       "      <td>1</td>\n",
       "      <td>debt_consolidation</td>\n",
       "      <td>0.1189</td>\n",
       "      <td>829.10</td>\n",
       "      <td>11.350407</td>\n",
       "      <td>19.48</td>\n",
       "      <td>737</td>\n",
       "      <td>5639.958333</td>\n",
       "      <td>28854</td>\n",
       "      <td>52.1</td>\n",
       "      <td>0</td>\n",
       "      <td>0</td>\n",
       "      <td>0</td>\n",
       "      <td>0</td>\n",
       "    </tr>\n",
       "    <tr>\n",
       "      <th>1</th>\n",
       "      <td>1</td>\n",
       "      <td>credit_card</td>\n",
       "      <td>0.1071</td>\n",
       "      <td>228.22</td>\n",
       "      <td>11.082143</td>\n",
       "      <td>14.29</td>\n",
       "      <td>707</td>\n",
       "      <td>2760.000000</td>\n",
       "      <td>33623</td>\n",
       "      <td>76.7</td>\n",
       "      <td>0</td>\n",
       "      <td>0</td>\n",
       "      <td>0</td>\n",
       "      <td>0</td>\n",
       "    </tr>\n",
       "    <tr>\n",
       "      <th>2</th>\n",
       "      <td>1</td>\n",
       "      <td>debt_consolidation</td>\n",
       "      <td>0.1357</td>\n",
       "      <td>366.86</td>\n",
       "      <td>10.373491</td>\n",
       "      <td>11.63</td>\n",
       "      <td>682</td>\n",
       "      <td>4710.000000</td>\n",
       "      <td>3511</td>\n",
       "      <td>25.6</td>\n",
       "      <td>1</td>\n",
       "      <td>0</td>\n",
       "      <td>0</td>\n",
       "      <td>0</td>\n",
       "    </tr>\n",
       "    <tr>\n",
       "      <th>3</th>\n",
       "      <td>1</td>\n",
       "      <td>debt_consolidation</td>\n",
       "      <td>0.1008</td>\n",
       "      <td>162.34</td>\n",
       "      <td>11.350407</td>\n",
       "      <td>8.10</td>\n",
       "      <td>712</td>\n",
       "      <td>2699.958333</td>\n",
       "      <td>33667</td>\n",
       "      <td>73.2</td>\n",
       "      <td>1</td>\n",
       "      <td>0</td>\n",
       "      <td>0</td>\n",
       "      <td>0</td>\n",
       "    </tr>\n",
       "    <tr>\n",
       "      <th>4</th>\n",
       "      <td>1</td>\n",
       "      <td>credit_card</td>\n",
       "      <td>0.1426</td>\n",
       "      <td>102.92</td>\n",
       "      <td>11.299732</td>\n",
       "      <td>14.97</td>\n",
       "      <td>667</td>\n",
       "      <td>4066.000000</td>\n",
       "      <td>4740</td>\n",
       "      <td>39.5</td>\n",
       "      <td>0</td>\n",
       "      <td>1</td>\n",
       "      <td>0</td>\n",
       "      <td>0</td>\n",
       "    </tr>\n",
       "  </tbody>\n",
       "</table>\n",
       "</div>"
      ],
      "text/plain": [
       "   credit_policy             purpose  int_rate  installment  log_annual_inc  \\\n",
       "0              1  debt_consolidation    0.1189       829.10       11.350407   \n",
       "1              1         credit_card    0.1071       228.22       11.082143   \n",
       "2              1  debt_consolidation    0.1357       366.86       10.373491   \n",
       "3              1  debt_consolidation    0.1008       162.34       11.350407   \n",
       "4              1         credit_card    0.1426       102.92       11.299732   \n",
       "\n",
       "     dti  fico  days_with_cr_line  revol_bal  revol_util  inq_last_6mths  \\\n",
       "0  19.48   737        5639.958333      28854        52.1               0   \n",
       "1  14.29   707        2760.000000      33623        76.7               0   \n",
       "2  11.63   682        4710.000000       3511        25.6               1   \n",
       "3   8.10   712        2699.958333      33667        73.2               1   \n",
       "4  14.97   667        4066.000000       4740        39.5               0   \n",
       "\n",
       "   delinq_2yrs  pub_rec  not_fully_paid  \n",
       "0            0        0               0  \n",
       "1            0        0               0  \n",
       "2            0        0               0  \n",
       "3            0        0               0  \n",
       "4            1        0               0  "
      ]
     },
     "execution_count": 5,
     "metadata": {},
     "output_type": "execute_result"
    }
   ],
   "source": [
    "df.head()"
   ]
  },
  {
   "cell_type": "code",
   "execution_count": 6,
   "id": "ef64c547",
   "metadata": {},
   "outputs": [
    {
     "data": {
      "text/plain": [
       "Index(['credit_policy', 'purpose', 'int_rate', 'installment', 'log_annual_inc',\n",
       "       'dti', 'fico', 'days_with_cr_line', 'revol_bal', 'revol_util',\n",
       "       'inq_last_6mths', 'delinq_2yrs', 'pub_rec', 'not_fully_paid'],\n",
       "      dtype='object')"
      ]
     },
     "execution_count": 6,
     "metadata": {},
     "output_type": "execute_result"
    }
   ],
   "source": [
    "df.columns"
   ]
  },
  {
   "cell_type": "code",
   "execution_count": 7,
   "id": "32feeaa2",
   "metadata": {},
   "outputs": [
    {
     "data": {
      "text/plain": [
       "(9578, 14)"
      ]
     },
     "execution_count": 7,
     "metadata": {},
     "output_type": "execute_result"
    }
   ],
   "source": [
    "df.shape"
   ]
  },
  {
   "cell_type": "code",
   "execution_count": 8,
   "id": "2d07b998",
   "metadata": {},
   "outputs": [
    {
     "data": {
      "text/plain": [
       "credit_policy        0\n",
       "purpose              0\n",
       "int_rate             0\n",
       "installment          0\n",
       "log_annual_inc       0\n",
       "dti                  0\n",
       "fico                 0\n",
       "days_with_cr_line    0\n",
       "revol_bal            0\n",
       "revol_util           0\n",
       "inq_last_6mths       0\n",
       "delinq_2yrs          0\n",
       "pub_rec              0\n",
       "not_fully_paid       0\n",
       "dtype: int64"
      ]
     },
     "execution_count": 8,
     "metadata": {},
     "output_type": "execute_result"
    }
   ],
   "source": [
    "df.isna().sum()"
   ]
  },
  {
   "cell_type": "code",
   "execution_count": 9,
   "id": "31ec5386",
   "metadata": {},
   "outputs": [
    {
     "data": {
      "text/plain": [
       "0"
      ]
     },
     "execution_count": 9,
     "metadata": {},
     "output_type": "execute_result"
    }
   ],
   "source": [
    "df.duplicated().sum()"
   ]
  },
  {
   "cell_type": "code",
   "execution_count": 10,
   "id": "7b2a1777",
   "metadata": {},
   "outputs": [
    {
     "data": {
      "text/html": [
       "<div>\n",
       "<style scoped>\n",
       "    .dataframe tbody tr th:only-of-type {\n",
       "        vertical-align: middle;\n",
       "    }\n",
       "\n",
       "    .dataframe tbody tr th {\n",
       "        vertical-align: top;\n",
       "    }\n",
       "\n",
       "    .dataframe thead th {\n",
       "        text-align: right;\n",
       "    }\n",
       "</style>\n",
       "<table border=\"1\" class=\"dataframe\">\n",
       "  <thead>\n",
       "    <tr style=\"text-align: right;\">\n",
       "      <th></th>\n",
       "      <th>credit_policy</th>\n",
       "      <th>purpose</th>\n",
       "      <th>int_rate</th>\n",
       "      <th>installment</th>\n",
       "      <th>log_annual_inc</th>\n",
       "      <th>dti</th>\n",
       "      <th>fico</th>\n",
       "      <th>days_with_cr_line</th>\n",
       "      <th>revol_bal</th>\n",
       "      <th>revol_util</th>\n",
       "      <th>inq_last_6mths</th>\n",
       "      <th>delinq_2yrs</th>\n",
       "      <th>pub_rec</th>\n",
       "      <th>not_fully_paid</th>\n",
       "    </tr>\n",
       "  </thead>\n",
       "  <tbody>\n",
       "    <tr>\n",
       "      <th>count</th>\n",
       "      <td>9578.000000</td>\n",
       "      <td>9578</td>\n",
       "      <td>9578.000000</td>\n",
       "      <td>9578.000000</td>\n",
       "      <td>9578.000000</td>\n",
       "      <td>9578.000000</td>\n",
       "      <td>9578.000000</td>\n",
       "      <td>9578.000000</td>\n",
       "      <td>9.578000e+03</td>\n",
       "      <td>9578.000000</td>\n",
       "      <td>9578.000000</td>\n",
       "      <td>9578.000000</td>\n",
       "      <td>9578.000000</td>\n",
       "      <td>9578.000000</td>\n",
       "    </tr>\n",
       "    <tr>\n",
       "      <th>unique</th>\n",
       "      <td>NaN</td>\n",
       "      <td>7</td>\n",
       "      <td>NaN</td>\n",
       "      <td>NaN</td>\n",
       "      <td>NaN</td>\n",
       "      <td>NaN</td>\n",
       "      <td>NaN</td>\n",
       "      <td>NaN</td>\n",
       "      <td>NaN</td>\n",
       "      <td>NaN</td>\n",
       "      <td>NaN</td>\n",
       "      <td>NaN</td>\n",
       "      <td>NaN</td>\n",
       "      <td>NaN</td>\n",
       "    </tr>\n",
       "    <tr>\n",
       "      <th>top</th>\n",
       "      <td>NaN</td>\n",
       "      <td>debt_consolidation</td>\n",
       "      <td>NaN</td>\n",
       "      <td>NaN</td>\n",
       "      <td>NaN</td>\n",
       "      <td>NaN</td>\n",
       "      <td>NaN</td>\n",
       "      <td>NaN</td>\n",
       "      <td>NaN</td>\n",
       "      <td>NaN</td>\n",
       "      <td>NaN</td>\n",
       "      <td>NaN</td>\n",
       "      <td>NaN</td>\n",
       "      <td>NaN</td>\n",
       "    </tr>\n",
       "    <tr>\n",
       "      <th>freq</th>\n",
       "      <td>NaN</td>\n",
       "      <td>3957</td>\n",
       "      <td>NaN</td>\n",
       "      <td>NaN</td>\n",
       "      <td>NaN</td>\n",
       "      <td>NaN</td>\n",
       "      <td>NaN</td>\n",
       "      <td>NaN</td>\n",
       "      <td>NaN</td>\n",
       "      <td>NaN</td>\n",
       "      <td>NaN</td>\n",
       "      <td>NaN</td>\n",
       "      <td>NaN</td>\n",
       "      <td>NaN</td>\n",
       "    </tr>\n",
       "    <tr>\n",
       "      <th>mean</th>\n",
       "      <td>0.804970</td>\n",
       "      <td>NaN</td>\n",
       "      <td>0.122640</td>\n",
       "      <td>319.089413</td>\n",
       "      <td>10.932117</td>\n",
       "      <td>12.606679</td>\n",
       "      <td>710.846314</td>\n",
       "      <td>4560.767197</td>\n",
       "      <td>1.691396e+04</td>\n",
       "      <td>46.799236</td>\n",
       "      <td>1.577469</td>\n",
       "      <td>0.163708</td>\n",
       "      <td>0.062122</td>\n",
       "      <td>0.160054</td>\n",
       "    </tr>\n",
       "    <tr>\n",
       "      <th>std</th>\n",
       "      <td>0.396245</td>\n",
       "      <td>NaN</td>\n",
       "      <td>0.026847</td>\n",
       "      <td>207.071301</td>\n",
       "      <td>0.614813</td>\n",
       "      <td>6.883970</td>\n",
       "      <td>37.970537</td>\n",
       "      <td>2496.930377</td>\n",
       "      <td>3.375619e+04</td>\n",
       "      <td>29.014417</td>\n",
       "      <td>2.200245</td>\n",
       "      <td>0.546215</td>\n",
       "      <td>0.262126</td>\n",
       "      <td>0.366676</td>\n",
       "    </tr>\n",
       "    <tr>\n",
       "      <th>min</th>\n",
       "      <td>0.000000</td>\n",
       "      <td>NaN</td>\n",
       "      <td>0.060000</td>\n",
       "      <td>15.670000</td>\n",
       "      <td>7.547502</td>\n",
       "      <td>0.000000</td>\n",
       "      <td>612.000000</td>\n",
       "      <td>178.958333</td>\n",
       "      <td>0.000000e+00</td>\n",
       "      <td>0.000000</td>\n",
       "      <td>0.000000</td>\n",
       "      <td>0.000000</td>\n",
       "      <td>0.000000</td>\n",
       "      <td>0.000000</td>\n",
       "    </tr>\n",
       "    <tr>\n",
       "      <th>25%</th>\n",
       "      <td>1.000000</td>\n",
       "      <td>NaN</td>\n",
       "      <td>0.103900</td>\n",
       "      <td>163.770000</td>\n",
       "      <td>10.558414</td>\n",
       "      <td>7.212500</td>\n",
       "      <td>682.000000</td>\n",
       "      <td>2820.000000</td>\n",
       "      <td>3.187000e+03</td>\n",
       "      <td>22.600000</td>\n",
       "      <td>0.000000</td>\n",
       "      <td>0.000000</td>\n",
       "      <td>0.000000</td>\n",
       "      <td>0.000000</td>\n",
       "    </tr>\n",
       "    <tr>\n",
       "      <th>50%</th>\n",
       "      <td>1.000000</td>\n",
       "      <td>NaN</td>\n",
       "      <td>0.122100</td>\n",
       "      <td>268.950000</td>\n",
       "      <td>10.928884</td>\n",
       "      <td>12.665000</td>\n",
       "      <td>707.000000</td>\n",
       "      <td>4139.958333</td>\n",
       "      <td>8.596000e+03</td>\n",
       "      <td>46.300000</td>\n",
       "      <td>1.000000</td>\n",
       "      <td>0.000000</td>\n",
       "      <td>0.000000</td>\n",
       "      <td>0.000000</td>\n",
       "    </tr>\n",
       "    <tr>\n",
       "      <th>75%</th>\n",
       "      <td>1.000000</td>\n",
       "      <td>NaN</td>\n",
       "      <td>0.140700</td>\n",
       "      <td>432.762500</td>\n",
       "      <td>11.291293</td>\n",
       "      <td>17.950000</td>\n",
       "      <td>737.000000</td>\n",
       "      <td>5730.000000</td>\n",
       "      <td>1.824950e+04</td>\n",
       "      <td>70.900000</td>\n",
       "      <td>2.000000</td>\n",
       "      <td>0.000000</td>\n",
       "      <td>0.000000</td>\n",
       "      <td>0.000000</td>\n",
       "    </tr>\n",
       "    <tr>\n",
       "      <th>max</th>\n",
       "      <td>1.000000</td>\n",
       "      <td>NaN</td>\n",
       "      <td>0.216400</td>\n",
       "      <td>940.140000</td>\n",
       "      <td>14.528354</td>\n",
       "      <td>29.960000</td>\n",
       "      <td>827.000000</td>\n",
       "      <td>17639.958330</td>\n",
       "      <td>1.207359e+06</td>\n",
       "      <td>119.000000</td>\n",
       "      <td>33.000000</td>\n",
       "      <td>13.000000</td>\n",
       "      <td>5.000000</td>\n",
       "      <td>1.000000</td>\n",
       "    </tr>\n",
       "  </tbody>\n",
       "</table>\n",
       "</div>"
      ],
      "text/plain": [
       "        credit_policy             purpose     int_rate  installment  \\\n",
       "count     9578.000000                9578  9578.000000  9578.000000   \n",
       "unique            NaN                   7          NaN          NaN   \n",
       "top               NaN  debt_consolidation          NaN          NaN   \n",
       "freq              NaN                3957          NaN          NaN   \n",
       "mean         0.804970                 NaN     0.122640   319.089413   \n",
       "std          0.396245                 NaN     0.026847   207.071301   \n",
       "min          0.000000                 NaN     0.060000    15.670000   \n",
       "25%          1.000000                 NaN     0.103900   163.770000   \n",
       "50%          1.000000                 NaN     0.122100   268.950000   \n",
       "75%          1.000000                 NaN     0.140700   432.762500   \n",
       "max          1.000000                 NaN     0.216400   940.140000   \n",
       "\n",
       "        log_annual_inc          dti         fico  days_with_cr_line  \\\n",
       "count      9578.000000  9578.000000  9578.000000        9578.000000   \n",
       "unique             NaN          NaN          NaN                NaN   \n",
       "top                NaN          NaN          NaN                NaN   \n",
       "freq               NaN          NaN          NaN                NaN   \n",
       "mean         10.932117    12.606679   710.846314        4560.767197   \n",
       "std           0.614813     6.883970    37.970537        2496.930377   \n",
       "min           7.547502     0.000000   612.000000         178.958333   \n",
       "25%          10.558414     7.212500   682.000000        2820.000000   \n",
       "50%          10.928884    12.665000   707.000000        4139.958333   \n",
       "75%          11.291293    17.950000   737.000000        5730.000000   \n",
       "max          14.528354    29.960000   827.000000       17639.958330   \n",
       "\n",
       "           revol_bal   revol_util  inq_last_6mths  delinq_2yrs      pub_rec  \\\n",
       "count   9.578000e+03  9578.000000     9578.000000  9578.000000  9578.000000   \n",
       "unique           NaN          NaN             NaN          NaN          NaN   \n",
       "top              NaN          NaN             NaN          NaN          NaN   \n",
       "freq             NaN          NaN             NaN          NaN          NaN   \n",
       "mean    1.691396e+04    46.799236        1.577469     0.163708     0.062122   \n",
       "std     3.375619e+04    29.014417        2.200245     0.546215     0.262126   \n",
       "min     0.000000e+00     0.000000        0.000000     0.000000     0.000000   \n",
       "25%     3.187000e+03    22.600000        0.000000     0.000000     0.000000   \n",
       "50%     8.596000e+03    46.300000        1.000000     0.000000     0.000000   \n",
       "75%     1.824950e+04    70.900000        2.000000     0.000000     0.000000   \n",
       "max     1.207359e+06   119.000000       33.000000    13.000000     5.000000   \n",
       "\n",
       "        not_fully_paid  \n",
       "count      9578.000000  \n",
       "unique             NaN  \n",
       "top                NaN  \n",
       "freq               NaN  \n",
       "mean          0.160054  \n",
       "std           0.366676  \n",
       "min           0.000000  \n",
       "25%           0.000000  \n",
       "50%           0.000000  \n",
       "75%           0.000000  \n",
       "max           1.000000  "
      ]
     },
     "execution_count": 10,
     "metadata": {},
     "output_type": "execute_result"
    }
   ],
   "source": [
    "df.describe(include='all')"
   ]
  },
  {
   "cell_type": "code",
   "execution_count": 11,
   "id": "84eddfa2",
   "metadata": {},
   "outputs": [
    {
     "name": "stdout",
     "output_type": "stream",
     "text": [
      "<class 'pandas.core.frame.DataFrame'>\n",
      "RangeIndex: 9578 entries, 0 to 9577\n",
      "Data columns (total 14 columns):\n",
      " #   Column             Non-Null Count  Dtype  \n",
      "---  ------             --------------  -----  \n",
      " 0   credit_policy      9578 non-null   int64  \n",
      " 1   purpose            9578 non-null   object \n",
      " 2   int_rate           9578 non-null   float64\n",
      " 3   installment        9578 non-null   float64\n",
      " 4   log_annual_inc     9578 non-null   float64\n",
      " 5   dti                9578 non-null   float64\n",
      " 6   fico               9578 non-null   int64  \n",
      " 7   days_with_cr_line  9578 non-null   float64\n",
      " 8   revol_bal          9578 non-null   int64  \n",
      " 9   revol_util         9578 non-null   float64\n",
      " 10  inq_last_6mths     9578 non-null   int64  \n",
      " 11  delinq_2yrs        9578 non-null   int64  \n",
      " 12  pub_rec            9578 non-null   int64  \n",
      " 13  not_fully_paid     9578 non-null   int64  \n",
      "dtypes: float64(6), int64(7), object(1)\n",
      "memory usage: 1.0+ MB\n"
     ]
    }
   ],
   "source": [
    "df.info()"
   ]
  },
  {
   "cell_type": "code",
   "execution_count": 12,
   "id": "55311efc",
   "metadata": {},
   "outputs": [
    {
     "data": {
      "text/plain": [
       "<AxesSubplot:xlabel='not_fully_paid', ylabel='count'>"
      ]
     },
     "execution_count": 12,
     "metadata": {},
     "output_type": "execute_result"
    },
    {
     "data": {
      "image/png": "[encoded data removed]",
      "text/plain": [
       "<Figure size 432x288 with 1 Axes>"
      ]
     },
     "metadata": {},
     "output_type": "display_data"
    }
   ],
   "source": [
    "# Countplot for target variable\n",
    "sns.countplot(df['not_fully_paid'])"
   ]
  },
  {
   "cell_type": "code",
   "execution_count": 13,
   "id": "cb28b245",
   "metadata": {},
   "outputs": [
    {
     "data": {
      "text/plain": [
       "0    8045\n",
       "1    1533\n",
       "Name: not_fully_paid, dtype: int64"
      ]
     },
     "execution_count": 13,
     "metadata": {},
     "output_type": "execute_result"
    }
   ],
   "source": [
    "df['not_fully_paid'].value_counts()"
   ]
  },
  {
   "cell_type": "code",
   "execution_count": 14,
   "id": "da76df5b",
   "metadata": {},
   "outputs": [
    {
     "data": {
      "text/plain": [
       "16.005429108373356"
      ]
     },
     "execution_count": 14,
     "metadata": {},
     "output_type": "execute_result"
    }
   ],
   "source": [
    "(1533/(1533+8045))*100\n",
    "# almost 16% percent have defaulted or not_fully_paid the installments\n",
    "# Also data is biased oversampling may give good results"
   ]
  },
  {
   "cell_type": "code",
   "execution_count": 15,
   "id": "aa43385e",
   "metadata": {},
   "outputs": [
    {
     "data": {
      "text/plain": [
       "<AxesSubplot:>"
      ]
     },
     "execution_count": 15,
     "metadata": {},
     "output_type": "execute_result"
    },
    {
     "data": {
      "image/png": "[encoded data removed]",
      "text/plain": [
       "<Figure size 864x432 with 2 Axes>"
      ]
     },
     "metadata": {},
     "output_type": "display_data"
    }
   ],
   "source": [
    "plt.figure(figsize=(12,6))\n",
    "sns.heatmap(df.corr(),annot=True)"
   ]
  },
  {
   "cell_type": "code",
   "execution_count": 16,
   "id": "bec55ea4",
   "metadata": {},
   "outputs": [
    {
     "data": {
      "text/plain": [
       "array(['debt_consolidation', 'credit_card', 'all_other',\n",
       "       'home_improvement', 'small_business', 'major_purchase',\n",
       "       'educational'], dtype=object)"
      ]
     },
     "execution_count": 16,
     "metadata": {},
     "output_type": "execute_result"
    }
   ],
   "source": [
    "df['purpose'].unique()"
   ]
  },
  {
   "cell_type": "code",
   "execution_count": 17,
   "id": "4697d3a1",
   "metadata": {},
   "outputs": [
    {
     "data": {
      "text/plain": [
       "<AxesSubplot:xlabel='purpose', ylabel='count'>"
      ]
     },
     "execution_count": 17,
     "metadata": {},
     "output_type": "execute_result"
    },
    {
     "data": {
      "image/png": "[encoded data removed]",
      "text/plain": [
       "<Figure size 864x360 with 1 Axes>"
      ]
     },
     "metadata": {},
     "output_type": "display_data"
    }
   ],
   "source": [
    "plt.figure(figsize=(12,5))\n",
    "sns.countplot(df['purpose'])\n",
    "# from here we can see that debt_consolidation,credit_card are major reasons for loan."
   ]
  },
  {
   "cell_type": "code",
   "execution_count": 18,
   "id": "9bd6fde4",
   "metadata": {},
   "outputs": [
    {
     "data": {
      "text/plain": [
       "{'debt_consolidation': 3957,\n",
       " 'all_other': 2331,\n",
       " 'credit_card': 1262,\n",
       " 'home_improvement': 629,\n",
       " 'small_business': 619,\n",
       " 'major_purchase': 437,\n",
       " 'educational': 343}"
      ]
     },
     "execution_count": 18,
     "metadata": {},
     "output_type": "execute_result"
    }
   ],
   "source": [
    "df['purpose'].value_counts().to_dict()"
   ]
  },
  {
   "cell_type": "code",
   "execution_count": 19,
   "id": "f298bc90",
   "metadata": {},
   "outputs": [],
   "source": [
    "df.replace({'debt_consolidation': 1,\n",
    " 'all_other': 2,\n",
    " 'credit_card': 3,\n",
    " 'home_improvement': 4,\n",
    " 'small_business': 5,\n",
    " 'major_purchase': 6,\n",
    " 'educational': 7},inplace=True)"
   ]
  },
  {
   "cell_type": "code",
   "execution_count": 20,
   "id": "c85d2921",
   "metadata": {},
   "outputs": [
    {
     "data": {
      "text/html": [
       "<div>\n",
       "<style scoped>\n",
       "    .dataframe tbody tr th:only-of-type {\n",
       "        vertical-align: middle;\n",
       "    }\n",
       "\n",
       "    .dataframe tbody tr th {\n",
       "        vertical-align: top;\n",
       "    }\n",
       "\n",
       "    .dataframe thead th {\n",
       "        text-align: right;\n",
       "    }\n",
       "</style>\n",
       "<table border=\"1\" class=\"dataframe\">\n",
       "  <thead>\n",
       "    <tr style=\"text-align: right;\">\n",
       "      <th></th>\n",
       "      <th>credit_policy</th>\n",
       "      <th>purpose</th>\n",
       "      <th>int_rate</th>\n",
       "      <th>installment</th>\n",
       "      <th>log_annual_inc</th>\n",
       "      <th>dti</th>\n",
       "      <th>fico</th>\n",
       "      <th>days_with_cr_line</th>\n",
       "      <th>revol_bal</th>\n",
       "      <th>revol_util</th>\n",
       "      <th>inq_last_6mths</th>\n",
       "      <th>delinq_2yrs</th>\n",
       "      <th>pub_rec</th>\n",
       "      <th>not_fully_paid</th>\n",
       "    </tr>\n",
       "  </thead>\n",
       "  <tbody>\n",
       "    <tr>\n",
       "      <th>0</th>\n",
       "      <td>1</td>\n",
       "      <td>1</td>\n",
       "      <td>0.1189</td>\n",
       "      <td>829.10</td>\n",
       "      <td>11.350407</td>\n",
       "      <td>19.48</td>\n",
       "      <td>737</td>\n",
       "      <td>5639.958333</td>\n",
       "      <td>28854</td>\n",
       "      <td>52.1</td>\n",
       "      <td>0</td>\n",
       "      <td>0</td>\n",
       "      <td>0</td>\n",
       "      <td>0</td>\n",
       "    </tr>\n",
       "    <tr>\n",
       "      <th>1</th>\n",
       "      <td>1</td>\n",
       "      <td>3</td>\n",
       "      <td>0.1071</td>\n",
       "      <td>228.22</td>\n",
       "      <td>11.082143</td>\n",
       "      <td>14.29</td>\n",
       "      <td>707</td>\n",
       "      <td>2760.000000</td>\n",
       "      <td>33623</td>\n",
       "      <td>76.7</td>\n",
       "      <td>0</td>\n",
       "      <td>0</td>\n",
       "      <td>0</td>\n",
       "      <td>0</td>\n",
       "    </tr>\n",
       "    <tr>\n",
       "      <th>2</th>\n",
       "      <td>1</td>\n",
       "      <td>1</td>\n",
       "      <td>0.1357</td>\n",
       "      <td>366.86</td>\n",
       "      <td>10.373491</td>\n",
       "      <td>11.63</td>\n",
       "      <td>682</td>\n",
       "      <td>4710.000000</td>\n",
       "      <td>3511</td>\n",
       "      <td>25.6</td>\n",
       "      <td>1</td>\n",
       "      <td>0</td>\n",
       "      <td>0</td>\n",
       "      <td>0</td>\n",
       "    </tr>\n",
       "    <tr>\n",
       "      <th>3</th>\n",
       "      <td>1</td>\n",
       "      <td>1</td>\n",
       "      <td>0.1008</td>\n",
       "      <td>162.34</td>\n",
       "      <td>11.350407</td>\n",
       "      <td>8.10</td>\n",
       "      <td>712</td>\n",
       "      <td>2699.958333</td>\n",
       "      <td>33667</td>\n",
       "      <td>73.2</td>\n",
       "      <td>1</td>\n",
       "      <td>0</td>\n",
       "      <td>0</td>\n",
       "      <td>0</td>\n",
       "    </tr>\n",
       "    <tr>\n",
       "      <th>4</th>\n",
       "      <td>1</td>\n",
       "      <td>3</td>\n",
       "      <td>0.1426</td>\n",
       "      <td>102.92</td>\n",
       "      <td>11.299732</td>\n",
       "      <td>14.97</td>\n",
       "      <td>667</td>\n",
       "      <td>4066.000000</td>\n",
       "      <td>4740</td>\n",
       "      <td>39.5</td>\n",
       "      <td>0</td>\n",
       "      <td>1</td>\n",
       "      <td>0</td>\n",
       "      <td>0</td>\n",
       "    </tr>\n",
       "  </tbody>\n",
       "</table>\n",
       "</div>"
      ],
      "text/plain": [
       "   credit_policy  purpose  int_rate  installment  log_annual_inc    dti  fico  \\\n",
       "0              1        1    0.1189       829.10       11.350407  19.48   737   \n",
       "1              1        3    0.1071       228.22       11.082143  14.29   707   \n",
       "2              1        1    0.1357       366.86       10.373491  11.63   682   \n",
       "3              1        1    0.1008       162.34       11.350407   8.10   712   \n",
       "4              1        3    0.1426       102.92       11.299732  14.97   667   \n",
       "\n",
       "   days_with_cr_line  revol_bal  revol_util  inq_last_6mths  delinq_2yrs  \\\n",
       "0        5639.958333      28854        52.1               0            0   \n",
       "1        2760.000000      33623        76.7               0            0   \n",
       "2        4710.000000       3511        25.6               1            0   \n",
       "3        2699.958333      33667        73.2               1            0   \n",
       "4        4066.000000       4740        39.5               0            1   \n",
       "\n",
       "   pub_rec  not_fully_paid  \n",
       "0        0               0  \n",
       "1        0               0  \n",
       "2        0               0  \n",
       "3        0               0  \n",
       "4        0               0  "
      ]
     },
     "execution_count": 20,
     "metadata": {},
     "output_type": "execute_result"
    }
   ],
   "source": [
    "df.head()"
   ]
  },
  {
   "cell_type": "code",
   "execution_count": 21,
   "id": "5078579c",
   "metadata": {},
   "outputs": [
    {
     "data": {
      "image/png": "[encoded data removed]",
      "text/plain": [
       "<Figure size 1080x720 with 9 Axes>"
      ]
     },
     "metadata": {},
     "output_type": "display_data"
    }
   ],
   "source": [
    "# Histogram for numerical columns\n",
    "\n",
    "figure,axes = plt.subplots(3,3,figsize=(15,10))  # here axes is ndarray we flatten it means make it 1d\n",
    "index=0\n",
    "axes = axes.flatten()\n",
    "temp =df.iloc[:,[2,3,4,5,6,7,8,9]]\n",
    "\n",
    "for i in temp.columns:\n",
    "    sns.histplot(df[i],kde=1,ax=axes[index])\n",
    "    index+=1\n",
    "    \n",
    "plt.tight_layout(h_pad=0.5,w_pad=0.5,pad=1)"
   ]
  },
  {
   "cell_type": "markdown",
   "id": "692bdf79",
   "metadata": {},
   "source": [
    "## Log Transformation "
   ]
  },
  {
   "cell_type": "code",
   "execution_count": 22,
   "id": "eed1150e",
   "metadata": {},
   "outputs": [],
   "source": [
    "# When the data sample follows the power law distribution, we can use log scaling to transform the right skewed \n",
    "# distribution into normal distribution\n",
    "\n",
    "# log_var = ['installment','days_with_cr_line','revol_bal']\n",
    "# fig = plt.figure(figsize=(15,12))\n",
    "# for i in range(len(log_var)):\n",
    "#     var = log_var[i]\n",
    "#     transformed = \"log_\" + var\n",
    "#     df[transformed] = np.log10(df[var]+1)\n",
    "    \n"
   ]
  },
  {
   "cell_type": "code",
   "execution_count": 23,
   "id": "d1e535f6",
   "metadata": {},
   "outputs": [],
   "source": [
    "# figure,axes = plt.subplots(1,3,figsize=(15,5))  # here axes is ndarray we flatten it means make it 1d\n",
    "# index=0\n",
    "# axes = axes.flatten()\n",
    "# temp =df.loc[:,['installment','days_with_cr_line','revol_bal']]\n",
    "\n",
    "# for i in temp.columns:\n",
    "#     sns.histplot(df[i],kde=1,ax=axes[index])\n",
    "#     index+=1\n",
    "    \n",
    "# plt.tight_layout(h_pad=0.5,w_pad=0.5,pad=1)"
   ]
  },
  {
   "cell_type": "code",
   "execution_count": 24,
   "id": "13d2b515",
   "metadata": {},
   "outputs": [],
   "source": [
    "# Tried with log transformation but no changes observed in distributions"
   ]
  },
  {
   "cell_type": "code",
   "execution_count": 25,
   "id": "676e2b84",
   "metadata": {},
   "outputs": [
    {
     "data": {
      "image/png": "[encoded data removed]",
      "text/plain": [
       "<Figure size 1080x720 with 9 Axes>"
      ]
     },
     "metadata": {},
     "output_type": "display_data"
    }
   ],
   "source": [
    "# Boxplot for numerical data\n",
    "\n",
    "figure,axes = plt.subplots(3,3,figsize=(15,10))\n",
    "index=0\n",
    "axes = axes.flatten()\n",
    "temp = df.iloc[:,[2,3,4,5,6,7,8,9]]\n",
    "\n",
    "for i in temp.columns:\n",
    "    sns.boxplot(df[i],ax=axes[index])\n",
    "    index+=1\n",
    "plt.tight_layout(h_pad=0.5,w_pad=0.5,pad=1)\n",
    "\n",
    "# There are outliers in some of the features, we can plot the histograms and check the distributions of the data if they are\n",
    "# skewed or normally distributed, if skewed we can go for the iqr method else if normally distributed we can go for \n",
    "# the median as mean is sensitive to outliers."
   ]
  },
  {
   "cell_type": "markdown",
   "id": "d764fe63",
   "metadata": {},
   "source": [
    "## BOXCOX Tranformation"
   ]
  },
  {
   "cell_type": "code",
   "execution_count": 26,
   "id": "fb656d81",
   "metadata": {},
   "outputs": [
    {
     "data": {
      "text/plain": [
       "<AxesSubplot:xlabel='installment', ylabel='Count'>"
      ]
     },
     "execution_count": 26,
     "metadata": {},
     "output_type": "execute_result"
    },
    {
     "data": {
      "image/png": "[encoded data removed]",
      "text/plain": [
       "<Figure size 432x288 with 1 Axes>"
      ]
     },
     "metadata": {},
     "output_type": "display_data"
    }
   ],
   "source": [
    "sns.histplot(df['installment'],kde=1)"
   ]
  },
  {
   "cell_type": "code",
   "execution_count": 27,
   "id": "031865c1",
   "metadata": {},
   "outputs": [
    {
     "data": {
      "text/plain": [
       "<AxesSubplot:xlabel='installment'>"
      ]
     },
     "execution_count": 27,
     "metadata": {},
     "output_type": "execute_result"
    },
    {
     "data": {
      "image/png": "[encoded data removed]",
      "text/plain": [
       "<Figure size 432x288 with 1 Axes>"
      ]
     },
     "metadata": {},
     "output_type": "display_data"
    }
   ],
   "source": [
    "sns.boxplot(df['installment'])"
   ]
  },
  {
   "cell_type": "code",
   "execution_count": 28,
   "id": "2dcc8f3a",
   "metadata": {},
   "outputs": [
    {
     "data": {
      "text/plain": [
       "<AxesSubplot:ylabel='Count'>"
      ]
     },
     "execution_count": 28,
     "metadata": {},
     "output_type": "execute_result"
    },
    {
     "data": {
      "image/png": "[encoded data removed]",
      "text/plain": [
       "<Figure size 432x288 with 1 Axes>"
      ]
     },
     "metadata": {},
     "output_type": "display_data"
    }
   ],
   "source": [
    "from scipy import stats\n",
    "t_data = stats.boxcox(df['installment'])[0]\n",
    "sns.histplot(t_data,kde=1)"
   ]
  },
  {
   "cell_type": "code",
   "execution_count": 29,
   "id": "41a5430b",
   "metadata": {},
   "outputs": [
    {
     "data": {
      "text/plain": [
       "<AxesSubplot:>"
      ]
     },
     "execution_count": 29,
     "metadata": {},
     "output_type": "execute_result"
    },
    {
     "data": {
      "image/png": "[encoded data removed]",
      "text/plain": [
       "<Figure size 432x288 with 1 Axes>"
      ]
     },
     "metadata": {},
     "output_type": "display_data"
    }
   ],
   "source": [
    "sns.boxplot(t_data)"
   ]
  },
  {
   "cell_type": "code",
   "execution_count": 30,
   "id": "c03f0690",
   "metadata": {},
   "outputs": [],
   "source": [
    "# BoxCox is showing positive results but for now will go with other methods."
   ]
  },
  {
   "cell_type": "code",
   "execution_count": 31,
   "id": "9b5b3cea",
   "metadata": {},
   "outputs": [],
   "source": [
    "# for log_annual_income we will replace with median using zscore method\n",
    "# others will be replaced by iqr method"
   ]
  },
  {
   "cell_type": "code",
   "execution_count": 32,
   "id": "0552e74f",
   "metadata": {},
   "outputs": [
    {
     "name": "stdout",
     "output_type": "stream",
     "text": [
      "int_rate: 0.16439416280317964\n",
      "installment: 0.9123795470488175\n",
      "log_annual_inc: 0.028663616694390843\n",
      "dti: 0.02393727340906256\n",
      "fico: 0.47118593325420144\n",
      "days_with_cr_line: 1.1555672187692227\n",
      "revol_bal: 11.15931049753884\n",
      "revol_util: 0.05997604792027563\n"
     ]
    }
   ],
   "source": [
    "## normal dist or symmetric  when   -0.5 < skew < 0.5\n",
    "\n",
    "temp = df.iloc[:,[2,3,4,5,6,7,8,9]]\n",
    "for i in temp.columns:\n",
    "    skewness = skew(df[i])\n",
    "    print(f\"{i}: {skewness}\")\n",
    "    \n",
    "# so int_rate,log_annual_inc,dti,fico,revol_util are normally distributed data"
   ]
  },
  {
   "cell_type": "code",
   "execution_count": 33,
   "id": "b956e410",
   "metadata": {},
   "outputs": [
    {
     "data": {
      "text/plain": [
       "1465"
      ]
     },
     "execution_count": 33,
     "metadata": {},
     "output_type": "execute_result"
    }
   ],
   "source": [
    "z_score_values = np.abs(zscore(df['int_rate']))\n",
    "outliers_index = np.where(z_score_values >= 1.5)[0]\n",
    "outliers_list = df['int_rate'][outliers_index]\n",
    "# outliers_list\n",
    "len(outliers_list)"
   ]
  },
  {
   "cell_type": "code",
   "execution_count": 34,
   "id": "94ef00ca",
   "metadata": {},
   "outputs": [
    {
     "data": {
      "text/plain": [
       "count    9578.000000\n",
       "mean        0.122640\n",
       "std         0.026847\n",
       "min         0.060000\n",
       "25%         0.103900\n",
       "50%         0.122100\n",
       "75%         0.140700\n",
       "max         0.216400\n",
       "Name: int_rate, dtype: float64"
      ]
     },
     "execution_count": 34,
     "metadata": {},
     "output_type": "execute_result"
    }
   ],
   "source": [
    "df['int_rate'].describe() # here zscore will not show true explanation bcz of standardization"
   ]
  },
  {
   "cell_type": "code",
   "execution_count": 35,
   "id": "48a3000f",
   "metadata": {},
   "outputs": [],
   "source": [
    "# >1 method\n",
    "# # median = df['int_rate'].median() > this median is considering the outliers not right method\n",
    "\n",
    "# median = df.loc[zscore(df['int_rate'])<=1.5,'int_rate'].median()  # excluding the outliers here less than sign\n",
    "\n",
    "# df['int_rate'] = np.where(np.abs(zscore(df['int_rate']))>=1.5,median,df['int_rate'])"
   ]
  },
  {
   "cell_type": "code",
   "execution_count": 36,
   "id": "8d57adf3",
   "metadata": {},
   "outputs": [],
   "source": [
    "# 2 method\n",
    "\n",
    "# we can do it for remaining features whose histograms are normally distributed also then and have outliers:\n",
    "# so int_rate,log_annual_inc,fico, are normally distributed data\n",
    "\n",
    "median = df.loc[zscore(df['int_rate'])<=1.5,'int_rate'].median()\n",
    "df.loc[zscore(df['int_rate'])>=1.5,'int_rate'] = np.nan\n",
    "df.fillna(median,inplace=True)\n",
    "\n",
    "median = df.loc[zscore(df['log_annual_inc'])<=1.5,'log_annual_inc'].median()\n",
    "df.loc[zscore(df['log_annual_inc'])>=1.5,'log_annual_inc'] = np.nan\n",
    "df.fillna(median,inplace=True)\n",
    "\n",
    "\n",
    "median = df.loc[zscore(df['fico'])<=1.5,'fico'].median()\n",
    "df.loc[zscore(df['fico'])>=1.5,'fico'] = np.nan\n",
    "df.fillna(median,inplace=True)\n"
   ]
  },
  {
   "cell_type": "code",
   "execution_count": 37,
   "id": "2636490e",
   "metadata": {},
   "outputs": [],
   "source": [
    "# lowerside outliers\n",
    "median = 10.89\n",
    "\n",
    "df.loc[zscore(df['log_annual_inc'])<= -1.5,'log_annual_inc'] = np.nan\n",
    "df.fillna(median,inplace=True)"
   ]
  },
  {
   "cell_type": "code",
   "execution_count": 38,
   "id": "14181ae0",
   "metadata": {},
   "outputs": [
    {
     "name": "stdout",
     "output_type": "stream",
     "text": [
      "installment upper tail: 836.2512499999999\n",
      "installment lower tail: -239.71874999999991\n",
      "days_with_cr_line upper tail: 10095.0\n",
      "days_with_cr_line lower tail: -1545.0\n",
      "revol_bal upper tail: 40843.25\n",
      "revol_bal lower tail: -19406.75\n"
     ]
    }
   ],
   "source": [
    "# we can use iqr method for the skewed distributions having outliers\n",
    "\n",
    "def tails(col_name):\n",
    "    iqr = df[col_name].quantile(0.75) - df[col_name].quantile(0.25)\n",
    "    upper_tail = df[col_name].quantile(0.75) + (iqr*1.5)\n",
    "    lower_tail = df[col_name].quantile(0.25) - (iqr*1.5)\n",
    "    print(f\"{col_name} upper tail: {upper_tail}\")\n",
    "    print(f\"{col_name} lower tail: {lower_tail}\")\n",
    "    \n",
    "tails('installment')\n",
    "tails('days_with_cr_line')\n",
    "tails('revol_bal')"
   ]
  },
  {
   "cell_type": "code",
   "execution_count": 39,
   "id": "679d3b12",
   "metadata": {},
   "outputs": [],
   "source": [
    "def upper_replace(df,variable,top):\n",
    "    return np.where(df[variable]>top,top,df[variable])\n",
    "\n",
    "df['installment'] = upper_replace(df,'installment',836.25)\n",
    "df['days_with_cr_line'] = upper_replace(df,'days_with_cr_line',10095)\n",
    "df['revol_bal'] = upper_replace(df,'revol_bal',40843.25)\n",
    "\n",
    "def lower_replace(df,variable,bottom):\n",
    "    return np.where(df[variable]<bottom,bottom,df[variable])\n"
   ]
  },
  {
   "cell_type": "code",
   "execution_count": 40,
   "id": "63518e7d",
   "metadata": {},
   "outputs": [
    {
     "data": {
      "image/png": "[encoded data removed]",
      "text/plain": [
       "<Figure size 1080x720 with 9 Axes>"
      ]
     },
     "metadata": {},
     "output_type": "display_data"
    }
   ],
   "source": [
    "figure,axes = plt.subplots(3,3,figsize=(15,10))\n",
    "index=0\n",
    "axes = axes.flatten()\n",
    "temp = df.iloc[:,[2,3,4,5,6,7,8,9]]\n",
    "\n",
    "for i in temp.columns:\n",
    "    sns.boxplot(df[i],ax=axes[index])\n",
    "    index+=1\n",
    "plt.tight_layout(h_pad=0.5,w_pad=0.5,pad=1)\n"
   ]
  },
  {
   "cell_type": "code",
   "execution_count": 41,
   "id": "5d251c72",
   "metadata": {},
   "outputs": [
    {
     "data": {
      "text/html": [
       "<div>\n",
       "<style scoped>\n",
       "    .dataframe tbody tr th:only-of-type {\n",
       "        vertical-align: middle;\n",
       "    }\n",
       "\n",
       "    .dataframe tbody tr th {\n",
       "        vertical-align: top;\n",
       "    }\n",
       "\n",
       "    .dataframe thead th {\n",
       "        text-align: right;\n",
       "    }\n",
       "</style>\n",
       "<table border=\"1\" class=\"dataframe\">\n",
       "  <thead>\n",
       "    <tr style=\"text-align: right;\">\n",
       "      <th></th>\n",
       "      <th>credit_policy</th>\n",
       "      <th>purpose</th>\n",
       "      <th>int_rate</th>\n",
       "      <th>installment</th>\n",
       "      <th>log_annual_inc</th>\n",
       "      <th>dti</th>\n",
       "      <th>fico</th>\n",
       "      <th>days_with_cr_line</th>\n",
       "      <th>revol_bal</th>\n",
       "      <th>revol_util</th>\n",
       "      <th>inq_last_6mths</th>\n",
       "      <th>delinq_2yrs</th>\n",
       "      <th>pub_rec</th>\n",
       "      <th>not_fully_paid</th>\n",
       "    </tr>\n",
       "  </thead>\n",
       "  <tbody>\n",
       "    <tr>\n",
       "      <th>0</th>\n",
       "      <td>1</td>\n",
       "      <td>1</td>\n",
       "      <td>0.1189</td>\n",
       "      <td>829.10</td>\n",
       "      <td>11.350407</td>\n",
       "      <td>19.48</td>\n",
       "      <td>737.0</td>\n",
       "      <td>5639.958333</td>\n",
       "      <td>28854.00</td>\n",
       "      <td>52.1</td>\n",
       "      <td>0</td>\n",
       "      <td>0</td>\n",
       "      <td>0</td>\n",
       "      <td>0</td>\n",
       "    </tr>\n",
       "    <tr>\n",
       "      <th>1</th>\n",
       "      <td>1</td>\n",
       "      <td>3</td>\n",
       "      <td>0.1071</td>\n",
       "      <td>228.22</td>\n",
       "      <td>11.082143</td>\n",
       "      <td>14.29</td>\n",
       "      <td>707.0</td>\n",
       "      <td>2760.000000</td>\n",
       "      <td>33623.00</td>\n",
       "      <td>76.7</td>\n",
       "      <td>0</td>\n",
       "      <td>0</td>\n",
       "      <td>0</td>\n",
       "      <td>0</td>\n",
       "    </tr>\n",
       "    <tr>\n",
       "      <th>2</th>\n",
       "      <td>1</td>\n",
       "      <td>1</td>\n",
       "      <td>0.1357</td>\n",
       "      <td>366.86</td>\n",
       "      <td>10.373491</td>\n",
       "      <td>11.63</td>\n",
       "      <td>682.0</td>\n",
       "      <td>4710.000000</td>\n",
       "      <td>3511.00</td>\n",
       "      <td>25.6</td>\n",
       "      <td>1</td>\n",
       "      <td>0</td>\n",
       "      <td>0</td>\n",
       "      <td>0</td>\n",
       "    </tr>\n",
       "    <tr>\n",
       "      <th>3</th>\n",
       "      <td>1</td>\n",
       "      <td>1</td>\n",
       "      <td>0.1008</td>\n",
       "      <td>162.34</td>\n",
       "      <td>11.350407</td>\n",
       "      <td>8.10</td>\n",
       "      <td>712.0</td>\n",
       "      <td>2699.958333</td>\n",
       "      <td>33667.00</td>\n",
       "      <td>73.2</td>\n",
       "      <td>1</td>\n",
       "      <td>0</td>\n",
       "      <td>0</td>\n",
       "      <td>0</td>\n",
       "    </tr>\n",
       "    <tr>\n",
       "      <th>4</th>\n",
       "      <td>1</td>\n",
       "      <td>3</td>\n",
       "      <td>0.1426</td>\n",
       "      <td>102.92</td>\n",
       "      <td>11.299732</td>\n",
       "      <td>14.97</td>\n",
       "      <td>667.0</td>\n",
       "      <td>4066.000000</td>\n",
       "      <td>4740.00</td>\n",
       "      <td>39.5</td>\n",
       "      <td>0</td>\n",
       "      <td>1</td>\n",
       "      <td>0</td>\n",
       "      <td>0</td>\n",
       "    </tr>\n",
       "    <tr>\n",
       "      <th>...</th>\n",
       "      <td>...</td>\n",
       "      <td>...</td>\n",
       "      <td>...</td>\n",
       "      <td>...</td>\n",
       "      <td>...</td>\n",
       "      <td>...</td>\n",
       "      <td>...</td>\n",
       "      <td>...</td>\n",
       "      <td>...</td>\n",
       "      <td>...</td>\n",
       "      <td>...</td>\n",
       "      <td>...</td>\n",
       "      <td>...</td>\n",
       "      <td>...</td>\n",
       "    </tr>\n",
       "    <tr>\n",
       "      <th>9573</th>\n",
       "      <td>0</td>\n",
       "      <td>2</td>\n",
       "      <td>0.1461</td>\n",
       "      <td>344.76</td>\n",
       "      <td>10.896739</td>\n",
       "      <td>10.39</td>\n",
       "      <td>672.0</td>\n",
       "      <td>10095.000000</td>\n",
       "      <td>40843.25</td>\n",
       "      <td>82.1</td>\n",
       "      <td>2</td>\n",
       "      <td>0</td>\n",
       "      <td>0</td>\n",
       "      <td>1</td>\n",
       "    </tr>\n",
       "    <tr>\n",
       "      <th>9574</th>\n",
       "      <td>0</td>\n",
       "      <td>2</td>\n",
       "      <td>0.1253</td>\n",
       "      <td>257.70</td>\n",
       "      <td>11.141862</td>\n",
       "      <td>0.21</td>\n",
       "      <td>722.0</td>\n",
       "      <td>4380.000000</td>\n",
       "      <td>184.00</td>\n",
       "      <td>1.1</td>\n",
       "      <td>5</td>\n",
       "      <td>0</td>\n",
       "      <td>0</td>\n",
       "      <td>1</td>\n",
       "    </tr>\n",
       "    <tr>\n",
       "      <th>9575</th>\n",
       "      <td>0</td>\n",
       "      <td>1</td>\n",
       "      <td>0.1071</td>\n",
       "      <td>97.81</td>\n",
       "      <td>10.596635</td>\n",
       "      <td>13.09</td>\n",
       "      <td>687.0</td>\n",
       "      <td>3450.041667</td>\n",
       "      <td>10036.00</td>\n",
       "      <td>82.9</td>\n",
       "      <td>8</td>\n",
       "      <td>0</td>\n",
       "      <td>0</td>\n",
       "      <td>1</td>\n",
       "    </tr>\n",
       "    <tr>\n",
       "      <th>9576</th>\n",
       "      <td>0</td>\n",
       "      <td>4</td>\n",
       "      <td>0.1600</td>\n",
       "      <td>351.58</td>\n",
       "      <td>10.819778</td>\n",
       "      <td>19.18</td>\n",
       "      <td>692.0</td>\n",
       "      <td>1800.000000</td>\n",
       "      <td>0.00</td>\n",
       "      <td>3.2</td>\n",
       "      <td>5</td>\n",
       "      <td>0</td>\n",
       "      <td>0</td>\n",
       "      <td>1</td>\n",
       "    </tr>\n",
       "    <tr>\n",
       "      <th>9577</th>\n",
       "      <td>0</td>\n",
       "      <td>1</td>\n",
       "      <td>0.1392</td>\n",
       "      <td>836.25</td>\n",
       "      <td>11.264464</td>\n",
       "      <td>16.28</td>\n",
       "      <td>732.0</td>\n",
       "      <td>4740.000000</td>\n",
       "      <td>37879.00</td>\n",
       "      <td>57.0</td>\n",
       "      <td>6</td>\n",
       "      <td>0</td>\n",
       "      <td>0</td>\n",
       "      <td>1</td>\n",
       "    </tr>\n",
       "  </tbody>\n",
       "</table>\n",
       "<p>9578 rows × 14 columns</p>\n",
       "</div>"
      ],
      "text/plain": [
       "      credit_policy  purpose  int_rate  installment  log_annual_inc    dti  \\\n",
       "0                 1        1    0.1189       829.10       11.350407  19.48   \n",
       "1                 1        3    0.1071       228.22       11.082143  14.29   \n",
       "2                 1        1    0.1357       366.86       10.373491  11.63   \n",
       "3                 1        1    0.1008       162.34       11.350407   8.10   \n",
       "4                 1        3    0.1426       102.92       11.299732  14.97   \n",
       "...             ...      ...       ...          ...             ...    ...   \n",
       "9573              0        2    0.1461       344.76       10.896739  10.39   \n",
       "9574              0        2    0.1253       257.70       11.141862   0.21   \n",
       "9575              0        1    0.1071        97.81       10.596635  13.09   \n",
       "9576              0        4    0.1600       351.58       10.819778  19.18   \n",
       "9577              0        1    0.1392       836.25       11.264464  16.28   \n",
       "\n",
       "       fico  days_with_cr_line  revol_bal  revol_util  inq_last_6mths  \\\n",
       "0     737.0        5639.958333   28854.00        52.1               0   \n",
       "1     707.0        2760.000000   33623.00        76.7               0   \n",
       "2     682.0        4710.000000    3511.00        25.6               1   \n",
       "3     712.0        2699.958333   33667.00        73.2               1   \n",
       "4     667.0        4066.000000    4740.00        39.5               0   \n",
       "...     ...                ...        ...         ...             ...   \n",
       "9573  672.0       10095.000000   40843.25        82.1               2   \n",
       "9574  722.0        4380.000000     184.00         1.1               5   \n",
       "9575  687.0        3450.041667   10036.00        82.9               8   \n",
       "9576  692.0        1800.000000       0.00         3.2               5   \n",
       "9577  732.0        4740.000000   37879.00        57.0               6   \n",
       "\n",
       "      delinq_2yrs  pub_rec  not_fully_paid  \n",
       "0               0        0               0  \n",
       "1               0        0               0  \n",
       "2               0        0               0  \n",
       "3               0        0               0  \n",
       "4               1        0               0  \n",
       "...           ...      ...             ...  \n",
       "9573            0        0               1  \n",
       "9574            0        0               1  \n",
       "9575            0        0               1  \n",
       "9576            0        0               1  \n",
       "9577            0        0               1  \n",
       "\n",
       "[9578 rows x 14 columns]"
      ]
     },
     "execution_count": 41,
     "metadata": {},
     "output_type": "execute_result"
    }
   ],
   "source": [
    "df"
   ]
  },
  {
   "cell_type": "code",
   "execution_count": 42,
   "id": "eba829ae",
   "metadata": {},
   "outputs": [
    {
     "data": {
      "text/html": [
       "<div>\n",
       "<style scoped>\n",
       "    .dataframe tbody tr th:only-of-type {\n",
       "        vertical-align: middle;\n",
       "    }\n",
       "\n",
       "    .dataframe tbody tr th {\n",
       "        vertical-align: top;\n",
       "    }\n",
       "\n",
       "    .dataframe thead th {\n",
       "        text-align: right;\n",
       "    }\n",
       "</style>\n",
       "<table border=\"1\" class=\"dataframe\">\n",
       "  <thead>\n",
       "    <tr style=\"text-align: right;\">\n",
       "      <th></th>\n",
       "      <th>credit_policy</th>\n",
       "      <th>purpose</th>\n",
       "      <th>int_rate</th>\n",
       "      <th>installment</th>\n",
       "      <th>log_annual_inc</th>\n",
       "      <th>dti</th>\n",
       "      <th>fico</th>\n",
       "      <th>days_with_cr_line</th>\n",
       "      <th>revol_bal</th>\n",
       "      <th>revol_util</th>\n",
       "      <th>inq_last_6mths</th>\n",
       "      <th>delinq_2yrs</th>\n",
       "      <th>pub_rec</th>\n",
       "    </tr>\n",
       "    <tr>\n",
       "      <th>not_fully_paid</th>\n",
       "      <th></th>\n",
       "      <th></th>\n",
       "      <th></th>\n",
       "      <th></th>\n",
       "      <th></th>\n",
       "      <th></th>\n",
       "      <th></th>\n",
       "      <th></th>\n",
       "      <th></th>\n",
       "      <th></th>\n",
       "      <th></th>\n",
       "      <th></th>\n",
       "      <th></th>\n",
       "    </tr>\n",
       "  </thead>\n",
       "  <tbody>\n",
       "    <tr>\n",
       "      <th>0</th>\n",
       "      <td>0.832318</td>\n",
       "      <td>2.381479</td>\n",
       "      <td>0.117655</td>\n",
       "      <td>313.971753</td>\n",
       "      <td>10.939423</td>\n",
       "      <td>12.494413</td>\n",
       "      <td>705.234307</td>\n",
       "      <td>4520.119158</td>\n",
       "      <td>12508.685208</td>\n",
       "      <td>45.759608</td>\n",
       "      <td>1.433934</td>\n",
       "      <td>0.161591</td>\n",
       "      <td>0.056557</td>\n",
       "    </tr>\n",
       "    <tr>\n",
       "      <th>1</th>\n",
       "      <td>0.661448</td>\n",
       "      <td>2.530985</td>\n",
       "      <td>0.125815</td>\n",
       "      <td>341.211866</td>\n",
       "      <td>10.902336</td>\n",
       "      <td>13.195838</td>\n",
       "      <td>694.997391</td>\n",
       "      <td>4334.654979</td>\n",
       "      <td>13679.745923</td>\n",
       "      <td>52.255075</td>\n",
       "      <td>2.330724</td>\n",
       "      <td>0.174821</td>\n",
       "      <td>0.091324</td>\n",
       "    </tr>\n",
       "  </tbody>\n",
       "</table>\n",
       "</div>"
      ],
      "text/plain": [
       "                credit_policy   purpose  int_rate  installment  \\\n",
       "not_fully_paid                                                   \n",
       "0                    0.832318  2.381479  0.117655   313.971753   \n",
       "1                    0.661448  2.530985  0.125815   341.211866   \n",
       "\n",
       "                log_annual_inc        dti        fico  days_with_cr_line  \\\n",
       "not_fully_paid                                                             \n",
       "0                    10.939423  12.494413  705.234307        4520.119158   \n",
       "1                    10.902336  13.195838  694.997391        4334.654979   \n",
       "\n",
       "                   revol_bal  revol_util  inq_last_6mths  delinq_2yrs  \\\n",
       "not_fully_paid                                                          \n",
       "0               12508.685208   45.759608        1.433934     0.161591   \n",
       "1               13679.745923   52.255075        2.330724     0.174821   \n",
       "\n",
       "                 pub_rec  \n",
       "not_fully_paid            \n",
       "0               0.056557  \n",
       "1               0.091324  "
      ]
     },
     "execution_count": 42,
     "metadata": {},
     "output_type": "execute_result"
    }
   ],
   "source": [
    "# grouping data based on target column\n",
    "df.groupby(df['not_fully_paid']).mean()"
   ]
  },
  {
   "cell_type": "markdown",
   "id": "f27e86b5",
   "metadata": {},
   "source": [
    "# Model Traning & Evaluation"
   ]
  },
  {
   "cell_type": "markdown",
   "id": "5bfde3b7",
   "metadata": {},
   "source": [
    "## Logistic Regression"
   ]
  },
  {
   "cell_type": "code",
   "execution_count": 43,
   "id": "32f1ad22",
   "metadata": {},
   "outputs": [],
   "source": [
    "x = df.drop(['not_fully_paid'],axis=1)\n",
    "y = df['not_fully_paid']\n",
    "x_train,x_test,y_train,y_test = train_test_split(x,y,test_size=0.2,random_state=24,stratify=y)"
   ]
  },
  {
   "cell_type": "code",
   "execution_count": 44,
   "id": "7a81f514",
   "metadata": {},
   "outputs": [
    {
     "data": {
      "text/plain": [
       "((7662, 13), (1916, 13), (7662,), (1916,))"
      ]
     },
     "execution_count": 44,
     "metadata": {},
     "output_type": "execute_result"
    }
   ],
   "source": [
    "# Checking the split\n",
    "x_train.shape,x_test.shape,y_train.shape,y_test.shape"
   ]
  },
  {
   "cell_type": "code",
   "execution_count": 45,
   "id": "bc9321a2",
   "metadata": {},
   "outputs": [
    {
     "data": {
      "text/plain": [
       "LogisticRegression()"
      ]
     },
     "execution_count": 45,
     "metadata": {},
     "output_type": "execute_result"
    }
   ],
   "source": [
    "logistic_model = LogisticRegression()\n",
    "logistic_model.fit(x_train,y_train)"
   ]
  },
  {
   "cell_type": "code",
   "execution_count": 46,
   "id": "a3223a2f",
   "metadata": {},
   "outputs": [
    {
     "name": "stdout",
     "output_type": "stream",
     "text": [
      "Confusion matrix: \n",
      " [[1602  303]\n",
      " [   7    4]]\n",
      "**************************************************\n",
      "Accuracy:  0.8382045929018789\n",
      "**************************************************\n",
      "Classification report: \n",
      "               precision    recall  f1-score   support\n",
      "\n",
      "           0       1.00      0.84      0.91      1905\n",
      "           1       0.01      0.36      0.03        11\n",
      "\n",
      "    accuracy                           0.84      1916\n",
      "   macro avg       0.50      0.60      0.47      1916\n",
      "weighted avg       0.99      0.84      0.91      1916\n",
      "\n"
     ]
    }
   ],
   "source": [
    "# Testing data evaluation\n",
    "\n",
    "y_pred = logistic_model.predict(x_test)\n",
    "\n",
    "cnf_matrix = confusion_matrix(y_pred,y_test)\n",
    "print(\"Confusion matrix: \\n\",cnf_matrix)\n",
    "print('*'*50)\n",
    "accuracy = accuracy_score(y_pred,y_test)\n",
    "print(\"Accuracy: \",accuracy)\n",
    "print('*'*50)\n",
    "clf_report = classification_report(y_pred,y_test)\n",
    "print(\"Classification report: \\n\",clf_report)"
   ]
  },
  {
   "cell_type": "code",
   "execution_count": 47,
   "id": "c08774d6",
   "metadata": {},
   "outputs": [
    {
     "name": "stdout",
     "output_type": "stream",
     "text": [
      "Confusion Matrix:\n",
      " [[6414   22]\n",
      " [1210   16]]\n",
      "**************************************************\n",
      "Accuracy:\n",
      " 0.8392064735056121\n",
      "**************************************************\n",
      "Classificatio Report:\n",
      "               precision    recall  f1-score   support\n",
      "\n",
      "           0       0.84      1.00      0.91      6436\n",
      "           1       0.42      0.01      0.03      1226\n",
      "\n",
      "    accuracy                           0.84      7662\n",
      "   macro avg       0.63      0.50      0.47      7662\n",
      "weighted avg       0.77      0.84      0.77      7662\n",
      "\n"
     ]
    }
   ],
   "source": [
    "# Training data evaluation\n",
    "\n",
    "y_pred_train = logistic_model.predict(x_train)\n",
    "\n",
    "cnf_matrix = confusion_matrix(y_train,y_pred_train)\n",
    "print(\"Confusion Matrix:\\n\",cnf_matrix)\n",
    "print('*'*50)\n",
    "accuracy = accuracy_score(y_train,y_pred_train)\n",
    "print(\"Accuracy:\\n\",accuracy)\n",
    "print('*'*50)\n",
    "clf_report = classification_report(y_train,y_pred_train)\n",
    "print(\"Classificatio Report:\\n\",clf_report)"
   ]
  },
  {
   "cell_type": "code",
   "execution_count": 48,
   "id": "5defb0be",
   "metadata": {},
   "outputs": [],
   "source": [
    "# A low F1 score tells you (almost) nothing — it only tells you about performance at a threshold. Low recall means we didnt \n",
    "# try to do well on very much of the entire test set. "
   ]
  },
  {
   "cell_type": "markdown",
   "id": "404753cd",
   "metadata": {},
   "source": [
    "## logistic_model_using_feature_scaling"
   ]
  },
  {
   "cell_type": "markdown",
   "id": "2c2460f4",
   "metadata": {},
   "source": [
    "### Normalization"
   ]
  },
  {
   "cell_type": "code",
   "execution_count": 49,
   "id": "95a81333",
   "metadata": {},
   "outputs": [],
   "source": [
    "x = df.drop(['not_fully_paid'],axis=1)\n",
    "y = df['not_fully_paid']\n",
    "x_train,x_test,y_train,y_test = train_test_split(x,y,test_size=0.2,random_state=24,stratify=y)"
   ]
  },
  {
   "cell_type": "code",
   "execution_count": 50,
   "id": "b38338cb",
   "metadata": {},
   "outputs": [
    {
     "data": {
      "text/html": [
       "<div>\n",
       "<style scoped>\n",
       "    .dataframe tbody tr th:only-of-type {\n",
       "        vertical-align: middle;\n",
       "    }\n",
       "\n",
       "    .dataframe tbody tr th {\n",
       "        vertical-align: top;\n",
       "    }\n",
       "\n",
       "    .dataframe thead th {\n",
       "        text-align: right;\n",
       "    }\n",
       "</style>\n",
       "<table border=\"1\" class=\"dataframe\">\n",
       "  <thead>\n",
       "    <tr style=\"text-align: right;\">\n",
       "      <th></th>\n",
       "      <th>credit_policy</th>\n",
       "      <th>purpose</th>\n",
       "      <th>int_rate</th>\n",
       "      <th>installment</th>\n",
       "      <th>log_annual_inc</th>\n",
       "      <th>dti</th>\n",
       "      <th>fico</th>\n",
       "      <th>days_with_cr_line</th>\n",
       "      <th>revol_bal</th>\n",
       "      <th>revol_util</th>\n",
       "      <th>inq_last_6mths</th>\n",
       "      <th>delinq_2yrs</th>\n",
       "      <th>pub_rec</th>\n",
       "    </tr>\n",
       "  </thead>\n",
       "  <tbody>\n",
       "    <tr>\n",
       "      <th>0</th>\n",
       "      <td>1.0</td>\n",
       "      <td>0.000000</td>\n",
       "      <td>0.642996</td>\n",
       "      <td>0.225901</td>\n",
       "      <td>0.126375</td>\n",
       "      <td>0.664887</td>\n",
       "      <td>0.387097</td>\n",
       "      <td>0.163385</td>\n",
       "      <td>0.078618</td>\n",
       "      <td>0.657983</td>\n",
       "      <td>0.060606</td>\n",
       "      <td>0.0</td>\n",
       "      <td>0.0</td>\n",
       "    </tr>\n",
       "    <tr>\n",
       "      <th>1</th>\n",
       "      <td>1.0</td>\n",
       "      <td>0.166667</td>\n",
       "      <td>0.390078</td>\n",
       "      <td>0.172634</td>\n",
       "      <td>0.415675</td>\n",
       "      <td>0.321095</td>\n",
       "      <td>0.677419</td>\n",
       "      <td>0.296513</td>\n",
       "      <td>0.283498</td>\n",
       "      <td>0.310924</td>\n",
       "      <td>0.060606</td>\n",
       "      <td>0.0</td>\n",
       "      <td>0.0</td>\n",
       "    </tr>\n",
       "  </tbody>\n",
       "</table>\n",
       "</div>"
      ],
      "text/plain": [
       "   credit_policy   purpose  int_rate  installment  log_annual_inc       dti  \\\n",
       "0            1.0  0.000000  0.642996     0.225901        0.126375  0.664887   \n",
       "1            1.0  0.166667  0.390078     0.172634        0.415675  0.321095   \n",
       "\n",
       "       fico  days_with_cr_line  revol_bal  revol_util  inq_last_6mths  \\\n",
       "0  0.387097           0.163385   0.078618    0.657983        0.060606   \n",
       "1  0.677419           0.296513   0.283498    0.310924        0.060606   \n",
       "\n",
       "   delinq_2yrs  pub_rec  \n",
       "0          0.0      0.0  \n",
       "1          0.0      0.0  "
      ]
     },
     "execution_count": 50,
     "metadata": {},
     "output_type": "execute_result"
    }
   ],
   "source": [
    "normal_scaler = MinMaxScaler()\n",
    "normal_scaler.fit(x_train)  # for storing min max values\n",
    "array = normal_scaler.transform(x_train)\n",
    "normal_train_xdf = pd.DataFrame(array,columns=x_train.columns)\n",
    "normal_train_xdf.head(2)"
   ]
  },
  {
   "cell_type": "code",
   "execution_count": 51,
   "id": "2912486d",
   "metadata": {},
   "outputs": [
    {
     "data": {
      "text/plain": [
       "LogisticRegression()"
      ]
     },
     "execution_count": 51,
     "metadata": {},
     "output_type": "execute_result"
    }
   ],
   "source": [
    "log_normal_model = LogisticRegression()\n",
    "log_normal_model.fit(normal_train_xdf,y_train)"
   ]
  },
  {
   "cell_type": "code",
   "execution_count": 52,
   "id": "921b0d2e",
   "metadata": {},
   "outputs": [
    {
     "name": "stdout",
     "output_type": "stream",
     "text": [
      "Confusion matrix: \n",
      " [[1603  305]\n",
      " [   6    2]]\n",
      "**************************************************\n",
      "Accuracy:  0.8376826722338204\n",
      "**************************************************\n",
      "Classification report: \n",
      "               precision    recall  f1-score   support\n",
      "\n",
      "           0       1.00      0.84      0.91      1908\n",
      "           1       0.01      0.25      0.01         8\n",
      "\n",
      "    accuracy                           0.84      1916\n",
      "   macro avg       0.50      0.55      0.46      1916\n",
      "weighted avg       0.99      0.84      0.91      1916\n",
      "\n"
     ]
    }
   ],
   "source": [
    "# Testing data evaluation\n",
    "\n",
    "array = normal_scaler.transform(x_test)\n",
    "normal_test_xdf = pd.DataFrame(array,columns=x_test.columns)\n",
    "y_pred = log_normal_model.predict(normal_test_xdf)\n",
    "\n",
    "cnf_matrix = confusion_matrix(y_pred,y_test)\n",
    "print(\"Confusion matrix: \\n\",cnf_matrix)\n",
    "print('*'*50)\n",
    "accuracy = accuracy_score(y_pred,y_test)\n",
    "print(\"Accuracy: \",accuracy)\n",
    "print('*'*50)\n",
    "clf_report = classification_report(y_pred,y_test)\n",
    "print(\"Classification report: \\n\",clf_report)"
   ]
  },
  {
   "cell_type": "code",
   "execution_count": 53,
   "id": "385b1238",
   "metadata": {},
   "outputs": [
    {
     "name": "stdout",
     "output_type": "stream",
     "text": [
      "Confusion Matrix:\n",
      " [[6424   12]\n",
      " [1210   16]]\n",
      "**************************************************\n",
      "Accuracy:\n",
      " 0.8405116157661185\n",
      "**************************************************\n",
      "Classificatio Report:\n",
      "               precision    recall  f1-score   support\n",
      "\n",
      "           0       0.84      1.00      0.91      6436\n",
      "           1       0.57      0.01      0.03      1226\n",
      "\n",
      "    accuracy                           0.84      7662\n",
      "   macro avg       0.71      0.51      0.47      7662\n",
      "weighted avg       0.80      0.84      0.77      7662\n",
      "\n"
     ]
    }
   ],
   "source": [
    "# Training data evaluation\n",
    "\n",
    "y_pred_train = log_normal_model.predict(normal_train_xdf)\n",
    "\n",
    "cnf_matrix = confusion_matrix(y_train,y_pred_train)\n",
    "print(\"Confusion Matrix:\\n\",cnf_matrix)\n",
    "print('*'*50)\n",
    "accuracy = accuracy_score(y_train,y_pred_train)\n",
    "print(\"Accuracy:\\n\",accuracy)\n",
    "print('*'*50)\n",
    "clf_report = classification_report(y_train,y_pred_train)\n",
    "print(\"Classificatio Report:\\n\",clf_report)"
   ]
  },
  {
   "cell_type": "code",
   "execution_count": 54,
   "id": "25091ea5",
   "metadata": {},
   "outputs": [],
   "source": [
    "# A low recall score (<0.5) means your classifier has a high number of False negatives which can be an outcome of \n",
    "# imbalanced class or untuned model hyperparameters\n",
    "\n",
    "# In an imbalanced class problem, you have to prepare your data beforehand with Over/Under-Sampling or Focal Loss in order \n",
    "# to curb FP/FN"
   ]
  },
  {
   "cell_type": "markdown",
   "id": "c3d46231",
   "metadata": {},
   "source": [
    "### Standardization"
   ]
  },
  {
   "cell_type": "code",
   "execution_count": 55,
   "id": "028f5313",
   "metadata": {},
   "outputs": [],
   "source": [
    "x = df.drop(['not_fully_paid'],axis=1)\n",
    "y = df['not_fully_paid']\n",
    "x_train,x_test,y_train,y_test = train_test_split(x,y,test_size=0.2,random_state=24,stratify=y)"
   ]
  },
  {
   "cell_type": "code",
   "execution_count": 56,
   "id": "91aabef0",
   "metadata": {},
   "outputs": [
    {
     "data": {
      "text/html": [
       "<div>\n",
       "<style scoped>\n",
       "    .dataframe tbody tr th:only-of-type {\n",
       "        vertical-align: middle;\n",
       "    }\n",
       "\n",
       "    .dataframe tbody tr th {\n",
       "        vertical-align: top;\n",
       "    }\n",
       "\n",
       "    .dataframe thead th {\n",
       "        text-align: right;\n",
       "    }\n",
       "</style>\n",
       "<table border=\"1\" class=\"dataframe\">\n",
       "  <thead>\n",
       "    <tr style=\"text-align: right;\">\n",
       "      <th></th>\n",
       "      <th>credit_policy</th>\n",
       "      <th>purpose</th>\n",
       "      <th>int_rate</th>\n",
       "      <th>installment</th>\n",
       "      <th>log_annual_inc</th>\n",
       "      <th>dti</th>\n",
       "      <th>fico</th>\n",
       "      <th>days_with_cr_line</th>\n",
       "      <th>revol_bal</th>\n",
       "      <th>revol_util</th>\n",
       "      <th>inq_last_6mths</th>\n",
       "      <th>delinq_2yrs</th>\n",
       "      <th>pub_rec</th>\n",
       "    </tr>\n",
       "  </thead>\n",
       "  <tbody>\n",
       "    <tr>\n",
       "      <th>0</th>\n",
       "      <td>0.491747</td>\n",
       "      <td>-0.842320</td>\n",
       "      <td>0.326884</td>\n",
       "      <td>-0.579298</td>\n",
       "      <td>-1.565849</td>\n",
       "      <td>1.059042</td>\n",
       "      <td>-1.070445</td>\n",
       "      <td>-1.184569</td>\n",
       "      <td>-0.774587</td>\n",
       "      <td>1.088994</td>\n",
       "      <td>0.192019</td>\n",
       "      <td>-0.29877</td>\n",
       "      <td>-0.235369</td>\n",
       "    </tr>\n",
       "    <tr>\n",
       "      <th>1</th>\n",
       "      <td>0.491747</td>\n",
       "      <td>-0.251686</td>\n",
       "      <td>-0.832556</td>\n",
       "      <td>-0.791083</td>\n",
       "      <td>-0.288244</td>\n",
       "      <td>-0.430671</td>\n",
       "      <td>0.435477</td>\n",
       "      <td>-0.609960</td>\n",
       "      <td>-0.092082</td>\n",
       "      <td>-0.332526</td>\n",
       "      <td>0.192019</td>\n",
       "      <td>-0.29877</td>\n",
       "      <td>-0.235369</td>\n",
       "    </tr>\n",
       "  </tbody>\n",
       "</table>\n",
       "</div>"
      ],
      "text/plain": [
       "   credit_policy   purpose  int_rate  installment  log_annual_inc       dti  \\\n",
       "0       0.491747 -0.842320  0.326884    -0.579298       -1.565849  1.059042   \n",
       "1       0.491747 -0.251686 -0.832556    -0.791083       -0.288244 -0.430671   \n",
       "\n",
       "       fico  days_with_cr_line  revol_bal  revol_util  inq_last_6mths  \\\n",
       "0 -1.070445          -1.184569  -0.774587    1.088994        0.192019   \n",
       "1  0.435477          -0.609960  -0.092082   -0.332526        0.192019   \n",
       "\n",
       "   delinq_2yrs   pub_rec  \n",
       "0     -0.29877 -0.235369  \n",
       "1     -0.29877 -0.235369  "
      ]
     },
     "execution_count": 56,
     "metadata": {},
     "output_type": "execute_result"
    }
   ],
   "source": [
    "std_scaler = StandardScaler()\n",
    "std_scaler.fit(x_train) # storing std,mean values\n",
    "array = std_scaler.transform(x_train)\n",
    "std_train_xdf = pd.DataFrame(array,columns=x_train.columns)\n",
    "std_train_xdf.head(2)"
   ]
  },
  {
   "cell_type": "code",
   "execution_count": 57,
   "id": "cf0ac540",
   "metadata": {},
   "outputs": [
    {
     "data": {
      "text/plain": [
       "LogisticRegression()"
      ]
     },
     "execution_count": 57,
     "metadata": {},
     "output_type": "execute_result"
    }
   ],
   "source": [
    "log_std_model = LogisticRegression()\n",
    "log_std_model.fit(std_train_xdf,y_train)"
   ]
  },
  {
   "cell_type": "code",
   "execution_count": 58,
   "id": "66665132",
   "metadata": {},
   "outputs": [
    {
     "name": "stdout",
     "output_type": "stream",
     "text": [
      "Confusion matrix: \n",
      " [[1609  307]\n",
      " [   0    0]]\n",
      "**************************************************\n",
      "Accuracy:  0.8397703549060542\n",
      "**************************************************\n",
      "Classification report: \n",
      "               precision    recall  f1-score   support\n",
      "\n",
      "           0       1.00      0.84      0.91      1916\n",
      "           1       0.00      0.00      0.00         0\n",
      "\n",
      "    accuracy                           0.84      1916\n",
      "   macro avg       0.50      0.42      0.46      1916\n",
      "weighted avg       1.00      0.84      0.91      1916\n",
      "\n"
     ]
    }
   ],
   "source": [
    "# Testing data evaluation\n",
    "\n",
    "array = normal_scaler.transform(x_test)\n",
    "std_test_xdf = pd.DataFrame(array,columns=x_test.columns)\n",
    "y_pred = log_std_model.predict(std_test_xdf)\n",
    "\n",
    "cnf_matrix = confusion_matrix(y_pred,y_test)\n",
    "print(\"Confusion matrix: \\n\",cnf_matrix)\n",
    "print('*'*50)\n",
    "accuracy = accuracy_score(y_pred,y_test)\n",
    "print(\"Accuracy: \",accuracy)\n",
    "print('*'*50)\n",
    "clf_report = classification_report(y_pred,y_test)\n",
    "print(\"Classification report: \\n\",clf_report)"
   ]
  },
  {
   "cell_type": "code",
   "execution_count": 59,
   "id": "b389cc95",
   "metadata": {},
   "outputs": [
    {
     "name": "stdout",
     "output_type": "stream",
     "text": [
      "Confusion Matrix:\n",
      " [[6415   21]\n",
      " [1206   20]]\n",
      "**************************************************\n",
      "Accuracy:\n",
      " 0.8398590446358654\n",
      "**************************************************\n",
      "Classificatio Report:\n",
      "               precision    recall  f1-score   support\n",
      "\n",
      "           0       0.84      1.00      0.91      6436\n",
      "           1       0.49      0.02      0.03      1226\n",
      "\n",
      "    accuracy                           0.84      7662\n",
      "   macro avg       0.66      0.51      0.47      7662\n",
      "weighted avg       0.79      0.84      0.77      7662\n",
      "\n"
     ]
    }
   ],
   "source": [
    "# Training data evaluation\n",
    "\n",
    "y_pred_train = log_std_model.predict(std_train_xdf)\n",
    "\n",
    "cnf_matrix = confusion_matrix(y_train,y_pred_train)\n",
    "print(\"Confusion Matrix:\\n\",cnf_matrix)\n",
    "print('*'*50)\n",
    "accuracy = accuracy_score(y_train,y_pred_train)\n",
    "print(\"Accuracy:\\n\",accuracy)\n",
    "print('*'*50)\n",
    "clf_report = classification_report(y_train,y_pred_train)\n",
    "print(\"Classificatio Report:\\n\",clf_report)"
   ]
  },
  {
   "cell_type": "markdown",
   "id": "2c4960d7",
   "metadata": {},
   "source": [
    "### Logistic model with oversampling"
   ]
  },
  {
   "cell_type": "code",
   "execution_count": 60,
   "id": "bae78ba1",
   "metadata": {},
   "outputs": [],
   "source": [
    "x = df.drop(['not_fully_paid'],axis=1)\n",
    "y = df['not_fully_paid']\n",
    "\n",
    "smt = SMOTE()\n",
    "x,y = smt.fit_resample(x,y)\n",
    "x_train,x_test,y_train,y_test = train_test_split(x,y,test_size=0.2,random_state=24,stratify=y)"
   ]
  },
  {
   "cell_type": "code",
   "execution_count": 61,
   "id": "cd9106a5",
   "metadata": {},
   "outputs": [
    {
     "data": {
      "text/plain": [
       "((12872, 13), (3218, 13), (12872,), (3218,))"
      ]
     },
     "execution_count": 61,
     "metadata": {},
     "output_type": "execute_result"
    }
   ],
   "source": [
    "x_train.shape,x_test.shape,y_train.shape,y_test.shape"
   ]
  },
  {
   "cell_type": "code",
   "execution_count": 62,
   "id": "f34cbe0f",
   "metadata": {},
   "outputs": [
    {
     "data": {
      "text/plain": [
       "LogisticRegression()"
      ]
     },
     "execution_count": 62,
     "metadata": {},
     "output_type": "execute_result"
    }
   ],
   "source": [
    "log_oversampled_model = LogisticRegression()\n",
    "log_oversampled_model.fit(x_train,y_train)"
   ]
  },
  {
   "cell_type": "code",
   "execution_count": 63,
   "id": "d359e0aa",
   "metadata": {},
   "outputs": [
    {
     "name": "stdout",
     "output_type": "stream",
     "text": [
      "Confusion Matrix :\n",
      " [[951 658]\n",
      " [708 901]]\n",
      "********************************************************************************\n",
      "Accuracy : 0.5755127408328155\n",
      "********************************************************************************\n",
      "Classification Report :\n",
      "               precision    recall  f1-score   support\n",
      "\n",
      "           0       0.57      0.59      0.58      1609\n",
      "           1       0.58      0.56      0.57      1609\n",
      "\n",
      "    accuracy                           0.58      3218\n",
      "   macro avg       0.58      0.58      0.58      3218\n",
      "weighted avg       0.58      0.58      0.58      3218\n",
      "\n"
     ]
    }
   ],
   "source": [
    "## Testing Data Evaluation\n",
    "\n",
    "y_pred = log_oversampled_model.predict(x_test)\n",
    "\n",
    "cnf_matrix = confusion_matrix(y_test, y_pred)\n",
    "print(\"Confusion Matrix :\\n\",cnf_matrix)\n",
    "\n",
    "print(\"*\"*80)\n",
    "accuracy = accuracy_score(y_test, y_pred)\n",
    "print(\"Accuracy :\",accuracy)\n",
    "\n",
    "print(\"*\"*80)\n",
    "clf_report = classification_report(y_test, y_pred)\n",
    "print(\"Classification Report :\\n\",clf_report)\n"
   ]
  },
  {
   "cell_type": "code",
   "execution_count": 64,
   "id": "eefd1a43",
   "metadata": {},
   "outputs": [
    {
     "name": "stdout",
     "output_type": "stream",
     "text": [
      "Confusion Matrix :\n",
      " [[3790 2646]\n",
      " [2767 3669]]\n",
      "********************************************************************************\n",
      "Accuracy : 0.579474829086389\n",
      "********************************************************************************\n",
      "Classification Report :\n",
      "               precision    recall  f1-score   support\n",
      "\n",
      "           0       0.58      0.59      0.58      6436\n",
      "           1       0.58      0.57      0.58      6436\n",
      "\n",
      "    accuracy                           0.58     12872\n",
      "   macro avg       0.58      0.58      0.58     12872\n",
      "weighted avg       0.58      0.58      0.58     12872\n",
      "\n"
     ]
    }
   ],
   "source": [
    "## Training Data Evaluation \n",
    "\n",
    "y_pred_train = log_oversampled_model.predict(x_train)\n",
    "\n",
    "cnf_matrix = confusion_matrix(y_train, y_pred_train)\n",
    "print(\"Confusion Matrix :\\n\",cnf_matrix)\n",
    "\n",
    "print(\"*\"*80)\n",
    "accuracy = accuracy_score(y_train, y_pred_train)\n",
    "print(\"Accuracy :\",accuracy)\n",
    "\n",
    "print(\"*\"*80)\n",
    "clf_report = classification_report(y_train, y_pred_train)\n",
    "print(\"Classification Report :\\n\",clf_report)"
   ]
  },
  {
   "cell_type": "markdown",
   "id": "f30ad91f",
   "metadata": {},
   "source": [
    "### Logistic model with undersampling"
   ]
  },
  {
   "cell_type": "code",
   "execution_count": 65,
   "id": "9cec2730",
   "metadata": {},
   "outputs": [],
   "source": [
    "x = df.drop(['not_fully_paid'],axis=1)\n",
    "y = df['not_fully_paid']\n",
    "\n",
    "under_sampler = RandomUnderSampler()\n",
    "x,y = under_sampler.fit_resample(x,y)\n",
    "x_train,x_test,y_train,y_test = train_test_split(x,y,test_size=0.2,random_state=24,stratify=y)"
   ]
  },
  {
   "cell_type": "code",
   "execution_count": 66,
   "id": "fa6227a3",
   "metadata": {},
   "outputs": [
    {
     "data": {
      "text/plain": [
       "((2452, 13), (614, 13), (2452,), (614,))"
      ]
     },
     "execution_count": 66,
     "metadata": {},
     "output_type": "execute_result"
    }
   ],
   "source": [
    "x_train.shape,x_test.shape,y_train.shape,y_test.shape"
   ]
  },
  {
   "cell_type": "code",
   "execution_count": 67,
   "id": "600695a1",
   "metadata": {},
   "outputs": [
    {
     "data": {
      "text/plain": [
       "LogisticRegression()"
      ]
     },
     "execution_count": 67,
     "metadata": {},
     "output_type": "execute_result"
    }
   ],
   "source": [
    "log_undersampled_model = LogisticRegression()\n",
    "log_undersampled_model.fit(x_train,y_train)"
   ]
  },
  {
   "cell_type": "code",
   "execution_count": 68,
   "id": "6651b592",
   "metadata": {},
   "outputs": [
    {
     "name": "stdout",
     "output_type": "stream",
     "text": [
      "Confusion Matrix :\n",
      " [[206 101]\n",
      " [147 160]]\n",
      "********************************************************************************\n",
      "Accuracy : 0.5960912052117264\n",
      "********************************************************************************\n",
      "Classification Report :\n",
      "               precision    recall  f1-score   support\n",
      "\n",
      "           0       0.58      0.67      0.62       307\n",
      "           1       0.61      0.52      0.56       307\n",
      "\n",
      "    accuracy                           0.60       614\n",
      "   macro avg       0.60      0.60      0.59       614\n",
      "weighted avg       0.60      0.60      0.59       614\n",
      "\n"
     ]
    }
   ],
   "source": [
    "## Testing Data Evaluation\n",
    "\n",
    "y_pred = log_undersampled_model.predict(x_test)\n",
    "\n",
    "cnf_matrix = confusion_matrix(y_test, y_pred)\n",
    "print(\"Confusion Matrix :\\n\",cnf_matrix)\n",
    "\n",
    "print(\"*\"*80)\n",
    "accuracy = accuracy_score(y_test, y_pred)\n",
    "print(\"Accuracy :\",accuracy)\n",
    "\n",
    "print(\"*\"*80)\n",
    "clf_report = classification_report(y_test, y_pred)\n",
    "print(\"Classification Report :\\n\",clf_report)\n"
   ]
  },
  {
   "cell_type": "code",
   "execution_count": 69,
   "id": "fee34583",
   "metadata": {},
   "outputs": [
    {
     "name": "stdout",
     "output_type": "stream",
     "text": [
      "Confusion Matrix :\n",
      " [[783 443]\n",
      " [554 672]]\n",
      "********************************************************************************\n",
      "Accuracy : 0.5933931484502447\n",
      "********************************************************************************\n",
      "Classification Report :\n",
      "               precision    recall  f1-score   support\n",
      "\n",
      "           0       0.59      0.64      0.61      1226\n",
      "           1       0.60      0.55      0.57      1226\n",
      "\n",
      "    accuracy                           0.59      2452\n",
      "   macro avg       0.59      0.59      0.59      2452\n",
      "weighted avg       0.59      0.59      0.59      2452\n",
      "\n"
     ]
    }
   ],
   "source": [
    "## Training Data Evaluation \n",
    "\n",
    "y_pred_train = log_undersampled_model.predict(x_train)\n",
    "\n",
    "cnf_matrix = confusion_matrix(y_train, y_pred_train)\n",
    "print(\"Confusion Matrix :\\n\",cnf_matrix)\n",
    "\n",
    "print(\"*\"*80)\n",
    "accuracy = accuracy_score(y_train, y_pred_train)\n",
    "print(\"Accuracy :\",accuracy)\n",
    "\n",
    "print(\"*\"*80)\n",
    "clf_report = classification_report(y_train, y_pred_train)\n",
    "print(\"Classification Report :\\n\",clf_report)"
   ]
  },
  {
   "cell_type": "markdown",
   "id": "45e2f511",
   "metadata": {},
   "source": [
    "### Logistic model optimum "
   ]
  },
  {
   "cell_type": "code",
   "execution_count": 70,
   "id": "926a41b0",
   "metadata": {},
   "outputs": [],
   "source": [
    "x = df.drop(['not_fully_paid'],axis=1)\n",
    "y = df['not_fully_paid']\n",
    "x_train,x_test,y_train,y_test = train_test_split(x,y,test_size=0.2,random_state=24,stratify=y)\n",
    "logistic_model_opt = LogisticRegression()\n",
    "logistic_model_opt.fit(x_train,y_train)\n",
    "y_pred = logistic_model_opt.predict(x_test)"
   ]
  },
  {
   "cell_type": "code",
   "execution_count": 71,
   "id": "429f8494",
   "metadata": {},
   "outputs": [
    {
     "name": "stdout",
     "output_type": "stream",
     "text": [
      "[[0.80952811 0.19047189]\n",
      " [0.87642398 0.12357602]\n",
      " [0.85661731 0.14338269]\n",
      " ...\n",
      " [0.84685927 0.15314073]\n",
      " [0.9102879  0.0897121 ]\n",
      " [0.78405985 0.21594015]]\n"
     ]
    }
   ],
   "source": [
    "y_pred_prob = logistic_model_opt.predict_proba(x_train)\n",
    "print(y_pred_prob)\n",
    "fpr,tpr,thresh = roc_curve(y_train,y_pred_prob[:,1])"
   ]
  },
  {
   "cell_type": "code",
   "execution_count": 72,
   "id": "8910728a",
   "metadata": {},
   "outputs": [
    {
     "data": {
      "text/plain": [
       "0.15901277378143877"
      ]
     },
     "execution_count": 72,
     "metadata": {},
     "output_type": "execute_result"
    }
   ],
   "source": [
    "# Finding the optimal threshold value\n",
    "optimal_idx = np.argmax(tpr-fpr)\n",
    "optimal_threshold = thresh[optimal_idx]\n",
    "optimal_threshold"
   ]
  },
  {
   "cell_type": "code",
   "execution_count": 73,
   "id": "8adb8f9c",
   "metadata": {},
   "outputs": [
    {
     "data": {
      "text/html": [
       "<div>\n",
       "<style scoped>\n",
       "    .dataframe tbody tr th:only-of-type {\n",
       "        vertical-align: middle;\n",
       "    }\n",
       "\n",
       "    .dataframe tbody tr th {\n",
       "        vertical-align: top;\n",
       "    }\n",
       "\n",
       "    .dataframe thead th {\n",
       "        text-align: right;\n",
       "    }\n",
       "</style>\n",
       "<table border=\"1\" class=\"dataframe\">\n",
       "  <thead>\n",
       "    <tr style=\"text-align: right;\">\n",
       "      <th></th>\n",
       "      <th>fpr</th>\n",
       "      <th>tpr</th>\n",
       "      <th>1-fpr</th>\n",
       "      <th>tf</th>\n",
       "      <th>thresholds</th>\n",
       "    </tr>\n",
       "  </thead>\n",
       "  <tbody>\n",
       "    <tr>\n",
       "      <th>1106</th>\n",
       "      <td>0.397296</td>\n",
       "      <td>0.602773</td>\n",
       "      <td>0.602704</td>\n",
       "      <td>0.00007</td>\n",
       "      <td>0.153214</td>\n",
       "    </tr>\n",
       "  </tbody>\n",
       "</table>\n",
       "</div>"
      ],
      "text/plain": [
       "           fpr       tpr     1-fpr       tf  thresholds\n",
       "1106  0.397296  0.602773  0.602704  0.00007    0.153214"
      ]
     },
     "execution_count": 73,
     "metadata": {},
     "output_type": "execute_result"
    }
   ],
   "source": [
    "# cutoff point > specificity == sensitivity\n",
    "\n",
    "i = np.arange(len(tpr))\n",
    "roc = pd.DataFrame({'fpr' : pd.Series(fpr, index=i),\\\n",
    "                    'tpr' : pd.Series(tpr, index = i),\\\n",
    "                    '1-fpr' : pd.Series(1-fpr, index = i),\\\n",
    "                    'tf' : pd.Series(tpr - (1-fpr), index = i),\\\n",
    "                    'thresholds' : pd.Series(thresh, index = i)})\n",
    "\n",
    "roc.iloc[(roc.tf-0).abs().argsort()[:1]]\n"
   ]
  },
  {
   "cell_type": "code",
   "execution_count": 74,
   "id": "648763ea",
   "metadata": {},
   "outputs": [
    {
     "data": {
      "image/png": "[encoded data removed]",
      "text/plain": [
       "<Figure size 432x288 with 1 Axes>"
      ]
     },
     "metadata": {},
     "output_type": "display_data"
    }
   ],
   "source": [
    "# Plot tpr vs 1-fpr to find the optimum threshold\n",
    "\n",
    "fig, ax = plt.subplots()\n",
    "plt.plot(roc['tpr'], color = 'red')\n",
    "plt.plot(roc['1-fpr'], color = 'blue')\n",
    "plt.xlabel('1-False Positive Rate')\n",
    "plt.ylabel('True Positive Rate')\n",
    "plt.title('Receiver operating characteristic')\n",
    "ax.set_xticklabels([])# no values on x axis as all we want y valus\n",
    "plt.show()"
   ]
  },
  {
   "cell_type": "code",
   "execution_count": 75,
   "id": "ed719f4d",
   "metadata": {},
   "outputs": [
    {
     "name": "stdout",
     "output_type": "stream",
     "text": [
      "Area under the roc curve:  0.6461894350396475\n"
     ]
    }
   ],
   "source": [
    "auc_value = auc(fpr,tpr)\n",
    "print(\"Area under the roc curve: \",auc_value)"
   ]
  },
  {
   "cell_type": "code",
   "execution_count": 76,
   "id": "f06e5b18",
   "metadata": {},
   "outputs": [
    {
     "name": "stdout",
     "output_type": "stream",
     "text": [
      "classification report: \n",
      "               precision    recall  f1-score   support\n",
      "\n",
      "         0.0       1.00      0.84      0.91      9529\n",
      "         1.0       0.01      0.41      0.03        49\n",
      "\n",
      "    accuracy                           0.84      9578\n",
      "   macro avg       0.50      0.62      0.47      9578\n",
      "weighted avg       0.99      0.84      0.91      9578\n",
      "\n"
     ]
    }
   ],
   "source": [
    "df['predict'] = np.zeros(df.shape[0])\n",
    "x = df.drop(['not_fully_paid','predict'],axis=1)\n",
    "pred = logistic_model.predict(x)\n",
    "df.loc[pred>optimal_threshold,'predict'] = 1\n",
    "classification = classification_report(df['predict'],df['not_fully_paid'])\n",
    "print(\"classification report: \\n\",classification)"
   ]
  },
  {
   "cell_type": "code",
   "execution_count": 77,
   "id": "9ea683a9",
   "metadata": {},
   "outputs": [],
   "source": [
    "df.drop(['predict'],axis=1,inplace=True)"
   ]
  },
  {
   "cell_type": "code",
   "execution_count": 78,
   "id": "0ebafb2b",
   "metadata": {},
   "outputs": [
    {
     "data": {
      "text/html": [
       "<div>\n",
       "<style scoped>\n",
       "    .dataframe tbody tr th:only-of-type {\n",
       "        vertical-align: middle;\n",
       "    }\n",
       "\n",
       "    .dataframe tbody tr th {\n",
       "        vertical-align: top;\n",
       "    }\n",
       "\n",
       "    .dataframe thead th {\n",
       "        text-align: right;\n",
       "    }\n",
       "</style>\n",
       "<table border=\"1\" class=\"dataframe\">\n",
       "  <thead>\n",
       "    <tr style=\"text-align: right;\">\n",
       "      <th></th>\n",
       "      <th>credit_policy</th>\n",
       "      <th>purpose</th>\n",
       "      <th>int_rate</th>\n",
       "      <th>installment</th>\n",
       "      <th>log_annual_inc</th>\n",
       "      <th>dti</th>\n",
       "      <th>fico</th>\n",
       "      <th>days_with_cr_line</th>\n",
       "      <th>revol_bal</th>\n",
       "      <th>revol_util</th>\n",
       "      <th>inq_last_6mths</th>\n",
       "      <th>delinq_2yrs</th>\n",
       "      <th>pub_rec</th>\n",
       "      <th>not_fully_paid</th>\n",
       "    </tr>\n",
       "  </thead>\n",
       "  <tbody>\n",
       "    <tr>\n",
       "      <th>0</th>\n",
       "      <td>1</td>\n",
       "      <td>1</td>\n",
       "      <td>0.1189</td>\n",
       "      <td>829.10</td>\n",
       "      <td>11.350407</td>\n",
       "      <td>19.48</td>\n",
       "      <td>737.0</td>\n",
       "      <td>5639.958333</td>\n",
       "      <td>28854.0</td>\n",
       "      <td>52.1</td>\n",
       "      <td>0</td>\n",
       "      <td>0</td>\n",
       "      <td>0</td>\n",
       "      <td>0</td>\n",
       "    </tr>\n",
       "    <tr>\n",
       "      <th>1</th>\n",
       "      <td>1</td>\n",
       "      <td>3</td>\n",
       "      <td>0.1071</td>\n",
       "      <td>228.22</td>\n",
       "      <td>11.082143</td>\n",
       "      <td>14.29</td>\n",
       "      <td>707.0</td>\n",
       "      <td>2760.000000</td>\n",
       "      <td>33623.0</td>\n",
       "      <td>76.7</td>\n",
       "      <td>0</td>\n",
       "      <td>0</td>\n",
       "      <td>0</td>\n",
       "      <td>0</td>\n",
       "    </tr>\n",
       "    <tr>\n",
       "      <th>2</th>\n",
       "      <td>1</td>\n",
       "      <td>1</td>\n",
       "      <td>0.1357</td>\n",
       "      <td>366.86</td>\n",
       "      <td>10.373491</td>\n",
       "      <td>11.63</td>\n",
       "      <td>682.0</td>\n",
       "      <td>4710.000000</td>\n",
       "      <td>3511.0</td>\n",
       "      <td>25.6</td>\n",
       "      <td>1</td>\n",
       "      <td>0</td>\n",
       "      <td>0</td>\n",
       "      <td>0</td>\n",
       "    </tr>\n",
       "    <tr>\n",
       "      <th>3</th>\n",
       "      <td>1</td>\n",
       "      <td>1</td>\n",
       "      <td>0.1008</td>\n",
       "      <td>162.34</td>\n",
       "      <td>11.350407</td>\n",
       "      <td>8.10</td>\n",
       "      <td>712.0</td>\n",
       "      <td>2699.958333</td>\n",
       "      <td>33667.0</td>\n",
       "      <td>73.2</td>\n",
       "      <td>1</td>\n",
       "      <td>0</td>\n",
       "      <td>0</td>\n",
       "      <td>0</td>\n",
       "    </tr>\n",
       "    <tr>\n",
       "      <th>4</th>\n",
       "      <td>1</td>\n",
       "      <td>3</td>\n",
       "      <td>0.1426</td>\n",
       "      <td>102.92</td>\n",
       "      <td>11.299732</td>\n",
       "      <td>14.97</td>\n",
       "      <td>667.0</td>\n",
       "      <td>4066.000000</td>\n",
       "      <td>4740.0</td>\n",
       "      <td>39.5</td>\n",
       "      <td>0</td>\n",
       "      <td>1</td>\n",
       "      <td>0</td>\n",
       "      <td>0</td>\n",
       "    </tr>\n",
       "  </tbody>\n",
       "</table>\n",
       "</div>"
      ],
      "text/plain": [
       "   credit_policy  purpose  int_rate  installment  log_annual_inc    dti  \\\n",
       "0              1        1    0.1189       829.10       11.350407  19.48   \n",
       "1              1        3    0.1071       228.22       11.082143  14.29   \n",
       "2              1        1    0.1357       366.86       10.373491  11.63   \n",
       "3              1        1    0.1008       162.34       11.350407   8.10   \n",
       "4              1        3    0.1426       102.92       11.299732  14.97   \n",
       "\n",
       "    fico  days_with_cr_line  revol_bal  revol_util  inq_last_6mths  \\\n",
       "0  737.0        5639.958333    28854.0        52.1               0   \n",
       "1  707.0        2760.000000    33623.0        76.7               0   \n",
       "2  682.0        4710.000000     3511.0        25.6               1   \n",
       "3  712.0        2699.958333    33667.0        73.2               1   \n",
       "4  667.0        4066.000000     4740.0        39.5               0   \n",
       "\n",
       "   delinq_2yrs  pub_rec  not_fully_paid  \n",
       "0            0        0               0  \n",
       "1            0        0               0  \n",
       "2            0        0               0  \n",
       "3            0        0               0  \n",
       "4            1        0               0  "
      ]
     },
     "execution_count": 78,
     "metadata": {},
     "output_type": "execute_result"
    }
   ],
   "source": [
    "df.head()"
   ]
  },
  {
   "cell_type": "code",
   "execution_count": 79,
   "id": "85524fa2",
   "metadata": {},
   "outputs": [
    {
     "data": {
      "text/plain": [
       "LogisticRegression()"
      ]
     },
     "execution_count": 79,
     "metadata": {},
     "output_type": "execute_result"
    }
   ],
   "source": [
    "x = df.drop('not_fully_paid',axis=1)\n",
    "y = df['not_fully_paid']\n",
    "x_train,x_test,y_train,y_test = train_test_split(x,y,test_size=0.2,random_state=24,stratify=y)\n",
    "opt_log_model = LogisticRegression()\n",
    "opt_log_model.fit(x_train,y_train)"
   ]
  },
  {
   "cell_type": "code",
   "execution_count": 80,
   "id": "d8b3923e",
   "metadata": {},
   "outputs": [
    {
     "name": "stdout",
     "output_type": "stream",
     "text": [
      "Classification Report: \n",
      "               precision    recall  f1-score   support\n",
      "\n",
      "         0.0       1.00      0.84      0.91      1905\n",
      "         1.0       0.01      0.36      0.03        11\n",
      "\n",
      "    accuracy                           0.84      1916\n",
      "   macro avg       0.50      0.60      0.47      1916\n",
      "weighted avg       0.99      0.84      0.91      1916\n",
      "\n"
     ]
    }
   ],
   "source": [
    "# Test data evaluation\n",
    "\n",
    "y_pred_test = opt_log_model.predict(x_test)\n",
    "\n",
    "x_test['y_pred'] = np.zeros(x_test.shape[0])\n",
    "x_test.loc[y_pred_test > optimal_threshold,'y_pred'] = 1\n",
    "report_test = classification_report(x_test['y_pred'],y_test)\n",
    "print(\"Classification Report: \\n\",report_test)"
   ]
  },
  {
   "cell_type": "code",
   "execution_count": 81,
   "id": "e9c9cafe",
   "metadata": {},
   "outputs": [
    {
     "name": "stdout",
     "output_type": "stream",
     "text": [
      "Classification Report: \n",
      "               precision    recall  f1-score   support\n",
      "\n",
      "         0.0       1.00      0.84      0.91      7624\n",
      "         1.0       0.01      0.42      0.03        38\n",
      "\n",
      "    accuracy                           0.84      7662\n",
      "   macro avg       0.50      0.63      0.47      7662\n",
      "weighted avg       0.99      0.84      0.91      7662\n",
      "\n"
     ]
    }
   ],
   "source": [
    "# Train data evaluation\n",
    "y_pred_train_testing  =  opt_log_model.predict(x_train)\n",
    "\n",
    "x_train['y_pred_train'] = np.zeros(x_train.shape[0])\n",
    "x_train.loc[y_pred_train_testing > optimal_threshold,'y_pred_train'] = 1\n",
    "report_test = classification_report(x_train['y_pred_train'],y_train)\n",
    "print(\"Classification Report: \\n\",report_test)"
   ]
  },
  {
   "cell_type": "markdown",
   "id": "8303fd01",
   "metadata": {},
   "source": [
    "## Logistic Optimal model oversampled"
   ]
  },
  {
   "cell_type": "code",
   "execution_count": 82,
   "id": "0b695853",
   "metadata": {},
   "outputs": [],
   "source": [
    "x = df.drop(['not_fully_paid'],axis=1)\n",
    "y = df['not_fully_paid']\n",
    "\n",
    "smt = SMOTE()\n",
    "x,y = smt.fit_resample(x,y)\n",
    "x_train,x_test,y_train,y_test = train_test_split(x,y,test_size=0.2,random_state=24,stratify=y)"
   ]
  },
  {
   "cell_type": "code",
   "execution_count": 83,
   "id": "3daab8d9",
   "metadata": {},
   "outputs": [
    {
     "data": {
      "text/plain": [
       "LogisticRegression()"
      ]
     },
     "execution_count": 83,
     "metadata": {},
     "output_type": "execute_result"
    }
   ],
   "source": [
    "opt_log_model_oversampled = LogisticRegression()\n",
    "opt_log_model_oversampled.fit(x_train,y_train)"
   ]
  },
  {
   "cell_type": "code",
   "execution_count": 84,
   "id": "33092606",
   "metadata": {},
   "outputs": [
    {
     "data": {
      "text/plain": [
       "((12872, 13), (3218, 13), (12872,), (3218,))"
      ]
     },
     "execution_count": 84,
     "metadata": {},
     "output_type": "execute_result"
    }
   ],
   "source": [
    "x_train.shape,x_test.shape,y_train.shape,y_test.shape"
   ]
  },
  {
   "cell_type": "code",
   "execution_count": 85,
   "id": "ac67ec62",
   "metadata": {},
   "outputs": [
    {
     "name": "stdout",
     "output_type": "stream",
     "text": [
      "Classification Report: \n",
      "               precision    recall  f1-score   support\n",
      "\n",
      "         0.0       0.65      0.58      0.61      1826\n",
      "         1.0       0.52      0.60      0.56      1392\n",
      "\n",
      "    accuracy                           0.59      3218\n",
      "   macro avg       0.59      0.59      0.58      3218\n",
      "weighted avg       0.60      0.59      0.59      3218\n",
      "\n"
     ]
    }
   ],
   "source": [
    "# Test data evaluation\n",
    "\n",
    "y_pred_test = opt_log_model_oversampled.predict(x_test)\n",
    "\n",
    "x_test['y_pred'] = np.zeros(x_test.shape[0])\n",
    "x_test.loc[y_pred_test > optimal_threshold,'y_pred'] = 1\n",
    "report_test = classification_report(x_test['y_pred'],y_test)\n",
    "print(\"Classification Report: \\n\",report_test)\n"
   ]
  },
  {
   "cell_type": "code",
   "execution_count": 86,
   "id": "d8d66c6e",
   "metadata": {},
   "outputs": [
    {
     "name": "stdout",
     "output_type": "stream",
     "text": [
      "Classification Report: \n",
      "               precision    recall  f1-score   support\n",
      "\n",
      "         0.0       1.00      0.50      0.67     12806\n",
      "         1.0       0.01      0.67      0.01        66\n",
      "\n",
      "    accuracy                           0.50     12872\n",
      "   macro avg       0.50      0.58      0.34     12872\n",
      "weighted avg       0.99      0.50      0.66     12872\n",
      "\n"
     ]
    }
   ],
   "source": [
    "# Train data evaluation\n",
    "y_pred_train_testing  =  opt_log_model.predict(x_train)\n",
    "\n",
    "x_train['y_pred_train'] = np.zeros(x_train.shape[0])\n",
    "x_train.loc[y_pred_train_testing > optimal_threshold,'y_pred_train'] = 1\n",
    "report_test = classification_report(x_train['y_pred_train'],y_train)\n",
    "print(\"Classification Report: \\n\",report_test)"
   ]
  },
  {
   "cell_type": "markdown",
   "id": "3f98de5d",
   "metadata": {},
   "source": [
    "# KNN Model"
   ]
  },
  {
   "cell_type": "code",
   "execution_count": 87,
   "id": "89e76754",
   "metadata": {},
   "outputs": [],
   "source": [
    "x = df.drop(['not_fully_paid'],axis=1)\n",
    "y = df['not_fully_paid']\n",
    "x_train,x_test,y_train,y_test = train_test_split(x,y,test_size=0.2,random_state=24,stratify=y)"
   ]
  },
  {
   "cell_type": "code",
   "execution_count": 88,
   "id": "1fe245ff",
   "metadata": {},
   "outputs": [
    {
     "data": {
      "text/plain": [
       "KNeighborsClassifier()"
      ]
     },
     "execution_count": 88,
     "metadata": {},
     "output_type": "execute_result"
    }
   ],
   "source": [
    "knn_model = KNeighborsClassifier()\n",
    "knn_model.fit(x_train,y_train)"
   ]
  },
  {
   "cell_type": "code",
   "execution_count": 89,
   "id": "d311a568",
   "metadata": {},
   "outputs": [
    {
     "name": "stdout",
     "output_type": "stream",
     "text": [
      "confusion matrix: \n",
      " [[1570   39]\n",
      " [ 294   13]]\n",
      "**************************************************\n",
      "classification report:\n",
      "               precision    recall  f1-score   support\n",
      "\n",
      "           0       0.84      0.98      0.90      1609\n",
      "           1       0.25      0.04      0.07       307\n",
      "\n",
      "    accuracy                           0.83      1916\n",
      "   macro avg       0.55      0.51      0.49      1916\n",
      "weighted avg       0.75      0.83      0.77      1916\n",
      "\n",
      "**************************************************\n",
      "accuracy:  0.8262004175365344\n"
     ]
    }
   ],
   "source": [
    "# Testing Data Evaluation\n",
    "\n",
    "y_pred = knn_model.predict(x_test)\n",
    "\n",
    "cnf_matrix = confusion_matrix(y_test,y_pred)\n",
    "print(\"confusion matrix: \\n\",cnf_matrix)\n",
    "\n",
    "print('*'*50)\n",
    "clf_report = classification_report(y_test,y_pred)\n",
    "print(\"classification report:\\n\",clf_report)\n",
    "print('*'*50)\n",
    "acc = accuracy_score(y_test,y_pred)\n",
    "print(\"accuracy: \",acc)"
   ]
  },
  {
   "cell_type": "code",
   "execution_count": 90,
   "id": "d77b4f19",
   "metadata": {},
   "outputs": [
    {
     "name": "stdout",
     "output_type": "stream",
     "text": [
      "confusion matrix: \n",
      " [[6328  108]\n",
      " [1045  181]]\n",
      "**************************************************\n",
      "classification report:\n",
      "               precision    recall  f1-score   support\n",
      "\n",
      "           0       0.86      0.98      0.92      6436\n",
      "           1       0.63      0.15      0.24      1226\n",
      "\n",
      "    accuracy                           0.85      7662\n",
      "   macro avg       0.74      0.57      0.58      7662\n",
      "weighted avg       0.82      0.85      0.81      7662\n",
      "\n",
      "**************************************************\n",
      "accuracy:  0.8495170973636126\n"
     ]
    }
   ],
   "source": [
    "# Training Data Evaluation\n",
    "\n",
    "y_pred_train = knn_model.predict(x_train)\n",
    "\n",
    "cnf_matrix = confusion_matrix(y_train,y_pred_train)\n",
    "print(\"confusion matrix: \\n\",cnf_matrix)\n",
    "\n",
    "print('*'*50)\n",
    "clf_report = classification_report(y_train,y_pred_train)\n",
    "print(\"classification report:\\n\",clf_report)\n",
    "print('*'*50)\n",
    "acc = accuracy_score(y_train,y_pred_train)\n",
    "print(\"accuracy: \",acc)"
   ]
  },
  {
   "cell_type": "markdown",
   "id": "7ffd2410",
   "metadata": {},
   "source": [
    "## Knn_hyperparamter_Tuning"
   ]
  },
  {
   "cell_type": "code",
   "execution_count": 91,
   "id": "0e605f4b",
   "metadata": {},
   "outputs": [],
   "source": [
    "x = df.drop(['not_fully_paid'],axis=1)\n",
    "y = df['not_fully_paid']\n",
    "x_train,x_test,y_train,y_test = train_test_split(x,y,test_size=0.2,random_state=24,stratify=y)"
   ]
  },
  {
   "cell_type": "code",
   "execution_count": 92,
   "id": "a89513e4",
   "metadata": {},
   "outputs": [
    {
     "data": {
      "text/plain": [
       "KNeighborsClassifier(n_neighbors=16, p=1)"
      ]
     },
     "execution_count": 92,
     "metadata": {},
     "output_type": "execute_result"
    }
   ],
   "source": [
    "knn_hyper_model = KNeighborsClassifier()\n",
    "\n",
    "hyperparameters = {\"n_neighbors\":np.arange(3,31),\n",
    "                  \"p\":[1,2]}\n",
    "gscv_knn_hyper_model = GridSearchCV(knn_hyper_model,hyperparameters,cv=5)\n",
    "gscv_knn_hyper_model.fit(x_train,y_train)\n",
    "gscv_knn_hyper_model.best_estimator_\n",
    "\n",
    "# by default p=2 eucledian distance"
   ]
  },
  {
   "cell_type": "code",
   "execution_count": 93,
   "id": "259ccb5e",
   "metadata": {},
   "outputs": [
    {
     "name": "stdout",
     "output_type": "stream",
     "text": [
      "confusion matrix: \n",
      " [[1608    1]\n",
      " [ 307    0]]\n",
      "**************************************************\n",
      "classification report:\n",
      "               precision    recall  f1-score   support\n",
      "\n",
      "           0       0.84      1.00      0.91      1609\n",
      "           1       0.00      0.00      0.00       307\n",
      "\n",
      "    accuracy                           0.84      1916\n",
      "   macro avg       0.42      0.50      0.46      1916\n",
      "weighted avg       0.71      0.84      0.77      1916\n",
      "\n",
      "**************************************************\n",
      "accuracy:  0.8392484342379958\n"
     ]
    }
   ],
   "source": [
    "# Testing Data Evaluation\n",
    "\n",
    "knn_hyper_model = gscv_knn_hyper_model.best_estimator_\n",
    "y_pred = knn_hyper_model.predict(x_test)\n",
    "\n",
    "cnf_matrix = confusion_matrix(y_test,y_pred)\n",
    "print(\"confusion matrix: \\n\",cnf_matrix)\n",
    "print('*'*50)\n",
    "clf_report = classification_report(y_test,y_pred)\n",
    "print(\"classification report:\\n\",clf_report)\n",
    "print('*'*50)\n",
    "acc = accuracy_score(y_test,y_pred)\n",
    "print(\"accuracy: \",acc)"
   ]
  },
  {
   "cell_type": "code",
   "execution_count": 94,
   "id": "6ef8c3ac",
   "metadata": {},
   "outputs": [
    {
     "name": "stdout",
     "output_type": "stream",
     "text": [
      "confusion matrix: \n",
      " [[6436    0]\n",
      " [1226    0]]\n",
      "**************************************************\n",
      "classification report:\n",
      "               precision    recall  f1-score   support\n",
      "\n",
      "           0       0.84      1.00      0.91      6436\n",
      "           1       0.00      0.00      0.00      1226\n",
      "\n",
      "    accuracy                           0.84      7662\n",
      "   macro avg       0.42      0.50      0.46      7662\n",
      "weighted avg       0.71      0.84      0.77      7662\n",
      "\n",
      "**************************************************\n",
      "accuracy:  0.839989558861916\n"
     ]
    }
   ],
   "source": [
    "# Training  Data Evaluation:\n",
    "\n",
    "y_pred_train = knn_hyper_model.predict(x_train)\n",
    "\n",
    "cnf_matrix = confusion_matrix(y_train,y_pred_train)\n",
    "print(\"confusion matrix: \\n\",cnf_matrix)\n",
    "print('*'*50)\n",
    "clf_report = classification_report(y_train,y_pred_train)\n",
    "print(\"classification report:\\n\",clf_report)\n",
    "print('*'*50)\n",
    "acc = accuracy_score(y_train,y_pred_train)\n",
    "print(\"accuracy: \",acc)"
   ]
  },
  {
   "cell_type": "markdown",
   "id": "8cabfedb",
   "metadata": {},
   "source": [
    "## KNN_model_with_oversampling and hyperparamter tuning"
   ]
  },
  {
   "cell_type": "code",
   "execution_count": 95,
   "id": "bea00867",
   "metadata": {},
   "outputs": [],
   "source": [
    "x = df.drop(['not_fully_paid'],axis=1)\n",
    "y = df['not_fully_paid']\n",
    "\n",
    "smt = SMOTE()\n",
    "x,y = smt.fit_resample(x,y)\n",
    "x_train,x_test,y_train,y_test = train_test_split(x,y,test_size=0.2,random_state=24,stratify=y)"
   ]
  },
  {
   "cell_type": "code",
   "execution_count": 96,
   "id": "cd27a67f",
   "metadata": {},
   "outputs": [
    {
     "data": {
      "text/plain": [
       "KNeighborsClassifier(n_neighbors=3, p=1)"
      ]
     },
     "execution_count": 96,
     "metadata": {},
     "output_type": "execute_result"
    }
   ],
   "source": [
    "knn_oversampled_hyper_model = KNeighborsClassifier()\n",
    "\n",
    "hyperparameters = {\"n_neighbors\":np.arange(3,31),\n",
    "                  \"p\":[1,2]}\n",
    "gscv_knn_hyper_model = GridSearchCV(knn_oversampled_hyper_model,hyperparameters,cv=5)\n",
    "gscv_knn_hyper_model.fit(x_train,y_train)\n",
    "gscv_knn_hyper_model.best_estimator_\n",
    "\n",
    "# by default p=2 eucledian distance"
   ]
  },
  {
   "cell_type": "code",
   "execution_count": 97,
   "id": "8312d892",
   "metadata": {},
   "outputs": [
    {
     "name": "stdout",
     "output_type": "stream",
     "text": [
      "confusion matrix: \n",
      " [[1039  570]\n",
      " [ 154 1455]]\n",
      "**************************************************\n",
      "classification report:\n",
      "               precision    recall  f1-score   support\n",
      "\n",
      "           0       0.87      0.65      0.74      1609\n",
      "           1       0.72      0.90      0.80      1609\n",
      "\n",
      "    accuracy                           0.78      3218\n",
      "   macro avg       0.79      0.78      0.77      3218\n",
      "weighted avg       0.79      0.78      0.77      3218\n",
      "\n",
      "**************************************************\n",
      "accuracy:  0.7750155376009944\n"
     ]
    }
   ],
   "source": [
    "# Testing Data Evaluation\n",
    "\n",
    "knn_oversampled_hyper_model = gscv_knn_hyper_model.best_estimator_\n",
    "y_pred = knn_oversampled_hyper_model.predict(x_test)\n",
    "\n",
    "cnf_matrix = confusion_matrix(y_test,y_pred)\n",
    "print(\"confusion matrix: \\n\",cnf_matrix)\n",
    "print('*'*50)\n",
    "clf_report = classification_report(y_test,y_pred)\n",
    "print(\"classification report:\\n\",clf_report)\n",
    "print('*'*50)\n",
    "acc = accuracy_score(y_test,y_pred)\n",
    "print(\"accuracy: \",acc)"
   ]
  },
  {
   "cell_type": "code",
   "execution_count": 98,
   "id": "200405fb",
   "metadata": {},
   "outputs": [
    {
     "name": "stdout",
     "output_type": "stream",
     "text": [
      "confusion matrix: \n",
      " [[5140 1296]\n",
      " [ 199 6237]]\n",
      "**************************************************\n",
      "classification report:\n",
      "               precision    recall  f1-score   support\n",
      "\n",
      "           0       0.96      0.80      0.87      6436\n",
      "           1       0.83      0.97      0.89      6436\n",
      "\n",
      "    accuracy                           0.88     12872\n",
      "   macro avg       0.90      0.88      0.88     12872\n",
      "weighted avg       0.90      0.88      0.88     12872\n",
      "\n",
      "**************************************************\n",
      "accuracy:  0.8838564325668117\n"
     ]
    }
   ],
   "source": [
    "# Training  Data Evaluation:\n",
    "\n",
    "y_pred_train = knn_oversampled_hyper_model.predict(x_train)\n",
    "\n",
    "cnf_matrix = confusion_matrix(y_train,y_pred_train)\n",
    "print(\"confusion matrix: \\n\",cnf_matrix)\n",
    "print('*'*50)\n",
    "clf_report = classification_report(y_train,y_pred_train)\n",
    "print(\"classification report:\\n\",clf_report)\n",
    "print('*'*50)\n",
    "acc = accuracy_score(y_train,y_pred_train)\n",
    "print(\"accuracy: \",acc)"
   ]
  },
  {
   "cell_type": "markdown",
   "id": "2dcc0be5",
   "metadata": {},
   "source": [
    "## Knn_Alternate_method"
   ]
  },
  {
   "cell_type": "code",
   "execution_count": 99,
   "id": "b511ce3c",
   "metadata": {},
   "outputs": [],
   "source": [
    "x = df.drop(['not_fully_paid'],axis=1)\n",
    "y = df['not_fully_paid']\n",
    "x_train,x_test,y_train,y_test = train_test_split(x,y,test_size=0.2,random_state=24,stratify=y)"
   ]
  },
  {
   "cell_type": "code",
   "execution_count": 100,
   "id": "f1df1973",
   "metadata": {},
   "outputs": [
    {
     "name": "stdout",
     "output_type": "stream",
     "text": [
      "[0.8728791438266771, 0.8504306969459671, 0.8487340120073088, 0.8429913860610807, 0.8435134429652832, 0.8418167580266249, 0.8418167580266249, 0.8412947011224223, 0.8411641868963717, 0.8402505873140172, 0.8407726442182197, 0.8406421299921691, 0.841425215348473, 0.839989558861916, 0.8402505873140172, 0.839989558861916, 0.8402505873140172, 0.839989558861916, 0.8401200730879665, 0.8401200730879665, 0.839989558861916, 0.8401200730879665, 0.8401200730879665, 0.839989558861916, 0.839989558861916, 0.839989558861916, 0.839989558861916, 0.839989558861916]\n",
      "********************************************************************************\n",
      "[0.7954070981210856, 0.8335073068893528, 0.8235908141962421, 0.8387265135699373, 0.8335073068893528, 0.8392484342379958, 0.8366388308977035, 0.8376826722338204, 0.837160751565762, 0.8402922755741128, 0.8387265135699373, 0.8392484342379958, 0.8387265135699373, 0.8392484342379958, 0.8387265135699373, 0.8397703549060542, 0.8397703549060542, 0.8397703549060542, 0.8397703549060542, 0.8397703549060542, 0.8397703549060542, 0.8397703549060542, 0.8397703549060542, 0.8397703549060542, 0.8397703549060542, 0.8397703549060542, 0.8397703549060542, 0.8397703549060542]\n"
     ]
    }
   ],
   "source": [
    "train_accuracy_list = []\n",
    "test_accuracy_list = []\n",
    "\n",
    "for i in range(3,31):\n",
    "    knn_clf_model = KNeighborsClassifier(n_neighbors=i,p=1)\n",
    "    knn_clf_model.fit(x_train,y_train)\n",
    "    y_pred_train = knn_clf_model.predict(x_train)\n",
    "    train_accuracy = accuracy_score(y_train,y_pred_train)\n",
    "    train_accuracy_list.append(train_accuracy)\n",
    "    \n",
    "    y_pred = knn_clf_model.predict(x_test)\n",
    "    test_accuracy = accuracy_score(y_test,y_pred)\n",
    "    test_accuracy_list.append(test_accuracy)\n",
    "\n",
    "print(train_accuracy_list)\n",
    "print('*'*80)\n",
    "print(test_accuracy_list)"
   ]
  },
  {
   "cell_type": "code",
   "execution_count": 101,
   "id": "7e3a293e",
   "metadata": {},
   "outputs": [
    {
     "data": {
      "image/png": "[encoded data removed]",
      "text/plain": [
       "<Figure size 576x360 with 1 Axes>"
      ]
     },
     "metadata": {},
     "output_type": "display_data"
    }
   ],
   "source": [
    "i_range = np.arange(3,31)\n",
    "plt.figure(figsize=(8,5))\n",
    "plt.plot(i_range,train_accuracy_list)\n",
    "plt.plot(i_range,test_accuracy_list)\n",
    "plt.xlabel('I Values')\n",
    "plt.ylabel('Accuracy')\n",
    "plt.title(\"Comparision between Train and Test Accuracies\")\n",
    "plt.savefig(\"I values Comparison.jpeg\")"
   ]
  },
  {
   "cell_type": "code",
   "execution_count": 102,
   "id": "8789f6ee",
   "metadata": {},
   "outputs": [
    {
     "name": "stdout",
     "output_type": "stream",
     "text": [
      "min element:  0.839989558861916\n",
      "max_element:  0.8728791438266771\n"
     ]
    }
   ],
   "source": [
    "min_ele = train_accuracy_list[0]\n",
    "max_ele = train_accuracy_list[0]\n",
    "\n",
    "for i in range(1, len(train_accuracy_list)):\n",
    "    if train_accuracy_list[i] < min_ele:\n",
    "        min_ele = train_accuracy_list[i]\n",
    "        \n",
    "    if train_accuracy_list[i] > max_ele:\n",
    "        max_ele = train_accuracy_list[i]\n",
    "        \n",
    "print(\"min element: \",min_ele)\n",
    "print(\"max_element: \",max_ele)"
   ]
  },
  {
   "cell_type": "code",
   "execution_count": 103,
   "id": "0701ef1d",
   "metadata": {},
   "outputs": [
    {
     "data": {
      "text/plain": [
       "0"
      ]
     },
     "execution_count": 103,
     "metadata": {},
     "output_type": "execute_result"
    }
   ],
   "source": [
    "train_accuracy_list.index(max(train_accuracy_list)) "
   ]
  },
  {
   "cell_type": "code",
   "execution_count": 104,
   "id": "3ab9aabe",
   "metadata": {},
   "outputs": [
    {
     "data": {
      "text/plain": [
       "0.8728791438266771"
      ]
     },
     "execution_count": 104,
     "metadata": {},
     "output_type": "execute_result"
    }
   ],
   "source": [
    "max(train_accuracy_list)"
   ]
  },
  {
   "cell_type": "code",
   "execution_count": 105,
   "id": "d6f6abe4",
   "metadata": {},
   "outputs": [
    {
     "data": {
      "text/plain": [
       "9"
      ]
     },
     "execution_count": 105,
     "metadata": {},
     "output_type": "execute_result"
    }
   ],
   "source": [
    "test_accuracy_list.index(max(test_accuracy_list))"
   ]
  },
  {
   "cell_type": "code",
   "execution_count": 106,
   "id": "ded76a9d",
   "metadata": {},
   "outputs": [
    {
     "data": {
      "text/plain": [
       "0.8402922755741128"
      ]
     },
     "execution_count": 106,
     "metadata": {},
     "output_type": "execute_result"
    }
   ],
   "source": [
    "max(test_accuracy_list)"
   ]
  },
  {
   "cell_type": "code",
   "execution_count": 107,
   "id": "324b861e",
   "metadata": {},
   "outputs": [
    {
     "data": {
      "text/plain": [
       "0.8402505873140172"
      ]
     },
     "execution_count": 107,
     "metadata": {},
     "output_type": "execute_result"
    }
   ],
   "source": [
    "train_accuracy_list[9]"
   ]
  },
  {
   "cell_type": "code",
   "execution_count": 108,
   "id": "81657a15",
   "metadata": {},
   "outputs": [],
   "source": [
    "# So we wll put n_neig=9 to get optimum accuracies and reduce variance"
   ]
  },
  {
   "cell_type": "code",
   "execution_count": 109,
   "id": "744b5d73",
   "metadata": {},
   "outputs": [
    {
     "data": {
      "text/plain": [
       "KNeighborsClassifier(n_neighbors=9, p=1)"
      ]
     },
     "execution_count": 109,
     "metadata": {},
     "output_type": "execute_result"
    }
   ],
   "source": [
    "knn_alt_model = KNeighborsClassifier(n_neighbors=9,p=1)\n",
    "knn_alt_model.fit(x_train,y_train)"
   ]
  },
  {
   "cell_type": "code",
   "execution_count": 110,
   "id": "0755c70b",
   "metadata": {},
   "outputs": [
    {
     "name": "stdout",
     "output_type": "stream",
     "text": [
      "confusion matrix: \n",
      " [[1598   11]\n",
      " [ 302    5]]\n",
      "**************************************************\n",
      "classification report:\n",
      "               precision    recall  f1-score   support\n",
      "\n",
      "           0       0.84      0.99      0.91      1609\n",
      "           1       0.31      0.02      0.03       307\n",
      "\n",
      "    accuracy                           0.84      1916\n",
      "   macro avg       0.58      0.50      0.47      1916\n",
      "weighted avg       0.76      0.84      0.77      1916\n",
      "\n",
      "**************************************************\n",
      "accuracy:  0.8366388308977035\n"
     ]
    }
   ],
   "source": [
    "# Testing Data Evaluation\n",
    "\n",
    "y_pred = knn_alt_model.predict(x_test)\n",
    "\n",
    "cnf_matrix = confusion_matrix(y_test,y_pred)\n",
    "print(\"confusion matrix: \\n\",cnf_matrix)\n",
    "\n",
    "print('*'*50)\n",
    "clf_report = classification_report(y_test,y_pred)\n",
    "print(\"classification report:\\n\",clf_report)\n",
    "print('*'*50)\n",
    "acc = accuracy_score(y_test,y_pred)\n",
    "print(\"accuracy: \",acc)"
   ]
  },
  {
   "cell_type": "code",
   "execution_count": 111,
   "id": "016730a5",
   "metadata": {},
   "outputs": [
    {
     "name": "stdout",
     "output_type": "stream",
     "text": [
      "confusion matrix: \n",
      " [[6409   27]\n",
      " [1185   41]]\n",
      "**************************************************\n",
      "classification report:\n",
      "               precision    recall  f1-score   support\n",
      "\n",
      "           0       0.84      1.00      0.91      6436\n",
      "           1       0.60      0.03      0.06      1226\n",
      "\n",
      "    accuracy                           0.84      7662\n",
      "   macro avg       0.72      0.51      0.49      7662\n",
      "weighted avg       0.81      0.84      0.78      7662\n",
      "\n",
      "**************************************************\n",
      "accuracy:  0.8418167580266249\n"
     ]
    }
   ],
   "source": [
    "# Training Data Evaluation\n",
    "\n",
    "y_pred_train = knn_alt_model.predict(x_train)\n",
    "\n",
    "cnf_matrix = confusion_matrix(y_train,y_pred_train)\n",
    "print(\"confusion matrix: \\n\",cnf_matrix)\n",
    "\n",
    "print('*'*50)\n",
    "clf_report = classification_report(y_train,y_pred_train)\n",
    "print(\"classification report:\\n\",clf_report)\n",
    "print('*'*50)\n",
    "acc = accuracy_score(y_train,y_pred_train)\n",
    "print(\"accuracy: \",acc)"
   ]
  },
  {
   "cell_type": "markdown",
   "id": "073e7781",
   "metadata": {},
   "source": [
    "## Knn model with scaling, hyperparamter tuning and Oversampling:"
   ]
  },
  {
   "cell_type": "markdown",
   "id": "7a3aa9ec",
   "metadata": {},
   "source": [
    "### Normalization"
   ]
  },
  {
   "cell_type": "code",
   "execution_count": 112,
   "id": "0c916803",
   "metadata": {},
   "outputs": [],
   "source": [
    "x = df.drop(['not_fully_paid'],axis=1)\n",
    "y = df['not_fully_paid']\n",
    "smt = SMOTE()\n",
    "x,y = smt.fit_resample(x,y)\n",
    "x_train,x_test,y_train,y_test = train_test_split(x,y,test_size=0.2,random_state=24,stratify=y)"
   ]
  },
  {
   "cell_type": "code",
   "execution_count": 113,
   "id": "0f7f4d29",
   "metadata": {},
   "outputs": [
    {
     "data": {
      "text/html": [
       "<div>\n",
       "<style scoped>\n",
       "    .dataframe tbody tr th:only-of-type {\n",
       "        vertical-align: middle;\n",
       "    }\n",
       "\n",
       "    .dataframe tbody tr th {\n",
       "        vertical-align: top;\n",
       "    }\n",
       "\n",
       "    .dataframe thead th {\n",
       "        text-align: right;\n",
       "    }\n",
       "</style>\n",
       "<table border=\"1\" class=\"dataframe\">\n",
       "  <thead>\n",
       "    <tr style=\"text-align: right;\">\n",
       "      <th></th>\n",
       "      <th>credit_policy</th>\n",
       "      <th>purpose</th>\n",
       "      <th>int_rate</th>\n",
       "      <th>installment</th>\n",
       "      <th>log_annual_inc</th>\n",
       "      <th>dti</th>\n",
       "      <th>fico</th>\n",
       "      <th>days_with_cr_line</th>\n",
       "      <th>revol_bal</th>\n",
       "      <th>revol_util</th>\n",
       "      <th>inq_last_6mths</th>\n",
       "      <th>delinq_2yrs</th>\n",
       "      <th>pub_rec</th>\n",
       "    </tr>\n",
       "  </thead>\n",
       "  <tbody>\n",
       "    <tr>\n",
       "      <th>0</th>\n",
       "      <td>1.0</td>\n",
       "      <td>0.333333</td>\n",
       "      <td>0.706183</td>\n",
       "      <td>0.441768</td>\n",
       "      <td>0.328878</td>\n",
       "      <td>0.677192</td>\n",
       "      <td>0.836544</td>\n",
       "      <td>0.345782</td>\n",
       "      <td>0.355174</td>\n",
       "      <td>0.391346</td>\n",
       "      <td>0.060606</td>\n",
       "      <td>0.0</td>\n",
       "      <td>0.0</td>\n",
       "    </tr>\n",
       "    <tr>\n",
       "      <th>1</th>\n",
       "      <td>1.0</td>\n",
       "      <td>0.000000</td>\n",
       "      <td>0.606585</td>\n",
       "      <td>0.102553</td>\n",
       "      <td>0.130860</td>\n",
       "      <td>0.332789</td>\n",
       "      <td>0.578894</td>\n",
       "      <td>0.489945</td>\n",
       "      <td>0.132991</td>\n",
       "      <td>0.720409</td>\n",
       "      <td>0.060606</td>\n",
       "      <td>0.0</td>\n",
       "      <td>0.0</td>\n",
       "    </tr>\n",
       "  </tbody>\n",
       "</table>\n",
       "</div>"
      ],
      "text/plain": [
       "   credit_policy   purpose  int_rate  installment  log_annual_inc       dti  \\\n",
       "0            1.0  0.333333  0.706183     0.441768        0.328878  0.677192   \n",
       "1            1.0  0.000000  0.606585     0.102553        0.130860  0.332789   \n",
       "\n",
       "       fico  days_with_cr_line  revol_bal  revol_util  inq_last_6mths  \\\n",
       "0  0.836544           0.345782   0.355174    0.391346        0.060606   \n",
       "1  0.578894           0.489945   0.132991    0.720409        0.060606   \n",
       "\n",
       "   delinq_2yrs  pub_rec  \n",
       "0          0.0      0.0  \n",
       "1          0.0      0.0  "
      ]
     },
     "execution_count": 113,
     "metadata": {},
     "output_type": "execute_result"
    }
   ],
   "source": [
    "normal_sclaer = MinMaxScaler()\n",
    "normal_scaler.fit(x_train)\n",
    "array = normal_scaler.transform(x_train)\n",
    "normal_train_xdf = pd.DataFrame(array,columns=x_train.columns)\n",
    "normal_train_xdf.head(2)"
   ]
  },
  {
   "cell_type": "code",
   "execution_count": 114,
   "id": "3d244280",
   "metadata": {},
   "outputs": [
    {
     "data": {
      "text/plain": [
       "KNeighborsClassifier()"
      ]
     },
     "execution_count": 114,
     "metadata": {},
     "output_type": "execute_result"
    }
   ],
   "source": [
    "knn_normal_model_wt_hyper_oversampled = KNeighborsClassifier()\n",
    "knn_normal_model_wt_hyper_oversampled.fit(normal_train_xdf,y_train)"
   ]
  },
  {
   "cell_type": "code",
   "execution_count": 115,
   "id": "f2254969",
   "metadata": {},
   "outputs": [
    {
     "data": {
      "text/plain": [
       "((12872, 13), (3218, 13), (12872,), (3218,))"
      ]
     },
     "execution_count": 115,
     "metadata": {},
     "output_type": "execute_result"
    }
   ],
   "source": [
    "x_train.shape,x_test.shape,y_train.shape,y_test.shape"
   ]
  },
  {
   "cell_type": "code",
   "execution_count": 116,
   "id": "8fc0dcf4",
   "metadata": {},
   "outputs": [
    {
     "name": "stdout",
     "output_type": "stream",
     "text": [
      "confusion matrix: \n",
      " [[1002  607]\n",
      " [ 209 1400]]\n",
      "**************************************************\n",
      "classification report:\n",
      "               precision    recall  f1-score   support\n",
      "\n",
      "           0       0.83      0.62      0.71      1609\n",
      "           1       0.70      0.87      0.77      1609\n",
      "\n",
      "    accuracy                           0.75      3218\n",
      "   macro avg       0.76      0.75      0.74      3218\n",
      "weighted avg       0.76      0.75      0.74      3218\n",
      "\n",
      "**************************************************\n",
      "accuracy:  0.7464263517712865\n"
     ]
    }
   ],
   "source": [
    "# Testing Data Evaluation\n",
    "\n",
    "array = normal_scaler.transform(x_test)\n",
    "normal_test_xdf = pd.DataFrame(array,columns=x_test.columns)\n",
    "y_pred = knn_normal_model_wt_hyper_oversampled.predict(normal_test_xdf)\n",
    "\n",
    "cnf_matrix = confusion_matrix(y_test,y_pred)\n",
    "print(\"confusion matrix: \\n\",cnf_matrix)\n",
    "\n",
    "print('*'*50)\n",
    "clf_report = classification_report(y_test,y_pred)\n",
    "print(\"classification report:\\n\",clf_report)\n",
    "print('*'*50)\n",
    "acc = accuracy_score(y_test,y_pred)\n",
    "print(\"accuracy: \",acc)"
   ]
  },
  {
   "cell_type": "code",
   "execution_count": 117,
   "id": "9eb41137",
   "metadata": {},
   "outputs": [
    {
     "name": "stdout",
     "output_type": "stream",
     "text": [
      "confusion matrix: \n",
      " [[4734 1702]\n",
      " [ 389 6047]]\n",
      "**************************************************\n",
      "classification report:\n",
      "               precision    recall  f1-score   support\n",
      "\n",
      "           0       0.92      0.74      0.82      6436\n",
      "           1       0.78      0.94      0.85      6436\n",
      "\n",
      "    accuracy                           0.84     12872\n",
      "   macro avg       0.85      0.84      0.84     12872\n",
      "weighted avg       0.85      0.84      0.84     12872\n",
      "\n",
      "**************************************************\n",
      "accuracy:  0.8375543816034804\n"
     ]
    }
   ],
   "source": [
    "# Training Data Evaluation\n",
    "\n",
    "y_pred_train = knn_normal_model_wt_hyper_oversampled.predict(normal_train_xdf)\n",
    "\n",
    "cnf_matrix = confusion_matrix(y_train,y_pred_train)\n",
    "print(\"confusion matrix: \\n\",cnf_matrix)\n",
    "\n",
    "print('*'*50)\n",
    "clf_report = classification_report(y_train,y_pred_train)\n",
    "print(\"classification report:\\n\",clf_report)\n",
    "print('*'*50)\n",
    "acc = accuracy_score(y_train,y_pred_train)\n",
    "print(\"accuracy: \",acc)"
   ]
  },
  {
   "cell_type": "markdown",
   "id": "6288004e",
   "metadata": {},
   "source": [
    "# Decision Tree Model"
   ]
  },
  {
   "cell_type": "code",
   "execution_count": 118,
   "id": "31875de0",
   "metadata": {},
   "outputs": [],
   "source": [
    "x = df.drop(['not_fully_paid'],axis=1)\n",
    "y = df['not_fully_paid']\n",
    "x_train,x_test,y_train,y_test = train_test_split(x,y,test_size=0.2,random_state=24,stratify=y)"
   ]
  },
  {
   "cell_type": "code",
   "execution_count": 119,
   "id": "c425ea18",
   "metadata": {},
   "outputs": [
    {
     "data": {
      "text/plain": [
       "DecisionTreeClassifier()"
      ]
     },
     "execution_count": 119,
     "metadata": {},
     "output_type": "execute_result"
    }
   ],
   "source": [
    "dt_model = DecisionTreeClassifier()\n",
    "dt_model.fit(x_train,y_train)"
   ]
  },
  {
   "cell_type": "code",
   "execution_count": 120,
   "id": "731948a1",
   "metadata": {},
   "outputs": [
    {
     "name": "stdout",
     "output_type": "stream",
     "text": [
      "confusion matrix: \n",
      " [[1331  278]\n",
      " [ 248   59]]\n",
      "**************************************************\n",
      "classification report:\n",
      "               precision    recall  f1-score   support\n",
      "\n",
      "           0       0.84      0.83      0.84      1609\n",
      "           1       0.18      0.19      0.18       307\n",
      "\n",
      "    accuracy                           0.73      1916\n",
      "   macro avg       0.51      0.51      0.51      1916\n",
      "weighted avg       0.74      0.73      0.73      1916\n",
      "\n",
      "**************************************************\n",
      "accuracy:  0.7254697286012526\n"
     ]
    }
   ],
   "source": [
    "# Testing Data Evaluation\n",
    "y_pred = dt_model.predict(x_test)\n",
    "\n",
    "cnf_matrix = confusion_matrix(y_test,y_pred)\n",
    "print(\"confusion matrix: \\n\",cnf_matrix)\n",
    "\n",
    "print('*'*50)\n",
    "clf_report = classification_report(y_test,y_pred)\n",
    "print(\"classification report:\\n\",clf_report)\n",
    "print('*'*50)\n",
    "acc = accuracy_score(y_test,y_pred)\n",
    "print(\"accuracy: \",acc)"
   ]
  },
  {
   "cell_type": "code",
   "execution_count": 121,
   "id": "6d8dd182",
   "metadata": {},
   "outputs": [
    {
     "name": "stdout",
     "output_type": "stream",
     "text": [
      "confusion matrix: \n",
      " [[6436    0]\n",
      " [   0 1226]]\n",
      "**************************************************\n",
      "classification report:\n",
      "               precision    recall  f1-score   support\n",
      "\n",
      "           0       1.00      1.00      1.00      6436\n",
      "           1       1.00      1.00      1.00      1226\n",
      "\n",
      "    accuracy                           1.00      7662\n",
      "   macro avg       1.00      1.00      1.00      7662\n",
      "weighted avg       1.00      1.00      1.00      7662\n",
      "\n",
      "**************************************************\n",
      "accuracy:  1.0\n"
     ]
    }
   ],
   "source": [
    "# Training Data Evaluation\n",
    "\n",
    "y_pred_train = dt_model.predict(x_train)\n",
    "\n",
    "cnf_matrix = confusion_matrix(y_train,y_pred_train)\n",
    "print(\"confusion matrix: \\n\",cnf_matrix)\n",
    "\n",
    "print('*'*50)\n",
    "clf_report = classification_report(y_train,y_pred_train)\n",
    "print(\"classification report:\\n\",clf_report)\n",
    "print('*'*50)\n",
    "acc = accuracy_score(y_train,y_pred_train)\n",
    "print(\"accuracy: \",acc)"
   ]
  },
  {
   "cell_type": "code",
   "execution_count": 122,
   "id": "16812fe2",
   "metadata": {},
   "outputs": [],
   "source": [
    "# plot decision tree\n",
    "\n",
    "# plt.figure(figsize=(50,50))\n",
    "# plot_tree(dt_model,feature_names=x.columns,class_names=['0','1'],filled=True)\n",
    "# plt.savefig(\"Decision_Tree_Default.png\")"
   ]
  },
  {
   "cell_type": "code",
   "execution_count": 123,
   "id": "f761468e",
   "metadata": {},
   "outputs": [
    {
     "data": {
      "text/plain": [
       "<AxesSubplot:>"
      ]
     },
     "execution_count": 123,
     "metadata": {},
     "output_type": "execute_result"
    },
    {
     "data": {
      "image/png": "[encoded data removed]",
      "text/plain": [
       "<Figure size 432x288 with 1 Axes>"
      ]
     },
     "metadata": {},
     "output_type": "display_data"
    }
   ],
   "source": [
    "#  feature importance\n",
    "array = dt_model.feature_importances_\n",
    "# np.sum(array)\n",
    "s1 = pd.Series(array,index=x.columns)\n",
    "s1.sort_values().plot(kind=\"barh\")"
   ]
  },
  {
   "cell_type": "markdown",
   "id": "780cb7a5",
   "metadata": {},
   "source": [
    "## Decision tree hyperparamter tuning"
   ]
  },
  {
   "cell_type": "code",
   "execution_count": 124,
   "id": "1cd9bf10",
   "metadata": {},
   "outputs": [
    {
     "data": {
      "text/plain": [
       "GridSearchCV(cv=5, estimator=DecisionTreeClassifier(),\n",
       "             param_grid={'criterion': ['gini', 'entropy'],\n",
       "                         'max_depth': array([3, 4, 5, 6, 7]),\n",
       "                         'min_samples_leaf': array([ 2,  3,  4,  5,  6,  7,  8,  9, 10, 11, 12, 13, 14]),\n",
       "                         'min_samples_split': array([ 2,  3,  4,  5,  6,  7,  8,  9, 10, 11, 12, 13, 14, 15, 16, 17, 18,\n",
       "       19])})"
      ]
     },
     "execution_count": 124,
     "metadata": {},
     "output_type": "execute_result"
    }
   ],
   "source": [
    "dt_model_hyper = DecisionTreeClassifier()\n",
    "\n",
    "hyperparameters = {\"criterion\":['gini','entropy'],\n",
    "                  \"max_depth\":np.arange(3,8),\n",
    "                  \"min_samples_split\":np.arange(2,20),\n",
    "                  \"min_samples_leaf\":np.arange(2,15)}\n",
    "\n",
    "gscv_dt_model_hyper = GridSearchCV(dt_model_hyper,hyperparameters,cv=5)\n",
    "gscv_dt_model_hyper.fit(x_train,y_train)"
   ]
  },
  {
   "cell_type": "code",
   "execution_count": 125,
   "id": "e7a532bc",
   "metadata": {},
   "outputs": [
    {
     "data": {
      "text/plain": [
       "DecisionTreeClassifier(criterion='entropy', max_depth=3, min_samples_leaf=2)"
      ]
     },
     "execution_count": 125,
     "metadata": {},
     "output_type": "execute_result"
    }
   ],
   "source": [
    "gscv_dt_model_hyper.best_estimator_"
   ]
  },
  {
   "cell_type": "code",
   "execution_count": 126,
   "id": "9730740f",
   "metadata": {},
   "outputs": [
    {
     "name": "stdout",
     "output_type": "stream",
     "text": [
      "confusion matrix: \n",
      " [[1609    0]\n",
      " [ 307    0]]\n",
      "**************************************************\n",
      "classification report:\n",
      "               precision    recall  f1-score   support\n",
      "\n",
      "           0       0.84      1.00      0.91      1609\n",
      "           1       0.00      0.00      0.00       307\n",
      "\n",
      "    accuracy                           0.84      1916\n",
      "   macro avg       0.42      0.50      0.46      1916\n",
      "weighted avg       0.71      0.84      0.77      1916\n",
      "\n",
      "**************************************************\n",
      "accuracy:  0.8397703549060542\n"
     ]
    }
   ],
   "source": [
    "# Testing Data Evaluation\n",
    "\n",
    "dt_model_hyper = gscv_dt_model_hyper.best_estimator_\n",
    "y_pred = dt_model_hyper.predict(x_test)\n",
    "\n",
    "cnf_matrix = confusion_matrix(y_test,y_pred)\n",
    "print(\"confusion matrix: \\n\",cnf_matrix)\n",
    "\n",
    "print('*'*50)\n",
    "clf_report = classification_report(y_test,y_pred)\n",
    "print(\"classification report:\\n\",clf_report)\n",
    "print('*'*50)\n",
    "acc = accuracy_score(y_test,y_pred)\n",
    "print(\"accuracy: \",acc)"
   ]
  },
  {
   "cell_type": "code",
   "execution_count": 127,
   "id": "67732ba1",
   "metadata": {},
   "outputs": [
    {
     "name": "stdout",
     "output_type": "stream",
     "text": [
      "confusion matrix: \n",
      " [[6436    0]\n",
      " [1226    0]]\n",
      "**************************************************\n",
      "classification report:\n",
      "               precision    recall  f1-score   support\n",
      "\n",
      "           0       0.84      1.00      0.91      6436\n",
      "           1       0.00      0.00      0.00      1226\n",
      "\n",
      "    accuracy                           0.84      7662\n",
      "   macro avg       0.42      0.50      0.46      7662\n",
      "weighted avg       0.71      0.84      0.77      7662\n",
      "\n",
      "**************************************************\n",
      "accuracy:  0.839989558861916\n"
     ]
    }
   ],
   "source": [
    "# Training Data Evaluation\n",
    "\n",
    "y_pred_train = dt_model_hyper.predict(x_train)\n",
    "\n",
    "cnf_matrix = confusion_matrix(y_train,y_pred_train)\n",
    "print(\"confusion matrix: \\n\",cnf_matrix)\n",
    "\n",
    "print('*'*50)\n",
    "clf_report = classification_report(y_train,y_pred_train)\n",
    "print(\"classification report:\\n\",clf_report)\n",
    "print('*'*50)\n",
    "acc = accuracy_score(y_train,y_pred_train)\n",
    "print(\"accuracy: \",acc)"
   ]
  },
  {
   "cell_type": "markdown",
   "id": "8f0a897b",
   "metadata": {},
   "source": [
    "## Decision tree hyperparamter tuning & oversampling"
   ]
  },
  {
   "cell_type": "code",
   "execution_count": 128,
   "id": "69591741",
   "metadata": {},
   "outputs": [],
   "source": [
    "x = df.drop(['not_fully_paid'],axis=1)\n",
    "y = df['not_fully_paid']\n",
    "smt = SMOTE()\n",
    "x,y = smt.fit_resample(x,y)\n",
    "x_train,x_test,y_train,y_test = train_test_split(x,y,test_size=0.2,random_state=24,stratify=y)"
   ]
  },
  {
   "cell_type": "code",
   "execution_count": 129,
   "id": "3af44d1e",
   "metadata": {},
   "outputs": [
    {
     "data": {
      "text/plain": [
       "DecisionTreeClassifier(criterion='entropy', max_depth=6, min_samples_leaf=8,\n",
       "                       min_samples_split=7)"
      ]
     },
     "execution_count": 129,
     "metadata": {},
     "output_type": "execute_result"
    }
   ],
   "source": [
    "dt_model_hyper_oversampled = DecisionTreeClassifier()\n",
    "\n",
    "hyperparameters = {\"criterion\":['gini','entropy'],\n",
    "                  \"max_depth\":np.arange(3,8),\n",
    "                  \"min_samples_split\":np.arange(2,20),\n",
    "                  \"min_samples_leaf\":np.arange(2,15)}\n",
    "\n",
    "rscv_dt_model_hyper = RandomizedSearchCV(dt_model_hyper,hyperparameters,cv=5)\n",
    "rscv_dt_model_hyper.fit(x_train,y_train)\n",
    "rscv_dt_model_hyper.best_estimator_"
   ]
  },
  {
   "cell_type": "code",
   "execution_count": 130,
   "id": "4ebdf173",
   "metadata": {},
   "outputs": [
    {
     "name": "stdout",
     "output_type": "stream",
     "text": [
      "confusion matrix: \n",
      " [[1609    0]\n",
      " [1609    0]]\n",
      "**************************************************\n",
      "classification report:\n",
      "               precision    recall  f1-score   support\n",
      "\n",
      "           0       0.50      1.00      0.67      1609\n",
      "           1       0.00      0.00      0.00      1609\n",
      "\n",
      "    accuracy                           0.50      3218\n",
      "   macro avg       0.25      0.50      0.33      3218\n",
      "weighted avg       0.25      0.50      0.33      3218\n",
      "\n",
      "**************************************************\n",
      "accuracy:  0.5\n"
     ]
    }
   ],
   "source": [
    "# Testing Data Evaluation\n",
    "\n",
    "dt_model_hyper_oversampled = rscv_dt_model_hyper.best_estimator_\n",
    "y_pred = dt_model_hyper.predict(x_test)\n",
    "\n",
    "cnf_matrix = confusion_matrix(y_test,y_pred)\n",
    "print(\"confusion matrix: \\n\",cnf_matrix)\n",
    "\n",
    "print('*'*50)\n",
    "clf_report = classification_report(y_test,y_pred)\n",
    "print(\"classification report:\\n\",clf_report)\n",
    "print('*'*50)\n",
    "acc = accuracy_score(y_test,y_pred)\n",
    "print(\"accuracy: \",acc)"
   ]
  },
  {
   "cell_type": "code",
   "execution_count": 131,
   "id": "d03014fc",
   "metadata": {},
   "outputs": [
    {
     "name": "stdout",
     "output_type": "stream",
     "text": [
      "confusion matrix: \n",
      " [[5685  751]\n",
      " [3246 3190]]\n",
      "**************************************************\n",
      "classification report:\n",
      "               precision    recall  f1-score   support\n",
      "\n",
      "           0       0.64      0.88      0.74      6436\n",
      "           1       0.81      0.50      0.61      6436\n",
      "\n",
      "    accuracy                           0.69     12872\n",
      "   macro avg       0.72      0.69      0.68     12872\n",
      "weighted avg       0.72      0.69      0.68     12872\n",
      "\n",
      "**************************************************\n",
      "accuracy:  0.6894810441267868\n"
     ]
    }
   ],
   "source": [
    "# Training Data Evaluation\n",
    "\n",
    "y_pred_train = dt_model_hyper_oversampled.predict(x_train)\n",
    "\n",
    "cnf_matrix = confusion_matrix(y_train,y_pred_train)\n",
    "print(\"confusion matrix: \\n\",cnf_matrix)\n",
    "\n",
    "print('*'*50)\n",
    "clf_report = classification_report(y_train,y_pred_train)\n",
    "print(\"classification report:\\n\",clf_report)\n",
    "print('*'*50)\n",
    "acc = accuracy_score(y_train,y_pred_train)\n",
    "print(\"accuracy: \",acc)"
   ]
  },
  {
   "cell_type": "markdown",
   "id": "be959942",
   "metadata": {},
   "source": [
    "## DT Pruning"
   ]
  },
  {
   "cell_type": "code",
   "execution_count": 132,
   "id": "3c7eaff5",
   "metadata": {},
   "outputs": [],
   "source": [
    "x = df.drop(['not_fully_paid'],axis=1)\n",
    "y = df['not_fully_paid']\n",
    "x_train,x_test,y_train,y_test = train_test_split(x,y,test_size=0.2,random_state=24,stratify=y)"
   ]
  },
  {
   "cell_type": "code",
   "execution_count": 133,
   "id": "16032a50",
   "metadata": {},
   "outputs": [
    {
     "data": {
      "text/plain": [
       "DecisionTreeClassifier()"
      ]
     },
     "execution_count": 133,
     "metadata": {},
     "output_type": "execute_result"
    }
   ],
   "source": [
    "dt_pruning_model = DecisionTreeClassifier()\n",
    "dt_pruning_model.fit(x_train,y_train)"
   ]
  },
  {
   "cell_type": "code",
   "execution_count": 134,
   "id": "28ebf210",
   "metadata": {},
   "outputs": [
    {
     "data": {
      "text/plain": [
       "array([0.00000000e+00, 8.49378297e-05, 8.52337803e-05, 8.52337803e-05,\n",
       "       8.56283811e-05, 8.63297224e-05, 8.65678115e-05, 8.67242070e-05,\n",
       "       9.90569511e-05, 9.90577898e-05, 1.01247400e-04, 1.02829390e-04,\n",
       "       1.04411381e-04, 1.08761855e-04, 1.08761855e-04, 1.10500007e-04,\n",
       "       1.11869337e-04, 1.11869337e-04, 1.15159611e-04, 1.16012645e-04,\n",
       "       1.16012645e-04, 1.17462803e-04, 1.17462803e-04, 1.17462803e-04,\n",
       "       1.17462803e-04, 1.17462803e-04, 1.17462803e-04, 1.17849194e-04,\n",
       "       1.18649296e-04, 1.18649296e-04, 1.18649296e-04, 1.18649296e-04,\n",
       "       1.18649296e-04, 1.18649296e-04, 1.18998265e-04, 1.19638041e-04,\n",
       "       1.19638041e-04, 1.19638041e-04, 1.19638041e-04, 1.19638041e-04,\n",
       "       1.20474670e-04, 1.20474670e-04, 1.20474670e-04, 1.20474670e-04,\n",
       "       1.20474670e-04, 1.20474670e-04, 1.20474670e-04, 1.21191781e-04,\n",
       "       1.21191781e-04, 1.21813278e-04, 1.21813278e-04, 1.21813278e-04,\n",
       "       1.21813278e-04, 1.21813278e-04, 1.21813278e-04, 1.22357087e-04,\n",
       "       1.22357087e-04, 1.22357087e-04, 1.22604273e-04, 1.22836919e-04,\n",
       "       1.22836919e-04, 1.23645056e-04, 1.23988515e-04, 1.23988515e-04,\n",
       "       1.23988515e-04, 1.24713594e-04, 1.24839694e-04, 1.24839694e-04,\n",
       "       1.25076133e-04, 1.25293657e-04, 1.25494448e-04, 1.25853004e-04,\n",
       "       1.26013735e-04, 1.26163752e-04, 1.26163752e-04, 1.26304090e-04,\n",
       "       1.26304090e-04, 1.26370917e-04, 1.26435656e-04, 1.26435656e-04,\n",
       "       1.26507210e-04, 1.26675572e-04, 1.27251370e-04, 1.27406744e-04,\n",
       "       1.27532782e-04, 1.27581322e-04, 1.27645782e-04, 1.27676960e-04,\n",
       "       1.27695215e-04, 1.27850670e-04, 1.27955124e-04, 1.27979969e-04,\n",
       "       1.28183615e-04, 1.28338989e-04, 1.28425998e-04, 1.28551606e-04,\n",
       "       1.28627091e-04, 1.29110847e-04, 1.29448804e-04, 1.30514226e-04,\n",
       "       1.30514226e-04, 1.30514226e-04, 1.30514226e-04, 1.30514226e-04,\n",
       "       1.30514226e-04, 1.30514226e-04, 1.30514226e-04, 1.30514226e-04,\n",
       "       1.30514226e-04, 1.30514226e-04, 1.30514226e-04, 1.31136710e-04,\n",
       "       1.31269892e-04, 1.34139621e-04, 1.36078786e-04, 1.37192236e-04,\n",
       "       1.42919026e-04, 1.45015807e-04, 1.45345388e-04, 1.47263552e-04,\n",
       "       1.49159115e-04, 1.49159115e-04, 1.49159115e-04, 1.49524702e-04,\n",
       "       1.53546148e-04, 1.54308656e-04, 1.55284827e-04, 1.56066710e-04,\n",
       "       1.56617071e-04, 1.56617071e-04, 1.56617071e-04, 1.56617071e-04,\n",
       "       1.56617071e-04, 1.57478428e-04, 1.57638372e-04, 1.58481560e-04,\n",
       "       1.59961433e-04, 1.60128793e-04, 1.60479409e-04, 1.60816920e-04,\n",
       "       1.61115016e-04, 1.62791938e-04, 1.63472364e-04, 1.66109015e-04,\n",
       "       1.66701041e-04, 1.67443229e-04, 1.67635999e-04, 1.72996546e-04,\n",
       "       1.74018968e-04, 1.74018968e-04, 1.74018968e-04, 1.74018968e-04,\n",
       "       1.74018968e-04, 1.74018968e-04, 1.74018968e-04, 1.74018968e-04,\n",
       "       1.74018968e-04, 1.74018968e-04, 1.74018968e-04, 1.74018968e-04,\n",
       "       1.74018968e-04, 1.74018968e-04, 1.74018968e-04, 1.74018968e-04,\n",
       "       1.74018968e-04, 1.74018968e-04, 1.74018968e-04, 1.74018968e-04,\n",
       "       1.74018968e-04, 1.74018968e-04, 1.74018968e-04, 1.74018968e-04,\n",
       "       1.74018968e-04, 1.74018968e-04, 1.74018968e-04, 1.74018968e-04,\n",
       "       1.74018968e-04, 1.74018968e-04, 1.74018968e-04, 1.74018968e-04,\n",
       "       1.74018968e-04, 1.74018968e-04, 1.76194205e-04, 1.78990939e-04,\n",
       "       1.84025059e-04, 1.85620233e-04, 1.86448894e-04, 1.86448894e-04,\n",
       "       1.90455910e-04, 1.91932685e-04, 1.92211860e-04, 1.92759472e-04,\n",
       "       1.92759472e-04, 1.93428776e-04, 1.95535170e-04, 1.95771339e-04,\n",
       "       1.95771339e-04, 1.95771339e-04, 1.95771339e-04, 1.95771339e-04,\n",
       "       1.95771339e-04, 1.95771339e-04, 1.95771339e-04, 1.95771339e-04,\n",
       "       1.95771339e-04, 1.95771339e-04, 1.95771339e-04, 1.95771339e-04,\n",
       "       1.95771339e-04, 1.95771339e-04, 1.95771339e-04, 1.95771339e-04,\n",
       "       1.95771339e-04, 1.95771339e-04, 1.95771339e-04, 1.95771339e-04,\n",
       "       1.95771339e-04, 1.95771339e-04, 1.95771339e-04, 1.95771339e-04,\n",
       "       1.95771339e-04, 1.95771339e-04, 1.96490571e-04, 1.98878821e-04,\n",
       "       1.98878821e-04, 2.00536144e-04, 2.02464376e-04, 2.02464376e-04,\n",
       "       2.03022129e-04, 2.03022129e-04, 2.03540043e-04, 2.03963790e-04,\n",
       "       2.04806939e-04, 2.06346602e-04, 2.06528006e-04, 2.06647525e-04,\n",
       "       2.06647525e-04, 2.08346929e-04, 2.08822762e-04, 2.08822762e-04,\n",
       "       2.08822762e-04, 2.08822762e-04, 2.08822762e-04, 2.08822762e-04,\n",
       "       2.08822762e-04, 2.08822762e-04, 2.08822762e-04, 2.08822762e-04,\n",
       "       2.08822762e-04, 2.08822762e-04, 2.08822762e-04, 2.08822762e-04,\n",
       "       2.08822762e-04, 2.08822762e-04, 2.08822762e-04, 2.08938517e-04,\n",
       "       2.10065754e-04, 2.10374773e-04, 2.11565274e-04, 2.11605113e-04,\n",
       "       2.13173236e-04, 2.13173236e-04, 2.13568734e-04, 2.13568734e-04,\n",
       "       2.14662321e-04, 2.15205029e-04, 2.15301035e-04, 2.15910000e-04,\n",
       "       2.15924271e-04, 2.16739441e-04, 2.17128212e-04, 2.17523710e-04,\n",
       "       2.17523710e-04, 2.17523710e-04, 2.17523710e-04, 2.17523710e-04,\n",
       "       2.17523710e-04, 2.17523710e-04, 2.17523710e-04, 2.19077451e-04,\n",
       "       2.19862675e-04, 2.19891902e-04, 2.20564713e-04, 2.20609859e-04,\n",
       "       2.21288544e-04, 2.23190294e-04, 2.23738673e-04, 2.23738673e-04,\n",
       "       2.23738673e-04, 2.23738673e-04, 2.24101650e-04, 2.24574143e-04,\n",
       "       2.28399896e-04, 2.28399896e-04, 2.28399896e-04, 2.28399896e-04,\n",
       "       2.28872773e-04, 2.30058975e-04, 2.31484900e-04, 2.32025291e-04,\n",
       "       2.32025291e-04, 2.32025291e-04, 2.32025291e-04, 2.32025291e-04,\n",
       "       2.32025291e-04, 2.32397126e-04, 2.34134612e-04, 2.34646432e-04,\n",
       "       2.34807227e-04, 2.34925607e-04, 2.35661508e-04, 2.36147814e-04,\n",
       "       2.36859151e-04, 2.37298593e-04, 2.37808912e-04, 2.38330326e-04,\n",
       "       2.38654585e-04, 2.38654585e-04, 2.40949340e-04, 2.40949340e-04,\n",
       "       2.41336144e-04, 2.41465086e-04, 2.42383563e-04, 2.42383563e-04,\n",
       "       2.43626555e-04, 2.43626555e-04, 2.43626555e-04, 2.44588131e-04,\n",
       "       2.44675163e-04, 2.44714174e-04, 2.44714174e-04, 2.44714174e-04,\n",
       "       2.44714174e-04, 2.44965163e-04, 2.47977029e-04, 2.48887594e-04,\n",
       "       2.49163522e-04, 2.49163522e-04, 2.51360732e-04, 2.51706007e-04,\n",
       "       2.51706007e-04, 2.51706007e-04, 2.52482878e-04, 2.54661904e-04,\n",
       "       2.55095987e-04, 2.57025244e-04, 2.58062220e-04, 2.58994768e-04,\n",
       "       2.59500919e-04, 2.61274822e-04, 2.61377832e-04, 2.61458594e-04,\n",
       "       2.61547620e-04, 2.61745977e-04, 2.62834894e-04, 2.63203689e-04,\n",
       "       2.65170498e-04, 2.68486408e-04, 2.70635749e-04, 2.70972393e-04,\n",
       "       2.71452019e-04, 2.71711673e-04, 2.71801055e-04, 2.71878655e-04,\n",
       "       2.71904638e-04, 2.71904638e-04, 2.76478598e-04, 2.76700968e-04,\n",
       "       2.77791818e-04, 2.78430349e-04, 2.79897527e-04, 2.80827386e-04,\n",
       "       2.82003953e-04, 2.88981725e-04, 2.90747885e-04, 2.93657009e-04,\n",
       "       2.95710554e-04, 2.95832246e-04, 2.98174809e-04, 2.98318231e-04,\n",
       "       3.02847172e-04, 3.04154892e-04, 3.05892717e-04, 3.05983352e-04,\n",
       "       3.06227888e-04, 3.07068162e-04, 3.08051960e-04, 3.09446374e-04,\n",
       "       3.09605124e-04, 3.10748157e-04, 3.11674124e-04, 3.13234143e-04,\n",
       "       3.13234143e-04, 3.16688931e-04, 3.19549970e-04, 3.19759854e-04,\n",
       "       3.21359750e-04, 3.23386698e-04, 3.28152373e-04, 3.28173185e-04,\n",
       "       3.29027461e-04, 3.29027461e-04, 3.29631701e-04, 3.31659680e-04,\n",
       "       3.32444029e-04, 3.34117544e-04, 3.37161751e-04, 3.37595239e-04,\n",
       "       3.37673646e-04, 3.40031881e-04, 3.41077177e-04, 3.42599843e-04,\n",
       "       3.42816903e-04, 3.43678358e-04, 3.43967643e-04, 3.44293424e-04,\n",
       "       3.44691418e-04, 3.49591677e-04, 3.53681795e-04, 3.62841360e-04,\n",
       "       3.69278253e-04, 3.72897789e-04, 3.74258504e-04, 3.77805058e-04,\n",
       "       3.93511683e-04, 4.13558092e-04, 4.17645523e-04, 4.20409543e-04,\n",
       "       4.20987961e-04, 4.24686176e-04, 4.30266679e-04, 4.43177652e-04,\n",
       "       4.49218810e-04, 4.53626470e-04, 4.62344513e-04, 4.74160776e-04,\n",
       "       4.98061742e-04, 5.06279713e-04, 5.07115128e-04, 5.21775092e-04,\n",
       "       5.26780128e-04, 5.39060217e-04, 5.40969316e-04, 5.48294797e-04,\n",
       "       6.17908299e-04, 6.26462615e-04, 7.03629489e-04, 8.91387965e-04,\n",
       "       9.29448875e-04, 2.61496439e-03, 6.29830698e-03])"
      ]
     },
     "execution_count": 134,
     "metadata": {},
     "output_type": "execute_result"
    }
   ],
   "source": [
    "# Cost Complexity Pruning Path:\n",
    "\n",
    "result = dt_pruning_model.cost_complexity_pruning_path(x_train,y_train)\n",
    "# result\n",
    "ccp_alpha_list = result['ccp_alphas']\n",
    "ccp_alpha_list"
   ]
  },
  {
   "cell_type": "code",
   "execution_count": 135,
   "id": "c305c796",
   "metadata": {},
   "outputs": [],
   "source": [
    "train_accuracy_list = []\n",
    "test_accuracy_list = []\n",
    "\n",
    "for ccp_alpha in ccp_alpha_list:\n",
    "    dt_pruning_model = DecisionTreeClassifier(random_state=24,ccp_alpha=ccp_alpha)\n",
    "    dt_pruning_model.fit(x_train, y_train)\n",
    "    train_accuracy_list.append(dt_pruning_model.score(x_train, y_train))\n",
    "    test_accuracy_list.append(dt_pruning_model.score(x_test, y_test))\n",
    "\n",
    "# train_accuracy_list\n",
    "# test_accuracy_list"
   ]
  },
  {
   "cell_type": "code",
   "execution_count": 136,
   "id": "8864961c",
   "metadata": {},
   "outputs": [
    {
     "data": {
      "text/plain": [
       "(array([445, 446, 447, 448, 449, 450], dtype=int64),)"
      ]
     },
     "execution_count": 136,
     "metadata": {},
     "output_type": "execute_result"
    }
   ],
   "source": [
    "np.where(test_accuracy_list==np.max(test_accuracy_list))"
   ]
  },
  {
   "cell_type": "code",
   "execution_count": 137,
   "id": "c722899a",
   "metadata": {},
   "outputs": [
    {
     "name": "stdout",
     "output_type": "stream",
     "text": [
      "0.8397703549060542\n"
     ]
    }
   ],
   "source": [
    "print(test_accuracy_list[445])"
   ]
  },
  {
   "cell_type": "code",
   "execution_count": 138,
   "id": "b9b7fe06",
   "metadata": {},
   "outputs": [
    {
     "data": {
      "text/plain": [
       "0.0006264626148736643"
      ]
     },
     "execution_count": 138,
     "metadata": {},
     "output_type": "execute_result"
    }
   ],
   "source": [
    "ccp_alpha_list[445]"
   ]
  },
  {
   "cell_type": "code",
   "execution_count": 139,
   "id": "ee81dce4",
   "metadata": {},
   "outputs": [
    {
     "data": {
      "text/plain": [
       "<matplotlib.legend.Legend at 0x21eddaf4310>"
      ]
     },
     "execution_count": 139,
     "metadata": {},
     "output_type": "execute_result"
    },
    {
     "data": {
      "image/png": "[encoded data removed]",
      "text/plain": [
       "<Figure size 432x288 with 1 Axes>"
      ]
     },
     "metadata": {},
     "output_type": "display_data"
    }
   ],
   "source": [
    "fig,ax = plt.subplots()\n",
    "ax.plot(ccp_alpha_list, train_accuracy_list, label = \"Training Data Accuracy\")\n",
    "ax.plot(ccp_alpha_list, test_accuracy_list, label = \"Test Data Accuracy\")\n",
    "ax.legend()"
   ]
  },
  {
   "cell_type": "code",
   "execution_count": 140,
   "id": "5d7b7c63",
   "metadata": {},
   "outputs": [
    {
     "data": {
      "text/plain": [
       "DecisionTreeClassifier(ccp_alpha=0.0006264626148736643, random_state=24)"
      ]
     },
     "execution_count": 140,
     "metadata": {},
     "output_type": "execute_result"
    }
   ],
   "source": [
    "dt_pruning_model = DecisionTreeClassifier(random_state=24,ccp_alpha=ccp_alpha_list[445])\n",
    "dt_pruning_model.fit(x_train, y_train)"
   ]
  },
  {
   "cell_type": "code",
   "execution_count": 141,
   "id": "9210ab19",
   "metadata": {},
   "outputs": [
    {
     "name": "stdout",
     "output_type": "stream",
     "text": [
      "confusion matrix: \n",
      " [[1609    0]\n",
      " [ 307    0]]\n",
      "**************************************************\n",
      "classification report:\n",
      "               precision    recall  f1-score   support\n",
      "\n",
      "           0       0.84      1.00      0.91      1609\n",
      "           1       0.00      0.00      0.00       307\n",
      "\n",
      "    accuracy                           0.84      1916\n",
      "   macro avg       0.42      0.50      0.46      1916\n",
      "weighted avg       0.71      0.84      0.77      1916\n",
      "\n",
      "**************************************************\n",
      "accuracy:  0.8397703549060542\n"
     ]
    }
   ],
   "source": [
    "# Testing Data Evaluation\n",
    "y_pred = dt_pruning_model.predict(x_test)\n",
    "\n",
    "cnf_matrix = confusion_matrix(y_test,y_pred)\n",
    "print(\"confusion matrix: \\n\",cnf_matrix)\n",
    "\n",
    "print('*'*50)\n",
    "clf_report = classification_report(y_test,y_pred)\n",
    "print(\"classification report:\\n\",clf_report)\n",
    "print('*'*50)\n",
    "acc = accuracy_score(y_test,y_pred)\n",
    "print(\"accuracy: \",acc)"
   ]
  },
  {
   "cell_type": "code",
   "execution_count": 142,
   "id": "c0e73888",
   "metadata": {},
   "outputs": [
    {
     "name": "stdout",
     "output_type": "stream",
     "text": [
      "confusion matrix: \n",
      " [[6436    0]\n",
      " [1226    0]]\n",
      "**************************************************\n",
      "classification report:\n",
      "               precision    recall  f1-score   support\n",
      "\n",
      "           0       0.84      1.00      0.91      6436\n",
      "           1       0.00      0.00      0.00      1226\n",
      "\n",
      "    accuracy                           0.84      7662\n",
      "   macro avg       0.42      0.50      0.46      7662\n",
      "weighted avg       0.71      0.84      0.77      7662\n",
      "\n",
      "**************************************************\n",
      "accuracy:  0.839989558861916\n"
     ]
    }
   ],
   "source": [
    "# Training Data Evaluation\n",
    "\n",
    "y_pred_train = dt_pruning_model.predict(x_train)\n",
    "\n",
    "cnf_matrix = confusion_matrix(y_train,y_pred_train)\n",
    "print(\"confusion matrix: \\n\",cnf_matrix)\n",
    "\n",
    "print('*'*50)\n",
    "clf_report = classification_report(y_train,y_pred_train)\n",
    "print(\"classification report:\\n\",clf_report)\n",
    "print('*'*50)\n",
    "acc = accuracy_score(y_train,y_pred_train)\n",
    "print(\"accuracy: \",acc)"
   ]
  },
  {
   "cell_type": "markdown",
   "id": "332d30fb",
   "metadata": {},
   "source": [
    "# Random Forest Model"
   ]
  },
  {
   "cell_type": "code",
   "execution_count": 143,
   "id": "dc70f72c",
   "metadata": {},
   "outputs": [
    {
     "data": {
      "text/plain": [
       "RandomForestClassifier()"
      ]
     },
     "execution_count": 143,
     "metadata": {},
     "output_type": "execute_result"
    }
   ],
   "source": [
    "x = df.drop(['not_fully_paid'],axis=1)\n",
    "y = df['not_fully_paid']\n",
    "x_train,x_test,y_train,y_test = train_test_split(x,y,test_size=0.2,random_state=24,stratify=y)\n",
    "rf_model = RandomForestClassifier()\n",
    "rf_model.fit(x_train,y_train)"
   ]
  },
  {
   "cell_type": "code",
   "execution_count": 144,
   "id": "737b92a7",
   "metadata": {},
   "outputs": [
    {
     "name": "stdout",
     "output_type": "stream",
     "text": [
      "Confusion Matrix :\n",
      " [[1598   11]\n",
      " [ 300    7]]\n",
      "********************************************************************************\n",
      "Accuracy : 0.8376826722338204\n",
      "********************************************************************************\n",
      "Classification Report :\n",
      "               precision    recall  f1-score   support\n",
      "\n",
      "           0       0.84      0.99      0.91      1609\n",
      "           1       0.39      0.02      0.04       307\n",
      "\n",
      "    accuracy                           0.84      1916\n",
      "   macro avg       0.62      0.51      0.48      1916\n",
      "weighted avg       0.77      0.84      0.77      1916\n",
      "\n"
     ]
    }
   ],
   "source": [
    "## Testing Data Evaluation\n",
    "\n",
    "y_pred = rf_model.predict(x_test)\n",
    "\n",
    "cnf_matrix = confusion_matrix(y_test, y_pred)\n",
    "print(\"Confusion Matrix :\\n\",cnf_matrix)\n",
    "\n",
    "print(\"*\"*80)\n",
    "accuracy = accuracy_score(y_test, y_pred)\n",
    "print(\"Accuracy :\",accuracy)\n",
    "\n",
    "print(\"*\"*80)\n",
    "clf_report = classification_report(y_test, y_pred)\n",
    "print(\"Classification Report :\\n\",clf_report)\n"
   ]
  },
  {
   "cell_type": "code",
   "execution_count": 145,
   "id": "41a95290",
   "metadata": {},
   "outputs": [
    {
     "name": "stdout",
     "output_type": "stream",
     "text": [
      "Confusion Matrix :\n",
      " [[6436    0]\n",
      " [   0 1226]]\n",
      "********************************************************************************\n",
      "Accuracy : 1.0\n",
      "********************************************************************************\n",
      "Classification Report :\n",
      "               precision    recall  f1-score   support\n",
      "\n",
      "           0       1.00      1.00      1.00      6436\n",
      "           1       1.00      1.00      1.00      1226\n",
      "\n",
      "    accuracy                           1.00      7662\n",
      "   macro avg       1.00      1.00      1.00      7662\n",
      "weighted avg       1.00      1.00      1.00      7662\n",
      "\n"
     ]
    }
   ],
   "source": [
    "## Training Data Evaluation \n",
    "\n",
    "y_pred_train = rf_model.predict(x_train)\n",
    "\n",
    "cnf_matrix = confusion_matrix(y_train, y_pred_train)\n",
    "print(\"Confusion Matrix :\\n\",cnf_matrix)\n",
    "\n",
    "print(\"*\"*80)\n",
    "accuracy = accuracy_score(y_train, y_pred_train)\n",
    "print(\"Accuracy :\",accuracy)\n",
    "\n",
    "print(\"*\"*80)\n",
    "clf_report = classification_report(y_train, y_pred_train)\n",
    "print(\"Classification Report :\\n\",clf_report)"
   ]
  },
  {
   "cell_type": "markdown",
   "id": "ce89c9f2",
   "metadata": {},
   "source": [
    "## Random Forest with hyperparamter tuning"
   ]
  },
  {
   "cell_type": "code",
   "execution_count": 146,
   "id": "36777569",
   "metadata": {},
   "outputs": [
    {
     "data": {
      "text/plain": [
       "RandomForestClassifier(criterion='entropy', max_depth=7, min_samples_leaf=4,\n",
       "                       min_samples_split=13, n_estimators=54, oob_score=True,\n",
       "                       random_state=24)"
      ]
     },
     "execution_count": 146,
     "metadata": {},
     "output_type": "execute_result"
    }
   ],
   "source": [
    "rf_hyper_model = RandomForestClassifier()\n",
    "hyperparamters = {\"n_estimators\":np.arange(10,200),\n",
    "                 \"criterion\": ['gini','entropy'],\n",
    "                 \"max_depth\": np.arange(3,8),\n",
    "                 \"min_samples_split\":np.arange(4,20),\n",
    "                 \"min_samples_leaf\":np.arange(3,10),\n",
    "                 \"oob_score\":[True],\n",
    "                 \"random_state\":[24]}\n",
    "rscv_rf_hyper_model = RandomizedSearchCV(rf_hyper_model,hyperparamters,cv=5)\n",
    "rscv_rf_hyper_model.fit(x_train,y_train)\n",
    "rscv_rf_hyper_model.best_estimator_"
   ]
  },
  {
   "cell_type": "code",
   "execution_count": 147,
   "id": "a8468cc9",
   "metadata": {},
   "outputs": [
    {
     "name": "stdout",
     "output_type": "stream",
     "text": [
      "Confusion Matrix :\n",
      " [[1609    0]\n",
      " [ 307    0]]\n",
      "********************************************************************************\n",
      "Accuracy : 0.8397703549060542\n",
      "********************************************************************************\n",
      "Classification Report :\n",
      "               precision    recall  f1-score   support\n",
      "\n",
      "           0       0.84      1.00      0.91      1609\n",
      "           1       0.00      0.00      0.00       307\n",
      "\n",
      "    accuracy                           0.84      1916\n",
      "   macro avg       0.42      0.50      0.46      1916\n",
      "weighted avg       0.71      0.84      0.77      1916\n",
      "\n"
     ]
    }
   ],
   "source": [
    "## Testing Data Evaluation\n",
    "rf_hyper_model = rscv_rf_hyper_model.best_estimator_\n",
    "y_pred = rf_hyper_model.predict(x_test)\n",
    "\n",
    "cnf_matrix = confusion_matrix(y_test, y_pred)\n",
    "print(\"Confusion Matrix :\\n\",cnf_matrix)\n",
    "\n",
    "print(\"*\"*80)\n",
    "accuracy = accuracy_score(y_test, y_pred)\n",
    "print(\"Accuracy :\",accuracy)\n",
    "\n",
    "print(\"*\"*80)\n",
    "clf_report = classification_report(y_test, y_pred)\n",
    "print(\"Classification Report :\\n\",clf_report)"
   ]
  },
  {
   "cell_type": "code",
   "execution_count": 148,
   "id": "87babfdf",
   "metadata": {},
   "outputs": [
    {
     "name": "stdout",
     "output_type": "stream",
     "text": [
      "Confusion Matrix :\n",
      " [[6436    0]\n",
      " [1217    9]]\n",
      "********************************************************************************\n",
      "Accuracy : 0.8411641868963717\n",
      "********************************************************************************\n",
      "Classification Report :\n",
      "               precision    recall  f1-score   support\n",
      "\n",
      "           0       0.84      1.00      0.91      6436\n",
      "           1       1.00      0.01      0.01      1226\n",
      "\n",
      "    accuracy                           0.84      7662\n",
      "   macro avg       0.92      0.50      0.46      7662\n",
      "weighted avg       0.87      0.84      0.77      7662\n",
      "\n"
     ]
    }
   ],
   "source": [
    "## Training Data Evaluation \n",
    "\n",
    "y_pred_train = rf_hyper_model.predict(x_train)\n",
    "\n",
    "cnf_matrix = confusion_matrix(y_train, y_pred_train)\n",
    "print(\"Confusion Matrix :\\n\",cnf_matrix)\n",
    "\n",
    "print(\"*\"*80)\n",
    "accuracy = accuracy_score(y_train, y_pred_train)\n",
    "print(\"Accuracy :\",accuracy)\n",
    "\n",
    "print(\"*\"*80)\n",
    "clf_report = classification_report(y_train, y_pred_train)\n",
    "print(\"Classification Report :\\n\",clf_report)"
   ]
  },
  {
   "cell_type": "code",
   "execution_count": 149,
   "id": "983ea538",
   "metadata": {},
   "outputs": [
    {
     "data": {
      "text/plain": [
       "<AxesSubplot:>"
      ]
     },
     "execution_count": 149,
     "metadata": {},
     "output_type": "execute_result"
    },
    {
     "data": {
      "image/png": "[encoded data removed]",
      "text/plain": [
       "<Figure size 432x288 with 1 Axes>"
      ]
     },
     "metadata": {},
     "output_type": "display_data"
    }
   ],
   "source": [
    "rf_hyper_model.feature_importances_\n",
    "s1 = pd.Series(rf_hyper_model.feature_importances_,index=x.columns)\n",
    "s1.sort_values().plot(kind='barh')"
   ]
  },
  {
   "cell_type": "code",
   "execution_count": 150,
   "id": "2f890a12",
   "metadata": {},
   "outputs": [
    {
     "data": {
      "text/plain": [
       "0.839989558861916"
      ]
     },
     "execution_count": 150,
     "metadata": {},
     "output_type": "execute_result"
    }
   ],
   "source": [
    "rf_hyper_model.oob_score_"
   ]
  },
  {
   "cell_type": "markdown",
   "id": "859f4c28",
   "metadata": {},
   "source": [
    "## Random forest with sampling"
   ]
  },
  {
   "cell_type": "code",
   "execution_count": 151,
   "id": "781b116f",
   "metadata": {},
   "outputs": [],
   "source": [
    "x = df.drop(['not_fully_paid'],axis=1)\n",
    "y = df['not_fully_paid']\n",
    "\n",
    "smt = SMOTE()\n",
    "x,y = smt.fit_resample(x,y)\n",
    "x_train,x_test,y_train,y_test = train_test_split(x,y,test_size=0.2,random_state=24,stratify=y)"
   ]
  },
  {
   "cell_type": "code",
   "execution_count": 152,
   "id": "ff27c69e",
   "metadata": {},
   "outputs": [
    {
     "data": {
      "text/plain": [
       "((12872, 13), (3218, 13), (12872,), (3218,))"
      ]
     },
     "execution_count": 152,
     "metadata": {},
     "output_type": "execute_result"
    }
   ],
   "source": [
    "x_train.shape,x_test.shape,y_train.shape,y_test.shape"
   ]
  },
  {
   "cell_type": "code",
   "execution_count": 153,
   "id": "a5eb1fdd",
   "metadata": {},
   "outputs": [
    {
     "data": {
      "text/plain": [
       "RandomForestClassifier()"
      ]
     },
     "execution_count": 153,
     "metadata": {},
     "output_type": "execute_result"
    }
   ],
   "source": [
    "rf_oversampling_model = RandomForestClassifier()\n",
    "rf_oversampling_model.fit(x_train, y_train)"
   ]
  },
  {
   "cell_type": "code",
   "execution_count": 154,
   "id": "e15f2ca6",
   "metadata": {},
   "outputs": [
    {
     "name": "stdout",
     "output_type": "stream",
     "text": [
      "Confusion Matrix :\n",
      " [[1427  182]\n",
      " [ 226 1383]]\n",
      "********************************************************************************\n",
      "Accuracy : 0.8732131758856433\n",
      "********************************************************************************\n",
      "Classification Report :\n",
      "               precision    recall  f1-score   support\n",
      "\n",
      "           0       0.86      0.89      0.87      1609\n",
      "           1       0.88      0.86      0.87      1609\n",
      "\n",
      "    accuracy                           0.87      3218\n",
      "   macro avg       0.87      0.87      0.87      3218\n",
      "weighted avg       0.87      0.87      0.87      3218\n",
      "\n"
     ]
    }
   ],
   "source": [
    "## Testing Data Evaluation\n",
    "\n",
    "y_pred = rf_oversampling_model.predict(x_test)\n",
    "\n",
    "cnf_matrix = confusion_matrix(y_test, y_pred)\n",
    "print(\"Confusion Matrix :\\n\",cnf_matrix)\n",
    "\n",
    "print(\"*\"*80)\n",
    "accuracy = accuracy_score(y_test, y_pred)\n",
    "print(\"Accuracy :\",accuracy)\n",
    "\n",
    "print(\"*\"*80)\n",
    "clf_report = classification_report(y_test, y_pred)\n",
    "print(\"Classification Report :\\n\",clf_report)\n"
   ]
  },
  {
   "cell_type": "code",
   "execution_count": 155,
   "id": "dc583c04",
   "metadata": {},
   "outputs": [
    {
     "name": "stdout",
     "output_type": "stream",
     "text": [
      "Confusion Matrix :\n",
      " [[6436    0]\n",
      " [   0 6436]]\n",
      "********************************************************************************\n",
      "Accuracy : 1.0\n",
      "********************************************************************************\n",
      "Classification Report :\n",
      "               precision    recall  f1-score   support\n",
      "\n",
      "           0       1.00      1.00      1.00      6436\n",
      "           1       1.00      1.00      1.00      6436\n",
      "\n",
      "    accuracy                           1.00     12872\n",
      "   macro avg       1.00      1.00      1.00     12872\n",
      "weighted avg       1.00      1.00      1.00     12872\n",
      "\n"
     ]
    }
   ],
   "source": [
    "## Training Data Evaluation \n",
    "\n",
    "y_pred_train = rf_oversampling_model.predict(x_train)\n",
    "\n",
    "cnf_matrix = confusion_matrix(y_train, y_pred_train)\n",
    "print(\"Confusion Matrix :\\n\",cnf_matrix)\n",
    "\n",
    "print(\"*\"*80)\n",
    "accuracy = accuracy_score(y_train, y_pred_train)\n",
    "print(\"Accuracy :\",accuracy)\n",
    "\n",
    "print(\"*\"*80)\n",
    "clf_report = classification_report(y_train, y_pred_train)\n",
    "print(\"Classification Report :\\n\",clf_report)"
   ]
  },
  {
   "cell_type": "markdown",
   "id": "5a6a4e38",
   "metadata": {},
   "source": [
    "## Random forest with hyperparamater tuning and oversampling"
   ]
  },
  {
   "cell_type": "code",
   "execution_count": 156,
   "id": "fc716fdf",
   "metadata": {},
   "outputs": [],
   "source": [
    "x = df.drop(['not_fully_paid'],axis=1)\n",
    "y = df['not_fully_paid']\n",
    "\n",
    "smt = SMOTE()\n",
    "x,y = smt.fit_resample(x,y)\n",
    "x_train,x_test,y_train,y_test = train_test_split(x,y,test_size=0.2,random_state=24,stratify=y)"
   ]
  },
  {
   "cell_type": "code",
   "execution_count": 157,
   "id": "25980819",
   "metadata": {},
   "outputs": [
    {
     "data": {
      "text/plain": [
       "RandomForestClassifier(max_depth=7, min_samples_leaf=8, min_samples_split=12,\n",
       "                       n_estimators=88, oob_score=True, random_state=24)"
      ]
     },
     "execution_count": 157,
     "metadata": {},
     "output_type": "execute_result"
    }
   ],
   "source": [
    "rf_hyper_oversampled_model = RandomForestClassifier()\n",
    "\n",
    "hyperparamters = {\"n_estimators\":np.arange(10,200),\n",
    "                 \"criterion\": ['gini','entropy'],\n",
    "                 \"max_depth\": np.arange(3,8),\n",
    "                 \"min_samples_split\":np.arange(4,20),\n",
    "                 \"min_samples_leaf\":np.arange(3,10),\n",
    "                 \"oob_score\":[True],\n",
    "                 \"random_state\":[24]}\n",
    "rscv_rf_hyper_model = RandomizedSearchCV(rf_hyper_model,hyperparamters,cv=5)\n",
    "rscv_rf_hyper_model.fit(x_train,y_train)\n",
    "rscv_rf_hyper_model.best_estimator_"
   ]
  },
  {
   "cell_type": "code",
   "execution_count": 158,
   "id": "99000c72",
   "metadata": {},
   "outputs": [
    {
     "name": "stdout",
     "output_type": "stream",
     "text": [
      "Confusion Matrix :\n",
      " [[1301  308]\n",
      " [ 517 1092]]\n",
      "********************************************************************************\n",
      "Accuracy : 0.7436295835922934\n",
      "********************************************************************************\n",
      "Classification Report :\n",
      "               precision    recall  f1-score   support\n",
      "\n",
      "           0       0.72      0.81      0.76      1609\n",
      "           1       0.78      0.68      0.73      1609\n",
      "\n",
      "    accuracy                           0.74      3218\n",
      "   macro avg       0.75      0.74      0.74      3218\n",
      "weighted avg       0.75      0.74      0.74      3218\n",
      "\n"
     ]
    }
   ],
   "source": [
    "rf_hyper_oversampled_model = rscv_rf_hyper_model.best_estimator_\n",
    "\n",
    "## Testing Data Evaluation\n",
    "\n",
    "y_pred = rf_hyper_oversampled_model.predict(x_test)\n",
    "\n",
    "cnf_matrix = confusion_matrix(y_test, y_pred)\n",
    "print(\"Confusion Matrix :\\n\",cnf_matrix)\n",
    "\n",
    "print(\"*\"*80)\n",
    "accuracy = accuracy_score(y_test, y_pred)\n",
    "print(\"Accuracy :\",accuracy)\n",
    "\n",
    "print(\"*\"*80)\n",
    "clf_report = classification_report(y_test, y_pred)\n",
    "print(\"Classification Report :\\n\",clf_report)"
   ]
  },
  {
   "cell_type": "code",
   "execution_count": 159,
   "id": "0277d2ee",
   "metadata": {},
   "outputs": [
    {
     "name": "stdout",
     "output_type": "stream",
     "text": [
      "Confusion Matrix :\n",
      " [[5271 1165]\n",
      " [1912 4524]]\n",
      "********************************************************************************\n",
      "Accuracy : 0.7609540087010566\n",
      "********************************************************************************\n",
      "Classification Report :\n",
      "               precision    recall  f1-score   support\n",
      "\n",
      "           0       0.73      0.82      0.77      6436\n",
      "           1       0.80      0.70      0.75      6436\n",
      "\n",
      "    accuracy                           0.76     12872\n",
      "   macro avg       0.76      0.76      0.76     12872\n",
      "weighted avg       0.76      0.76      0.76     12872\n",
      "\n"
     ]
    }
   ],
   "source": [
    "## Training Data Evaluation \n",
    "\n",
    "y_pred_train = rf_hyper_oversampled_model.predict(x_train)\n",
    "\n",
    "cnf_matrix = confusion_matrix(y_train, y_pred_train)\n",
    "print(\"Confusion Matrix :\\n\",cnf_matrix)\n",
    "\n",
    "print(\"*\"*80)\n",
    "accuracy = accuracy_score(y_train, y_pred_train)\n",
    "print(\"Accuracy :\",accuracy)\n",
    "\n",
    "print(\"*\"*80)\n",
    "clf_report = classification_report(y_train, y_pred_train)\n",
    "print(\"Classification Report :\\n\",clf_report)"
   ]
  },
  {
   "cell_type": "markdown",
   "id": "07f6977c",
   "metadata": {},
   "source": [
    "## Comparision of metrics"
   ]
  },
  {
   "cell_type": "code",
   "execution_count": 160,
   "id": "5ee93e2a",
   "metadata": {},
   "outputs": [
    {
     "data": {
      "text/html": [
       "<div>\n",
       "<style scoped>\n",
       "    .dataframe tbody tr th:only-of-type {\n",
       "        vertical-align: middle;\n",
       "    }\n",
       "\n",
       "    .dataframe tbody tr th {\n",
       "        vertical-align: top;\n",
       "    }\n",
       "\n",
       "    .dataframe thead th {\n",
       "        text-align: right;\n",
       "    }\n",
       "</style>\n",
       "<table border=\"1\" class=\"dataframe\">\n",
       "  <thead>\n",
       "    <tr style=\"text-align: right;\">\n",
       "      <th></th>\n",
       "      <th>ML_Models</th>\n",
       "      <th>Precision_Score</th>\n",
       "      <th>Recall_Score</th>\n",
       "      <th>f1_Score</th>\n",
       "      <th>Accuracy_Score_Test</th>\n",
       "      <th>Accuracy_Score_Train</th>\n",
       "    </tr>\n",
       "  </thead>\n",
       "  <tbody>\n",
       "    <tr>\n",
       "      <th>0</th>\n",
       "      <td>logistic_model</td>\n",
       "      <td>0.013</td>\n",
       "      <td>0.363</td>\n",
       "      <td>0.0250</td>\n",
       "      <td>0.838</td>\n",
       "      <td>0.839</td>\n",
       "    </tr>\n",
       "    <tr>\n",
       "      <th>1</th>\n",
       "      <td>log_normal_model</td>\n",
       "      <td>0.010</td>\n",
       "      <td>0.250</td>\n",
       "      <td>0.0126</td>\n",
       "      <td>0.837</td>\n",
       "      <td>0.840</td>\n",
       "    </tr>\n",
       "    <tr>\n",
       "      <th>2</th>\n",
       "      <td>log_std_model</td>\n",
       "      <td>0.000</td>\n",
       "      <td>0.000</td>\n",
       "      <td>0.0000</td>\n",
       "      <td>0.839</td>\n",
       "      <td>0.839</td>\n",
       "    </tr>\n",
       "    <tr>\n",
       "      <th>3</th>\n",
       "      <td>log_oversampled_model</td>\n",
       "      <td>0.590</td>\n",
       "      <td>0.530</td>\n",
       "      <td>0.5600</td>\n",
       "      <td>0.580</td>\n",
       "      <td>0.585</td>\n",
       "    </tr>\n",
       "    <tr>\n",
       "      <th>4</th>\n",
       "      <td>log_undersampled_model</td>\n",
       "      <td>0.600</td>\n",
       "      <td>0.600</td>\n",
       "      <td>0.6000</td>\n",
       "      <td>0.596</td>\n",
       "      <td>0.602</td>\n",
       "    </tr>\n",
       "    <tr>\n",
       "      <th>5</th>\n",
       "      <td>opt_log_model</td>\n",
       "      <td>0.010</td>\n",
       "      <td>0.360</td>\n",
       "      <td>0.0300</td>\n",
       "      <td>0.840</td>\n",
       "      <td>0.840</td>\n",
       "    </tr>\n",
       "    <tr>\n",
       "      <th>6</th>\n",
       "      <td>knn_model</td>\n",
       "      <td>0.250</td>\n",
       "      <td>0.040</td>\n",
       "      <td>0.0700</td>\n",
       "      <td>0.826</td>\n",
       "      <td>0.849</td>\n",
       "    </tr>\n",
       "    <tr>\n",
       "      <th>7</th>\n",
       "      <td>knn_hyper_model</td>\n",
       "      <td>0.000</td>\n",
       "      <td>0.000</td>\n",
       "      <td>0.0000</td>\n",
       "      <td>0.839</td>\n",
       "      <td>0.839</td>\n",
       "    </tr>\n",
       "    <tr>\n",
       "      <th>8</th>\n",
       "      <td>knn_oversampled_hyper_model</td>\n",
       "      <td>0.720</td>\n",
       "      <td>0.900</td>\n",
       "      <td>0.8000</td>\n",
       "      <td>0.772</td>\n",
       "      <td>0.881</td>\n",
       "    </tr>\n",
       "    <tr>\n",
       "      <th>9</th>\n",
       "      <td>knn_alt_model</td>\n",
       "      <td>0.310</td>\n",
       "      <td>0.020</td>\n",
       "      <td>0.0300</td>\n",
       "      <td>0.836</td>\n",
       "      <td>0.841</td>\n",
       "    </tr>\n",
       "    <tr>\n",
       "      <th>10</th>\n",
       "      <td>knn_normal_model_wt_hyper_oversampled</td>\n",
       "      <td>0.700</td>\n",
       "      <td>0.870</td>\n",
       "      <td>0.7800</td>\n",
       "      <td>0.751</td>\n",
       "      <td>0.839</td>\n",
       "    </tr>\n",
       "    <tr>\n",
       "      <th>11</th>\n",
       "      <td>dt_model</td>\n",
       "      <td>0.170</td>\n",
       "      <td>0.190</td>\n",
       "      <td>0.1800</td>\n",
       "      <td>0.723</td>\n",
       "      <td>1.000</td>\n",
       "    </tr>\n",
       "    <tr>\n",
       "      <th>12</th>\n",
       "      <td>dt_model_hyper</td>\n",
       "      <td>0.000</td>\n",
       "      <td>0.000</td>\n",
       "      <td>0.0000</td>\n",
       "      <td>0.839</td>\n",
       "      <td>0.839</td>\n",
       "    </tr>\n",
       "    <tr>\n",
       "      <th>13</th>\n",
       "      <td>dt_model_hyper_oversampled</td>\n",
       "      <td>0.000</td>\n",
       "      <td>0.000</td>\n",
       "      <td>0.0000</td>\n",
       "      <td>0.500</td>\n",
       "      <td>0.690</td>\n",
       "    </tr>\n",
       "    <tr>\n",
       "      <th>14</th>\n",
       "      <td>dt_pruning_model</td>\n",
       "      <td>0.200</td>\n",
       "      <td>0.000</td>\n",
       "      <td>0.0100</td>\n",
       "      <td>0.838</td>\n",
       "      <td>0.840</td>\n",
       "    </tr>\n",
       "    <tr>\n",
       "      <th>15</th>\n",
       "      <td>rf_model</td>\n",
       "      <td>0.470</td>\n",
       "      <td>0.020</td>\n",
       "      <td>0.0400</td>\n",
       "      <td>0.839</td>\n",
       "      <td>0.990</td>\n",
       "    </tr>\n",
       "    <tr>\n",
       "      <th>16</th>\n",
       "      <td>rf_hyper_model</td>\n",
       "      <td>0.000</td>\n",
       "      <td>0.000</td>\n",
       "      <td>0.0000</td>\n",
       "      <td>0.839</td>\n",
       "      <td>0.839</td>\n",
       "    </tr>\n",
       "    <tr>\n",
       "      <th>17</th>\n",
       "      <td>rf_oversampling_model</td>\n",
       "      <td>0.880</td>\n",
       "      <td>0.850</td>\n",
       "      <td>0.8700</td>\n",
       "      <td>0.869</td>\n",
       "      <td>1.000</td>\n",
       "    </tr>\n",
       "    <tr>\n",
       "      <th>18</th>\n",
       "      <td>rf_hyper_oversampled_model</td>\n",
       "      <td>0.770</td>\n",
       "      <td>0.690</td>\n",
       "      <td>0.7300</td>\n",
       "      <td>0.740</td>\n",
       "      <td>0.750</td>\n",
       "    </tr>\n",
       "  </tbody>\n",
       "</table>\n",
       "</div>"
      ],
      "text/plain": [
       "                                ML_Models  Precision_Score  Recall_Score  \\\n",
       "0                          logistic_model            0.013         0.363   \n",
       "1                        log_normal_model            0.010         0.250   \n",
       "2                           log_std_model            0.000         0.000   \n",
       "3                   log_oversampled_model            0.590         0.530   \n",
       "4                  log_undersampled_model            0.600         0.600   \n",
       "5                           opt_log_model            0.010         0.360   \n",
       "6                               knn_model            0.250         0.040   \n",
       "7                         knn_hyper_model            0.000         0.000   \n",
       "8             knn_oversampled_hyper_model            0.720         0.900   \n",
       "9                           knn_alt_model            0.310         0.020   \n",
       "10  knn_normal_model_wt_hyper_oversampled            0.700         0.870   \n",
       "11                               dt_model            0.170         0.190   \n",
       "12                         dt_model_hyper            0.000         0.000   \n",
       "13             dt_model_hyper_oversampled            0.000         0.000   \n",
       "14                       dt_pruning_model            0.200         0.000   \n",
       "15                               rf_model            0.470         0.020   \n",
       "16                         rf_hyper_model            0.000         0.000   \n",
       "17                  rf_oversampling_model            0.880         0.850   \n",
       "18             rf_hyper_oversampled_model            0.770         0.690   \n",
       "\n",
       "    f1_Score  Accuracy_Score_Test  Accuracy_Score_Train  \n",
       "0     0.0250                0.838                 0.839  \n",
       "1     0.0126                0.837                 0.840  \n",
       "2     0.0000                0.839                 0.839  \n",
       "3     0.5600                0.580                 0.585  \n",
       "4     0.6000                0.596                 0.602  \n",
       "5     0.0300                0.840                 0.840  \n",
       "6     0.0700                0.826                 0.849  \n",
       "7     0.0000                0.839                 0.839  \n",
       "8     0.8000                0.772                 0.881  \n",
       "9     0.0300                0.836                 0.841  \n",
       "10    0.7800                0.751                 0.839  \n",
       "11    0.1800                0.723                 1.000  \n",
       "12    0.0000                0.839                 0.839  \n",
       "13    0.0000                0.500                 0.690  \n",
       "14    0.0100                0.838                 0.840  \n",
       "15    0.0400                0.839                 0.990  \n",
       "16    0.0000                0.839                 0.839  \n",
       "17    0.8700                0.869                 1.000  \n",
       "18    0.7300                0.740                 0.750  "
      ]
     },
     "execution_count": 160,
     "metadata": {},
     "output_type": "execute_result"
    }
   ],
   "source": [
    "model_metrics = pd.DataFrame(columns=['Precision_Score','Recall_Score','f1_Score','Accuracy_Score_Test',\n",
    "                                      'Accuracy_Score_Train'])\n",
    "\n",
    "list1 = ['logistic_model','log_normal_model','log_std_model','log_oversampled_model',\n",
    "                                   'log_undersampled_model','opt_log_model','knn_model','knn_hyper_model',\n",
    "                                   'knn_oversampled_hyper_model','knn_alt_model','knn_normal_model_wt_hyper_oversampled',\n",
    "                                   'dt_model','dt_model_hyper','dt_model_hyper_oversampled','dt_pruning_model',\n",
    "                                   'rf_model','rf_hyper_model','rf_oversampling_model','rf_hyper_oversampled_model']\n",
    "\n",
    "model_metrics.insert(0,\"ML_Models\",list1)\n",
    "model_metrics\n",
    "model_metrics['Precision_Score'] = [0.013,0.01,0,0.59,0.6,0.01,0.25,0,0.72,0.31,0.70,0.17,0,0,0.2,0.47,0,0.88,0.77]\n",
    "\n",
    "model_metrics['Recall_Score'] = [0.363,0.25,0,0.53,0.6,0.36,0.04,0,0.90,0.02,0.87,0.19,0,0,0,0.02,0,0.85,0.69]\n",
    "\n",
    "model_metrics['f1_Score'] = [0.025,0.0126,0,0.56,0.6,0.03,0.07,0,0.80,0.03,0.78,0.18,0,0,0.01,0.04,0,0.87,0.73]\n",
    "\n",
    "model_metrics['Accuracy_Score_Test'] = [0.838,0.837,0.839,0.58,0.596,0.84,0.826, 0.839,0.772,0.836,0.751,0.723,0.839,0.5,\n",
    "                                       0.838,0.839,0.839,0.869,0.740]\n",
    "\n",
    "model_metrics['Accuracy_Score_Train'] = [0.839,0.840,0.839,0.585,0.602,0.84,0.849,0.839,0.881,0.841,0.839,1.0,0.839,0.69,\n",
    "                                        0.840,0.99,0.839,1.0,0.75]\n",
    "\n",
    "model_metrics\n",
    "\n",
    "# opt_log_model\n",
    "# knn_normal_model_wt_hyper_oversampled\n",
    "# dt_model\n",
    "# rf_hyper_oversampled_model"
   ]
  },
  {
   "cell_type": "markdown",
   "id": "ea67f968",
   "metadata": {},
   "source": [
    "## BarPlots for comparisions"
   ]
  },
  {
   "cell_type": "code",
   "execution_count": 161,
   "id": "909197f2",
   "metadata": {},
   "outputs": [
    {
     "data": {
      "text/plain": [
       "Text(0, 0.5, 'ML Models')"
      ]
     },
     "execution_count": 161,
     "metadata": {},
     "output_type": "execute_result"
    },
    {
     "data": {
      "image/png": "[encoded data removed]",
      "text/plain": [
       "<Figure size 792x504 with 1 Axes>"
      ]
     },
     "metadata": {},
     "output_type": "display_data"
    }
   ],
   "source": [
    "models = ['logistic_model','log_normal_model','log_std_model','log_oversampled_model',\n",
    "                                   'log_undersampled_model','opt_log_model','knn_model','knn_hyper_model',\n",
    "                                   'knn_oversampled_hyper_model','knn_alt_model','knn_normal_model_wt_hyper_oversampled',\n",
    "                                   'dt_model','dt_model_hyper','dt_model_hyper_oversampled','dt_pruning_model',\n",
    "                                   'rf_model','rf_hyper_model','rf_oversampling_model','rf_hyper_oversampled_model']\n",
    "\n",
    "Accuracy_Score_Test = [0.838,0.837,0.839,0.58,0.596,0.84,0.826, 0.839,0.772,0.836,0.751,0.723,0.839,0.5,\n",
    "                                       0.838,0.839,0.839,0.869,0.740]\n",
    "plt.figure(figsize=(11,7))\n",
    "ax=sns.barplot(y=models,x=Accuracy_Score_Test)\n",
    "ax.set_xlabel('Accuracy Test Data',fontsize=20)\n",
    "ax.set_ylabel('ML Models',fontsize=20)"
   ]
  },
  {
   "cell_type": "markdown",
   "id": "3d2efa93",
   "metadata": {},
   "source": [
    "### Best Algorithms from each one"
   ]
  },
  {
   "cell_type": "code",
   "execution_count": 166,
   "id": "413b2fc1",
   "metadata": {},
   "outputs": [
    {
     "data": {
      "text/html": [
       "<div>\n",
       "<style scoped>\n",
       "    .dataframe tbody tr th:only-of-type {\n",
       "        vertical-align: middle;\n",
       "    }\n",
       "\n",
       "    .dataframe tbody tr th {\n",
       "        vertical-align: top;\n",
       "    }\n",
       "\n",
       "    .dataframe thead th {\n",
       "        text-align: right;\n",
       "    }\n",
       "</style>\n",
       "<table border=\"1\" class=\"dataframe\">\n",
       "  <thead>\n",
       "    <tr style=\"text-align: right;\">\n",
       "      <th></th>\n",
       "      <th>ML_Models</th>\n",
       "      <th>Precision_Score</th>\n",
       "      <th>Recall_Score</th>\n",
       "      <th>f1_Score</th>\n",
       "      <th>Accuracy_Score_Test</th>\n",
       "      <th>Accuracy_Score_Train</th>\n",
       "    </tr>\n",
       "  </thead>\n",
       "  <tbody>\n",
       "    <tr>\n",
       "      <th>0</th>\n",
       "      <td>opt_log_model</td>\n",
       "      <td>0.01</td>\n",
       "      <td>0.36</td>\n",
       "      <td>0.03</td>\n",
       "      <td>0.840</td>\n",
       "      <td>0.840</td>\n",
       "    </tr>\n",
       "    <tr>\n",
       "      <th>1</th>\n",
       "      <td>knn_normal_model_wt_hyper_oversampled</td>\n",
       "      <td>0.70</td>\n",
       "      <td>0.87</td>\n",
       "      <td>0.78</td>\n",
       "      <td>0.751</td>\n",
       "      <td>0.839</td>\n",
       "    </tr>\n",
       "    <tr>\n",
       "      <th>2</th>\n",
       "      <td>dt_model</td>\n",
       "      <td>0.17</td>\n",
       "      <td>0.19</td>\n",
       "      <td>0.18</td>\n",
       "      <td>0.723</td>\n",
       "      <td>1.000</td>\n",
       "    </tr>\n",
       "    <tr>\n",
       "      <th>3</th>\n",
       "      <td>rf_hyper_oversampled_model</td>\n",
       "      <td>0.77</td>\n",
       "      <td>0.69</td>\n",
       "      <td>0.73</td>\n",
       "      <td>0.740</td>\n",
       "      <td>0.750</td>\n",
       "    </tr>\n",
       "  </tbody>\n",
       "</table>\n",
       "</div>"
      ],
      "text/plain": [
       "                               ML_Models  Precision_Score  Recall_Score  \\\n",
       "0                          opt_log_model             0.01          0.36   \n",
       "1  knn_normal_model_wt_hyper_oversampled             0.70          0.87   \n",
       "2                               dt_model             0.17          0.19   \n",
       "3             rf_hyper_oversampled_model             0.77          0.69   \n",
       "\n",
       "   f1_Score  Accuracy_Score_Test  Accuracy_Score_Train  \n",
       "0      0.03                0.840                 0.840  \n",
       "1      0.78                0.751                 0.839  \n",
       "2      0.18                0.723                 1.000  \n",
       "3      0.73                0.740                 0.750  "
      ]
     },
     "execution_count": 166,
     "metadata": {},
     "output_type": "execute_result"
    }
   ],
   "source": [
    "model_metrics = pd.DataFrame(columns=['Precision_Score','Recall_Score','f1_Score','Accuracy_Score_Test',\n",
    "                                      'Accuracy_Score_Train'])\n",
    "list1 = ['opt_log_model','knn_normal_model_wt_hyper_oversampled', 'dt_model', 'rf_hyper_oversampled_model']\n",
    "\n",
    "model_metrics.insert(0,\"ML_Models\",list1)\n",
    "\n",
    "model_metrics['Precision_Score'] = [0.010,0.70,0.17,0.77]\n",
    "\n",
    "model_metrics['Recall_Score'] = [0.36,0.87,0.19,0.69]\n",
    "\n",
    "model_metrics['f1_Score'] = [0.03,0.78,0.18,0.73]\n",
    "\n",
    "model_metrics['Accuracy_Score_Test'] = [0.84,0.751,0.723,0.740]\n",
    "\n",
    "model_metrics['Accuracy_Score_Train'] = [0.840,0.839,1.0,0.750]\n",
    "\n",
    "model_metrics"
   ]
  },
  {
   "cell_type": "code",
   "execution_count": 186,
   "id": "335c9b63",
   "metadata": {},
   "outputs": [
    {
     "data": {
      "text/plain": [
       "<Figure size 792x504 with 0 Axes>"
      ]
     },
     "metadata": {},
     "output_type": "display_data"
    },
    {
     "data": {
      "image/png": "[encoded data removed]",
      "text/plain": [
       "<Figure size 432x288 with 1 Axes>"
      ]
     },
     "metadata": {},
     "output_type": "display_data"
    }
   ],
   "source": [
    "dict1 = {'Accuracy_Score_Test' : [0.84,0.751,0.723,0.740],'Accuracy_Score_Train' :[0.840,0.839,1.0,0.750]}\n",
    "\n",
    "data = pd.DataFrame(dict1,columns=['Accuracy_Score_Test','Accuracy_Score_Train'],\n",
    "                    index=['opt_log_model','knn_normal_model_wt_hyper_oversampled', 'dt_model', 'rf_hyper_oversampled_model'])\n",
    "\n",
    "plt.figure(figsize=(11,7))\n",
    "data.plot.barh()\n",
    "plt.show()\n"
   ]
  },
  {
   "cell_type": "code",
   "execution_count": 187,
   "id": "f3ac3d1c",
   "metadata": {},
   "outputs": [],
   "source": [
    "# from the above comparision we can say that rf_hyper_oversampled_model is performing well at all paramters and also \n",
    "# overfitting is very less"
   ]
  },
  {
   "cell_type": "code",
   "execution_count": 188,
   "id": "8211f851",
   "metadata": {},
   "outputs": [],
   "source": [
    "# for this to work we have to separate scaled models and sampled models till that use above\n",
    "\n",
    "\n",
    "\n",
    "# models = ['logistic_model','log_normal_model','log_std_model','log_oversampled_model',\n",
    "#                                    'log_undersampled_model','opt_log_model','knn_model','knn_hyper_model',\n",
    "#                                    'knn_oversampled_hyper_model','knn_alt_model','knn_normal_model_wt_hyper_oversampled',\n",
    "#                                    'dt_model','dt_model_hyper','dt_model_hyper_oversampled','dt_pruning_model',\n",
    "#                                    'rf_model','rf_hyper_model','rf_oversampling_model','rf_hyper_oversampled_model']\n",
    "\n",
    "\n",
    "# def Compare_Accuracy(logistic_model,log_normal_model,log_std_model,log_oversampled_model,\n",
    "#                                    log_undersampled_model,opt_log_model,knn_model,knn_hyper_model,\n",
    "#                                    knn_oversampled_hyper_model,knn_alt_model,knn_normal_model_wt_hyper_oversampled,\n",
    "#                                    dt_model,dt_model_hyper,dt_model_hyper_oversampled,dt_pruning_model,\n",
    "#                                    rf_model,rf_hyper_model,rf_oversampling_model,rf_hyper_oversampled_model):\n",
    "\n",
    "#     train_accuracy=[]\n",
    "#     test_accuracy=[]\n",
    "#     recall=[]\n",
    "#     precision=[]\n",
    "#     x = df.drop(['not_fully_paid'],axis=1)\n",
    "#     y = df['not_fully_paid']\n",
    "#     x_train,x_test,y_train,y_test = train_test_split(x,y,test_size=0.2,random_state=24,stratify=y)\n",
    "    \n",
    "#     for i in [logistic_model,log_normal_model,log_std_model,log_oversampled_model,\n",
    "#                                    log_undersampled_model,opt_log_model,knn_model,knn_hyper_model,\n",
    "#                                    knn_oversampled_hyper_model,knn_alt_model,knn_normal_model_wt_hyper_oversampled,\n",
    "#                                    dt_model,dt_model_hyper,dt_model_hyper_oversampled,dt_pruning_model,\n",
    "#                                    rf_model,rf_hyper_model,rf_oversampling_model,rf_hyper_oversampled_model]:\n",
    "        \n",
    "        \n",
    "#         y_pred_train=i.predict(x_train)\n",
    "#         train_accuracy.append(accuracy_score(y_train,y_pred_train))\n",
    "#         precision.append(precision_score(y_train,y_pred_train))\n",
    "    \n",
    "#         y_pred_test=i.predict(x_test)\n",
    "#         test_accuracy.append(accuracy_score(y_test,y_pred_test))\n",
    "#         recall.append(recall_score(y_test,y_pred_test))\n",
    "\n",
    "#     accuracy_comp=pd.DataFrame({\"train_accuracy\":train_accuracy,\n",
    "#                             \"test_accuracy\":test_accuracy,\n",
    "#                             \"recall\":recall,\n",
    "#                              \"precision\":precision},index=models)\n",
    "#     return accuracy_comp\n",
    "# Compare_Accuracy(logistic_model,log_normal_model,log_std_model,log_oversampled_model,\n",
    "#                                    log_undersampled_model,opt_log_model,knn_model,knn_hyper_model,\n",
    "#                                    knn_oversampled_hyper_model,knn_alt_model,knn_normal_model_wt_hyper_oversampled,\n",
    "#                                    dt_model,dt_model_hyper,dt_model_hyper_oversampled,dt_pruning_model,\n",
    "#                                    rf_model,rf_hyper_model,rf_oversampling_model,rf_hyper_oversampled_model)"
   ]
  },
  {
   "cell_type": "markdown",
   "id": "a76ac25c",
   "metadata": {},
   "source": [
    "## Testing on Single Row"
   ]
  },
  {
   "cell_type": "code",
   "execution_count": 189,
   "id": "b887f029",
   "metadata": {},
   "outputs": [
    {
     "data": {
      "text/plain": [
       "Index(['credit_policy', 'purpose', 'int_rate', 'installment', 'log_annual_inc',\n",
       "       'dti', 'fico', 'days_with_cr_line', 'revol_bal', 'revol_util',\n",
       "       'inq_last_6mths', 'delinq_2yrs', 'pub_rec'],\n",
       "      dtype='object')"
      ]
     },
     "execution_count": 189,
     "metadata": {},
     "output_type": "execute_result"
    }
   ],
   "source": [
    "x.columns"
   ]
  },
  {
   "cell_type": "code",
   "execution_count": 190,
   "id": "b526f1fb",
   "metadata": {},
   "outputs": [
    {
     "data": {
      "text/html": [
       "<div>\n",
       "<style scoped>\n",
       "    .dataframe tbody tr th:only-of-type {\n",
       "        vertical-align: middle;\n",
       "    }\n",
       "\n",
       "    .dataframe tbody tr th {\n",
       "        vertical-align: top;\n",
       "    }\n",
       "\n",
       "    .dataframe thead th {\n",
       "        text-align: right;\n",
       "    }\n",
       "</style>\n",
       "<table border=\"1\" class=\"dataframe\">\n",
       "  <thead>\n",
       "    <tr style=\"text-align: right;\">\n",
       "      <th></th>\n",
       "      <th>credit_policy</th>\n",
       "      <th>purpose</th>\n",
       "      <th>int_rate</th>\n",
       "      <th>installment</th>\n",
       "      <th>log_annual_inc</th>\n",
       "      <th>dti</th>\n",
       "      <th>fico</th>\n",
       "      <th>days_with_cr_line</th>\n",
       "      <th>revol_bal</th>\n",
       "      <th>revol_util</th>\n",
       "      <th>inq_last_6mths</th>\n",
       "      <th>delinq_2yrs</th>\n",
       "      <th>pub_rec</th>\n",
       "      <th>not_fully_paid</th>\n",
       "    </tr>\n",
       "  </thead>\n",
       "  <tbody>\n",
       "    <tr>\n",
       "      <th>0</th>\n",
       "      <td>1</td>\n",
       "      <td>1</td>\n",
       "      <td>0.1189</td>\n",
       "      <td>829.1</td>\n",
       "      <td>11.350407</td>\n",
       "      <td>19.48</td>\n",
       "      <td>737.0</td>\n",
       "      <td>5639.958333</td>\n",
       "      <td>28854.0</td>\n",
       "      <td>52.1</td>\n",
       "      <td>0</td>\n",
       "      <td>0</td>\n",
       "      <td>0</td>\n",
       "      <td>0</td>\n",
       "    </tr>\n",
       "  </tbody>\n",
       "</table>\n",
       "</div>"
      ],
      "text/plain": [
       "   credit_policy  purpose  int_rate  installment  log_annual_inc    dti  \\\n",
       "0              1        1    0.1189        829.1       11.350407  19.48   \n",
       "\n",
       "    fico  days_with_cr_line  revol_bal  revol_util  inq_last_6mths  \\\n",
       "0  737.0        5639.958333    28854.0        52.1               0   \n",
       "\n",
       "   delinq_2yrs  pub_rec  not_fully_paid  \n",
       "0            0        0               0  "
      ]
     },
     "execution_count": 190,
     "metadata": {},
     "output_type": "execute_result"
    }
   ],
   "source": [
    "df.head(1)"
   ]
  },
  {
   "cell_type": "code",
   "execution_count": 203,
   "id": "2220650d",
   "metadata": {},
   "outputs": [],
   "source": [
    "credit_policy = 1\n",
    "purpose = 'debt_consolidation'\n",
    "int_rate = 0.2189\n",
    "installment = 829.1\n",
    "log_annual_inc = 11.350\n",
    "dti = 19.48\n",
    "fico = 737\n",
    "days_with_cr_line = 5639.95\n",
    "revol_bal = 28854\n",
    "revol_util = 52.1\n",
    "inq_last_6mths = 0\n",
    "delinq_2yrs = 0\n",
    "pub_rec = 0"
   ]
  },
  {
   "cell_type": "code",
   "execution_count": 204,
   "id": "d5bf8e09",
   "metadata": {},
   "outputs": [],
   "source": [
    "# For label encoded data\n",
    "project_data = {'purpose':{'debt_consolidation': 1,'all_other': 2,'credit_card': 3,'home_improvement': 4,\n",
    "                'small_business': 5,'major_purchase': 6, 'educational': 7},\n",
    "               'columns':list(x.columns)}"
   ]
  },
  {
   "cell_type": "code",
   "execution_count": 205,
   "id": "57caa511",
   "metadata": {},
   "outputs": [
    {
     "data": {
      "text/plain": [
       "array([    1,     1,     0,   829,    11,    19,   737,  5639, 28854,\n",
       "          52,     0,     0,     0])"
      ]
     },
     "execution_count": 205,
     "metadata": {},
     "output_type": "execute_result"
    }
   ],
   "source": [
    "test_array = np.zeros(x.shape[1],dtype=int)\n",
    "\n",
    "test_array[0] = credit_policy\n",
    "test_array[1] = project_data['purpose'][purpose]\n",
    "test_array[2] = int_rate\n",
    "test_array[3] = installment\n",
    "test_array[4] = log_annual_inc\n",
    "test_array[5] = dti\n",
    "test_array[6] = fico\n",
    "test_array[7] = days_with_cr_line\n",
    "test_array[8] = revol_bal\n",
    "test_array[9] = revol_util\n",
    "test_array[10] = inq_last_6mths\n",
    "test_array[11] = delinq_2yrs\n",
    "test_array[12] = pub_rec\n",
    "\n",
    "test_array"
   ]
  },
  {
   "cell_type": "code",
   "execution_count": 206,
   "id": "c5f9e2f3",
   "metadata": {},
   "outputs": [
    {
     "data": {
      "text/plain": [
       "0"
      ]
     },
     "execution_count": 206,
     "metadata": {},
     "output_type": "execute_result"
    }
   ],
   "source": [
    "model = rf_hyper_oversampled_model\n",
    "model.predict([test_array])[0]"
   ]
  },
  {
   "cell_type": "markdown",
   "id": "5cd49396",
   "metadata": {},
   "source": [
    "### Dump Data"
   ]
  },
  {
   "cell_type": "code",
   "execution_count": 207,
   "id": "d66038f8",
   "metadata": {},
   "outputs": [],
   "source": [
    "with open(\"loan_model.pkl\",'wb') as f:\n",
    "    pickle.dump(model,f)"
   ]
  },
  {
   "cell_type": "code",
   "execution_count": 208,
   "id": "cf6dfc79",
   "metadata": {},
   "outputs": [],
   "source": [
    "with open(\"project_data.json\",'w') as f:\n",
    "    json.dump(project_data,f)"
   ]
  },
  {
   "cell_type": "code",
   "execution_count": null,
   "id": "1cf64f00",
   "metadata": {},
   "outputs": [],
   "source": []
  }
 ],
 "metadata": {
  "kernelspec": {
   "display_name": "Python 3 (ipykernel)",
   "language": "python",
   "name": "python3"
  },
  "language_info": {
   "codemirror_mode": {
    "name": "ipython",
    "version": 3
   },
   "file_extension": ".py",
   "mimetype": "text/x-python",
   "name": "python",
   "nbconvert_exporter": "python",
   "pygments_lexer": "ipython3",
   "version": "3.9.12"
  },
  "vscode": {
   "interpreter": {
    "hash": "11938c6bc6919ae2720b4d5011047913343b08a43b18698fd82dedb0d4417594"
   }
  }
 },
 "nbformat": 4,
 "nbformat_minor": 5
}
